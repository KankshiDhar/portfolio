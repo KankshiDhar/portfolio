{
  "nbformat": 4,
  "nbformat_minor": 0,
  "metadata": {
    "colab": {
      "name": "JLTextMining(Step2).ipynb",
      "provenance": [],
      "collapsed_sections": [],
      "authorship_tag": "ABX9TyMsnA1hgqBu5iemcSgiTqbe",
      "include_colab_link": true
    },
    "kernelspec": {
      "name": "python3",
      "display_name": "Python 3"
    }
  },
  "cells": [
    {
      "cell_type": "markdown",
      "metadata": {
        "id": "view-in-github",
        "colab_type": "text"
      },
      "source": [
        "<a href=\"https://colab.research.google.com/github/KankshiDhar/portfolio/blob/master/JLTextMining(Step2).ipynb\" target=\"_parent\"><img src=\"https://colab.research.google.com/assets/colab-badge.svg\" alt=\"Open In Colab\"/></a>"
      ]
    },
    {
      "cell_type": "code",
      "metadata": {
        "id": "mR4g_6qxQuel",
        "colab_type": "code",
        "colab": {
          "base_uri": "https://localhost:8080/",
          "height": 101
        },
        "outputId": "a8894b92-4562-4282-f718-4559bfb26434"
      },
      "source": [
        "!pip install num2words\n",
        "!pip install plotly"
      ],
      "execution_count": 9,
      "outputs": [
        {
          "output_type": "stream",
          "text": [
            "Requirement already satisfied: num2words in /usr/local/lib/python3.6/dist-packages (0.5.10)\n",
            "Requirement already satisfied: docopt>=0.6.2 in /usr/local/lib/python3.6/dist-packages (from num2words) (0.6.2)\n",
            "Requirement already satisfied: plotly in /usr/local/lib/python3.6/dist-packages (4.4.1)\n",
            "Requirement already satisfied: six in /usr/local/lib/python3.6/dist-packages (from plotly) (1.15.0)\n",
            "Requirement already satisfied: retrying>=1.3.3 in /usr/local/lib/python3.6/dist-packages (from plotly) (1.3.3)\n"
          ],
          "name": "stdout"
        }
      ]
    },
    {
      "cell_type": "code",
      "metadata": {
        "id": "Ch8k-nNJQjWw",
        "colab_type": "code",
        "colab": {}
      },
      "source": [
        "from nltk.corpus import stopwords\n",
        "from nltk.tokenize import word_tokenize\n",
        "from nltk.stem import PorterStemmer\n",
        "from collections import Counter\n",
        "from num2words import num2words\n",
        "\n",
        "import nltk\n",
        "import os\n",
        "import string\n",
        "import numpy as np\n",
        "import copy\n",
        "import pandas as pd\n",
        "import pickle\n",
        "import re\n",
        "import math\n",
        "import string\n",
        "\n",
        "from tkinter import filedialog\n",
        "from tkinter import *\n",
        "\n",
        "from plotly import __version__\n",
        "from plotly.offline import download_plotlyjs, init_notebook_mode, plot, iplot\n",
        "import plotly.graph_objs as go"
      ],
      "execution_count": 10,
      "outputs": []
    },
    {
      "cell_type": "code",
      "metadata": {
        "id": "5WF5ge6ZQ6El",
        "colab_type": "code",
        "colab": {
          "resources": {
            "http://localhost:8080/nbextensions/google.colab/files.js": {
              "data": "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",
              "ok": true,
              "headers": [
                [
                  "content-type",
                  "application/javascript"
                ]
              ],
              "status": 200,
              "status_text": ""
            }
          },
          "base_uri": "https://localhost:8080/",
          "height": 73
        },
        "outputId": "32c26ed5-7f36-4dd8-9a57-a7d5cb1d17dd"
      },
      "source": [
        "### Select jlByFunction.csv file from your working directory ###\n",
        "\n",
        "from google.colab import files\n",
        "uploaded = files.upload()"
      ],
      "execution_count": 11,
      "outputs": [
        {
          "output_type": "display_data",
          "data": {
            "text/html": [
              "\n",
              "     <input type=\"file\" id=\"files-b12ab540-1d61-4020-8d51-ba4ef8f9da9d\" name=\"files[]\" multiple disabled\n",
              "        style=\"border:none\" />\n",
              "     <output id=\"result-b12ab540-1d61-4020-8d51-ba4ef8f9da9d\">\n",
              "      Upload widget is only available when the cell has been executed in the\n",
              "      current browser session. Please rerun this cell to enable.\n",
              "      </output>\n",
              "      <script src=\"/nbextensions/google.colab/files.js\"></script> "
            ],
            "text/plain": [
              "<IPython.core.display.HTML object>"
            ]
          },
          "metadata": {
            "tags": []
          }
        },
        {
          "output_type": "stream",
          "text": [
            "Saving jlByFunction.csv to jlByFunction.csv\n"
          ],
          "name": "stdout"
        }
      ]
    },
    {
      "cell_type": "code",
      "metadata": {
        "id": "FFMd8EHxaKnU",
        "colab_type": "code",
        "colab": {
          "base_uri": "https://localhost:8080/",
          "height": 686
        },
        "outputId": "2c263453-2a93-4c5f-f68c-6ccb9daee3b2"
      },
      "source": [
        "jobs = pd.read_csv('jlByFunction.csv')\n",
        "jobs.head()"
      ],
      "execution_count": 12,
      "outputs": [
        {
          "output_type": "execute_result",
          "data": {
            "text/html": [
              "<div>\n",
              "<style scoped>\n",
              "    .dataframe tbody tr th:only-of-type {\n",
              "        vertical-align: middle;\n",
              "    }\n",
              "\n",
              "    .dataframe tbody tr th {\n",
              "        vertical-align: top;\n",
              "    }\n",
              "\n",
              "    .dataframe thead th {\n",
              "        text-align: right;\n",
              "    }\n",
              "</style>\n",
              "<table border=\"1\" class=\"dataframe\">\n",
              "  <thead>\n",
              "    <tr style=\"text-align: right;\">\n",
              "      <th></th>\n",
              "      <th>Unnamed: 0</th>\n",
              "      <th>Company Name</th>\n",
              "      <th>Industry</th>\n",
              "      <th>Job Description</th>\n",
              "      <th>Job_Function</th>\n",
              "      <th>Job Posting Date</th>\n",
              "      <th>Job Status</th>\n",
              "      <th>Job Title</th>\n",
              "      <th>Job Type</th>\n",
              "      <th>Location</th>\n",
              "      <th>Student Groups</th>\n",
              "      <th>US Work Auth Requirement</th>\n",
              "      <th>Unique ID</th>\n",
              "      <th>month</th>\n",
              "      <th>day</th>\n",
              "      <th>year</th>\n",
              "    </tr>\n",
              "  </thead>\n",
              "  <tbody>\n",
              "    <tr>\n",
              "      <th>0</th>\n",
              "      <td>0</td>\n",
              "      <td>BDO USA, LLP</td>\n",
              "      <td>Other</td>\n",
              "      <td>BDO’s summer leadership program, Pathway to Su...</td>\n",
              "      <td>Other</td>\n",
              "      <td>2/16/2011 0:00</td>\n",
              "      <td>Approved</td>\n",
              "      <td>Pathway To Success Summer Leadership Program S...</td>\n",
              "      <td>Temporary/Seasonal</td>\n",
              "      <td>NaN</td>\n",
              "      <td>NaN</td>\n",
              "      <td>Position requires permanent US Work Authorization</td>\n",
              "      <td>15111.0</td>\n",
              "      <td>2</td>\n",
              "      <td>16</td>\n",
              "      <td>2011</td>\n",
              "    </tr>\n",
              "    <tr>\n",
              "      <th>1</th>\n",
              "      <td>1</td>\n",
              "      <td>McKinsey &amp; Company</td>\n",
              "      <td>Consulting - Other</td>\n",
              "      <td>\\rSpecialists are dedicated to working with cl...</td>\n",
              "      <td>Marketing/Business/Sales Management</td>\n",
              "      <td>7/20/2011 13:10</td>\n",
              "      <td>Approved</td>\n",
              "      <td>Marketing Analytic Specialists</td>\n",
              "      <td>Full-Time</td>\n",
              "      <td>NORTH AMERICA, NORTH AMERICA - USA, NORTH AMER...</td>\n",
              "      <td>Alumni - MBAs</td>\n",
              "      <td>Position requires permanent US Work Authorization</td>\n",
              "      <td>1937461.0</td>\n",
              "      <td>7</td>\n",
              "      <td>20</td>\n",
              "      <td>2011</td>\n",
              "    </tr>\n",
              "    <tr>\n",
              "      <th>2</th>\n",
              "      <td>2</td>\n",
              "      <td>First Annapolis Consulting</td>\n",
              "      <td>Other</td>\n",
              "      <td>First Annapolis Consulting, Inc., offers a car...</td>\n",
              "      <td>Other</td>\n",
              "      <td>2/22/2011 0:00</td>\n",
              "      <td>Approved</td>\n",
              "      <td>Consultant</td>\n",
              "      <td>Full-Time</td>\n",
              "      <td>NaN</td>\n",
              "      <td>NaN</td>\n",
              "      <td>Position requires permanent US Work Authorization</td>\n",
              "      <td>14200.0</td>\n",
              "      <td>2</td>\n",
              "      <td>22</td>\n",
              "      <td>2011</td>\n",
              "    </tr>\n",
              "    <tr>\n",
              "      <th>3</th>\n",
              "      <td>3</td>\n",
              "      <td>JK Group, Inc.</td>\n",
              "      <td>Consulting - Technology</td>\n",
              "      <td>PRIMARY RESPONSIBILITIES Manage the company’s ...</td>\n",
              "      <td>Marketing/Business/Sales Management</td>\n",
              "      <td>7/20/2011 11:19</td>\n",
              "      <td>Approved</td>\n",
              "      <td>VP Operations</td>\n",
              "      <td>Full-Time</td>\n",
              "      <td>NORTH AMERICA - USA - USA - NORTHEAST - New Je...</td>\n",
              "      <td>MBAs Seeking Full-Time, Alumni - MBAs</td>\n",
              "      <td>Position requires permanent US Work Authorization</td>\n",
              "      <td>1937418.0</td>\n",
              "      <td>7</td>\n",
              "      <td>20</td>\n",
              "      <td>2011</td>\n",
              "    </tr>\n",
              "    <tr>\n",
              "      <th>4</th>\n",
              "      <td>4</td>\n",
              "      <td>EPIC Academy Charter High School</td>\n",
              "      <td>Education</td>\n",
              "      <td>\\rEPIC Academy’s early work as a startup organ...</td>\n",
              "      <td>Financial Services</td>\n",
              "      <td>7/20/2011 7:31</td>\n",
              "      <td>Approved</td>\n",
              "      <td>Chief Finance and Operations Officer</td>\n",
              "      <td>Full-Time</td>\n",
              "      <td>NORTH AMERICA - USA - USA - MIDWEST - Illinois...</td>\n",
              "      <td>MBAs Seeking Full-Time, Alumni - MBAs</td>\n",
              "      <td>Position requires permanent US Work Authorization</td>\n",
              "      <td>1937376.0</td>\n",
              "      <td>7</td>\n",
              "      <td>20</td>\n",
              "      <td>2011</td>\n",
              "    </tr>\n",
              "  </tbody>\n",
              "</table>\n",
              "</div>"
            ],
            "text/plain": [
              "   Unnamed: 0                      Company Name  ... day  year\n",
              "0           0                      BDO USA, LLP  ...  16  2011\n",
              "1           1                McKinsey & Company  ...  20  2011\n",
              "2           2        First Annapolis Consulting  ...  22  2011\n",
              "3           3                    JK Group, Inc.  ...  20  2011\n",
              "4           4  EPIC Academy Charter High School  ...  20  2011\n",
              "\n",
              "[5 rows x 16 columns]"
            ]
          },
          "metadata": {
            "tags": []
          },
          "execution_count": 12
        }
      ]
    },
    {
      "cell_type": "code",
      "metadata": {
        "id": "kX1STXzlaUG2",
        "colab_type": "code",
        "colab": {
          "resources": {
            "http://localhost:8080/nbextensions/google.colab/files.js": {
              "data": "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",
              "ok": true,
              "headers": [
                [
                  "content-type",
                  "application/javascript"
                ]
              ],
              "status": 200,
              "status_text": ""
            }
          },
          "base_uri": "https://localhost:8080/",
          "height": 73
        },
        "outputId": "c21660b6-b939-4407-97d3-aae869578e2c"
      },
      "source": [
        "### Select the skillwords.csv from your working directory ###\n",
        "### Select jlByFunction.csv file from your working directory ###\n",
        "\n",
        "from google.colab import files\n",
        "uploaded = files.upload()"
      ],
      "execution_count": 13,
      "outputs": [
        {
          "output_type": "display_data",
          "data": {
            "text/html": [
              "\n",
              "     <input type=\"file\" id=\"files-c48e1594-31a7-40bd-a89f-127b2b7e46d1\" name=\"files[]\" multiple disabled\n",
              "        style=\"border:none\" />\n",
              "     <output id=\"result-c48e1594-31a7-40bd-a89f-127b2b7e46d1\">\n",
              "      Upload widget is only available when the cell has been executed in the\n",
              "      current browser session. Please rerun this cell to enable.\n",
              "      </output>\n",
              "      <script src=\"/nbextensions/google.colab/files.js\"></script> "
            ],
            "text/plain": [
              "<IPython.core.display.HTML object>"
            ]
          },
          "metadata": {
            "tags": []
          }
        },
        {
          "output_type": "stream",
          "text": [
            "Saving TopSkills.csv to TopSkills.csv\n"
          ],
          "name": "stdout"
        }
      ]
    },
    {
      "cell_type": "code",
      "metadata": {
        "id": "x1l6qaAHanxb",
        "colab_type": "code",
        "colab": {}
      },
      "source": [
        "## hard skills/tool/concept knowledge required ##\n",
        "s = pd.read_csv('TopSkills.csv')\n",
        "s['Skills'] = s['Skills'].str.strip()\n",
        "skillset = s['Skills'].unique()"
      ],
      "execution_count": 14,
      "outputs": []
    },
    {
      "cell_type": "code",
      "metadata": {
        "id": "mGbMpyzFawzW",
        "colab_type": "code",
        "colab": {}
      },
      "source": [
        "data = jobs['Job Description'].tolist()"
      ],
      "execution_count": 15,
      "outputs": []
    },
    {
      "cell_type": "code",
      "metadata": {
        "id": "3NvleUNYazDw",
        "colab_type": "code",
        "colab": {}
      },
      "source": [
        "def convert_lower_case(data):\n",
        "    return np.char.lower(data)\n",
        "\n",
        "def remove_stop_words(data):\n",
        "    stop_words = stopwords.words('english')\n",
        "    words = word_tokenize(str(data))\n",
        "    new_text = \"\"\n",
        "    for w in words:\n",
        "        if w not in stop_words and len(w) > 1:\n",
        "            new_text = new_text + \" \" + w\n",
        "    return new_text\n",
        "\n",
        "def remove_punctuation(data):\n",
        "    symbols = \"!\\\"#$%&()*+-./:;<=>?@[\\]^_`{|}~\\n\"\n",
        "    for i in range(len(symbols)):\n",
        "        data = np.char.replace(data, symbols[i], ' ')\n",
        "        data = np.char.replace(data, \"  \", \" \")\n",
        "    data = np.char.replace(data, ',', '')\n",
        "    return data\n",
        "\n",
        "def remove_apostrophe(data):\n",
        "    return np.char.replace(data, \"'\", \"\")\n",
        "\n",
        "def stemming(data):\n",
        "    stemmer= PorterStemmer()\n",
        "    \n",
        "    tokens = word_tokenize(str(data))\n",
        "    new_text = \"\"\n",
        "    for w in tokens:\n",
        "        new_text = new_text + \" \" + stemmer.stem(w)\n",
        "    return new_text\n",
        "\n",
        "def convert_numbers(data):\n",
        "    tokens = word_tokenize(str(data))\n",
        "    new_text = \"\"\n",
        "    for w in tokens:\n",
        "        try:\n",
        "            w = num2words(int(w))\n",
        "        except:\n",
        "            a = 0\n",
        "        new_text = new_text + \" \" + w\n",
        "    new_text = np.char.replace(new_text, \"-\", \" \")\n",
        "    return new_text"
      ],
      "execution_count": 16,
      "outputs": []
    },
    {
      "cell_type": "code",
      "metadata": {
        "id": "xOqq9qYOa1l6",
        "colab_type": "code",
        "colab": {}
      },
      "source": [
        "def preprocess(data):\n",
        "    data = convert_lower_case(data)\n",
        "    data = remove_punctuation(data) #remove comma seperately\n",
        "    data = remove_apostrophe(data)\n",
        "    data = remove_stop_words(data)\n",
        "    data = convert_numbers(data)\n",
        "    data = stemming(data)\n",
        "    data = remove_punctuation(data)\n",
        "    data = convert_numbers(data)\n",
        "    data = stemming(data) #needed again as we need to stem the words\n",
        "    data = remove_punctuation(data) #needed again as num2word is giving few hypens and commas fourty-one\n",
        "    data = remove_stop_words(data) #needed again as num2word is giving stop words 101 - one hundred and one\n",
        "    return data"
      ],
      "execution_count": 17,
      "outputs": []
    },
    {
      "cell_type": "code",
      "metadata": {
        "id": "OEjNNR30bEjE",
        "colab_type": "code",
        "colab": {
          "base_uri": "https://localhost:8080/",
          "height": 101
        },
        "outputId": "aab3b559-fd00-49f6-a46b-783fd0b41454"
      },
      "source": [
        "import nltk\n",
        "import gensim\n",
        "nltk.download('stopwords')\n",
        "nltk.download('punkt')"
      ],
      "execution_count": 19,
      "outputs": [
        {
          "output_type": "stream",
          "text": [
            "[nltk_data] Downloading package stopwords to /root/nltk_data...\n",
            "[nltk_data]   Unzipping corpora/stopwords.zip.\n",
            "[nltk_data] Downloading package punkt to /root/nltk_data...\n",
            "[nltk_data]   Unzipping tokenizers/punkt.zip.\n"
          ],
          "name": "stdout"
        },
        {
          "output_type": "execute_result",
          "data": {
            "text/plain": [
              "True"
            ]
          },
          "metadata": {
            "tags": []
          },
          "execution_count": 19
        }
      ]
    },
    {
      "cell_type": "code",
      "metadata": {
        "id": "rVznem6Xa8PN",
        "colab_type": "code",
        "colab": {}
      },
      "source": [
        "for i in range(len(data)):\n",
        "    data[i] = preprocess(data[i])"
      ],
      "execution_count": 20,
      "outputs": []
    },
    {
      "cell_type": "code",
      "metadata": {
        "id": "pZq5FMmrjMG7",
        "colab_type": "code",
        "colab": {
          "base_uri": "https://localhost:8080/",
          "height": 17
        },
        "outputId": "50fa72f8-ab31-4603-9c2e-6adf22db7821"
      },
      "source": [
        "# This saves the list data as a csv named \"JDPreprocessedData.csv\" to save processing time\n",
        "\n",
        "## To resume this process from here, run the next code cell\n",
        "datadf = pd.DataFrame(data, columns=['JD_Token'])\n",
        "datadf.to_csv('JDPreprocessedData.csv', index=None, header = True)\n",
        "files.download('JDPreprocessedData.csv')"
      ],
      "execution_count": 41,
      "outputs": [
        {
          "output_type": "display_data",
          "data": {
            "application/javascript": [
              "\n",
              "    async function download(id, filename, size) {\n",
              "      if (!google.colab.kernel.accessAllowed) {\n",
              "        return;\n",
              "      }\n",
              "      const div = document.createElement('div');\n",
              "      const label = document.createElement('label');\n",
              "      label.textContent = `Downloading \"${filename}\": `;\n",
              "      div.appendChild(label);\n",
              "      const progress = document.createElement('progress');\n",
              "      progress.max = size;\n",
              "      div.appendChild(progress);\n",
              "      document.body.appendChild(div);\n",
              "\n",
              "      const buffers = [];\n",
              "      let downloaded = 0;\n",
              "\n",
              "      const channel = await google.colab.kernel.comms.open(id);\n",
              "      // Send a message to notify the kernel that we're ready.\n",
              "      channel.send({})\n",
              "\n",
              "      for await (const message of channel.messages) {\n",
              "        // Send a message to notify the kernel that we're ready.\n",
              "        channel.send({})\n",
              "        if (message.buffers) {\n",
              "          for (const buffer of message.buffers) {\n",
              "            buffers.push(buffer);\n",
              "            downloaded += buffer.byteLength;\n",
              "            progress.value = downloaded;\n",
              "          }\n",
              "        }\n",
              "      }\n",
              "      const blob = new Blob(buffers, {type: 'application/binary'});\n",
              "      const a = document.createElement('a');\n",
              "      a.href = window.URL.createObjectURL(blob);\n",
              "      a.download = filename;\n",
              "      div.appendChild(a);\n",
              "      a.click();\n",
              "      div.remove();\n",
              "    }\n",
              "  "
            ],
            "text/plain": [
              "<IPython.core.display.Javascript object>"
            ]
          },
          "metadata": {
            "tags": []
          }
        },
        {
          "output_type": "display_data",
          "data": {
            "application/javascript": [
              "download(\"download_353dd8a7-7efb-4a8f-a399-d653468c19ab\", \"JDPreprocessedData.csv\", 85560307)"
            ],
            "text/plain": [
              "<IPython.core.display.Javascript object>"
            ]
          },
          "metadata": {
            "tags": []
          }
        }
      ]
    },
    {
      "cell_type": "code",
      "metadata": {
        "id": "y2Nuy8QgqJ1q",
        "colab_type": "code",
        "colab": {
          "base_uri": "https://localhost:8080/",
          "height": 54
        },
        "outputId": "2b23f739-eb7f-41e0-b654-2e87ed127c84"
      },
      "source": [
        "# Run this cell to resume process from this point.\n",
        "# Select file JDPreprocessedData.csv here\n",
        "\n",
        "from google.colab import files\n",
        "uploaded = files.upload()\n",
        "datadf = pd.read_csv('JDPreprocessedData.csv')\n",
        "data = list(datadf['JD_Token'])"
      ],
      "execution_count": 39,
      "outputs": [
        {
          "output_type": "stream",
          "text": [
            " first annapoli consult inc offer career opportun except individu motiv challeng help major corpor address real world problem first annapoli manag consult merger acquisit firm primari focu financ servic industri princip specialti payment relat product servic credit debit prepaid product financ transact process commerci payment emerg payment product compri one third us bank revenu first annapoli largest independ profess servic compani focu industri segment client includ lead compani financ servic retail technolog consum good industri primarili north america increasingli europ south america consult work direct firm partner princip senior manag wide varieti project quickli assum respon manag key task project supervi work research analysi staff member combin consult merger acquisit uniqu featur first annapoli afford consult opportun develop varieti skill set furthermor empow consult take much project respon skill allow advanc talent individu base capabl success work conduct project team environ consult typic frequent interact firm partner durat project typic vari two ten month consult expect multipl assign stagger deadlin also expect travel sever time month although project primarili complet offic minim time away home locat baltimor washington corridor near baltimor washington intern airport first annapoli serv client nationwid increasingli intern seek energet innov individu add talent pool offer competit compen benefit includ annual bonu match four hundr one contribut appli consult posit plea forward cover letter resum human resourc manag first annapoli consult inc linthicum md via email consult firstannapoli com fax four hundr ten eight hundr sixti five eight thousand eight hundr nineti nine www firstannapoli com equal opportun employ\n"
          ],
          "name": "stdout"
        }
      ]
    },
    {
      "cell_type": "markdown",
      "metadata": {
        "id": "kr_JBfMFoKXL",
        "colab_type": "text"
      },
      "source": [
        ""
      ]
    },
    {
      "cell_type": "code",
      "metadata": {
        "id": "uJVnXy4Ja-tp",
        "colab_type": "code",
        "colab": {}
      },
      "source": [
        "#### creating a set of multiworded skills and single worded skill \n",
        "skill_words = []\n",
        "skill_keywords1 = []\n",
        "skill_keywords2 = []\n",
        "for i in skillset:\n",
        "        skill_words = i.split(' ')\n",
        "        if len(skill_words) > 1:\n",
        "            skill_keywords2.append(i)\n",
        "        else:\n",
        "            skill_keywords1.append(i)"
      ],
      "execution_count": 75,
      "outputs": []
    },
    {
      "cell_type": "code",
      "metadata": {
        "id": "SSKnZhGUhYDZ",
        "colab_type": "code",
        "colab": {}
      },
      "source": [
        "degree_dict = {'bs': 1, 'bachelor': 1, 'undergraduate': 1, \n",
        "               'master': 2, 'graduate': 2, 'mba': 2.5, \n",
        "               'phd': 3, 'ph.d': 3, 'ba': 1, 'ma': 2,\n",
        "               'postdoctoral': 4, 'postdoc': 4, 'doctorate': 3}\n",
        "\n",
        "\n",
        "degree_dict2 = {'advanced degree': 2, 'ms or': 2, 'ms degree': 2, '4 year degree': 1, 'bs/': 1, 'ba/': 1,\n",
        "                '4-year degree': 1, 'b.s.': 1, 'm.s.': 2, 'm.s': 2, 'b.s': 1, 'phd/': 3, 'ph.d.': 3, 'ms/': 2,\n",
        "                'm.s/': 2, 'm.s./': 2, 'msc/': 2, 'master/': 2, 'master\\'s/': 2, 'bachelor\\s/': 1}\n",
        "degree_keywords2 = set(degree_dict2.keys())"
      ],
      "execution_count": 76,
      "outputs": []
    },
    {
      "cell_type": "code",
      "metadata": {
        "id": "I7lh2B4Uhb4K",
        "colab_type": "code",
        "colab": {
          "base_uri": "https://localhost:8080/",
          "height": 252
        },
        "outputId": "1b7d4fdf-ac3f-4229-9da3-b6a59a7ca9e5"
      },
      "source": [
        "import pandas as pd\n",
        "df = pd.DataFrame()\n",
        "df['Job Description'] = data\n",
        "df['Year'] = jobs['year']\n",
        "df['Function'] = jobs['Job_Function']\n",
        "print(df)"
      ],
      "execution_count": 78,
      "outputs": [
        {
          "output_type": "stream",
          "text": [
            "                                         Job Description  ...                             Function\n",
            "0       bdo summer leadership program pathway success...  ...                                Other\n",
            "1       specialist dedic work client team solv client...  ...  Marketing/Business/Sales Management\n",
            "2       first annapoli consult inc offer career oppor...  ...                                Other\n",
            "3       primari respon manag compani one hundr thirti...  ...  Marketing/Business/Sales Management\n",
            "4       epic academi earli work startup organ incr im...  ...                   Financial Services\n",
            "...                                                  ...  ...                                  ...\n",
            "46155   us aspen institut global nonprofit organ comm...  ...  Marketing/Business/Sales Management\n",
            "46156   bachelor degree5 year experi product program ...  ...                                Other\n",
            "46157   plan lead varieti duti relat gener ledger acc...  ...                                Other\n",
            "46158   fs invest seek credit research analyst join n...  ...                                Other\n",
            "46159   posit market intern exist support sale market...  ...  Marketing/Business/Sales Management\n",
            "\n",
            "[46160 rows x 3 columns]\n"
          ],
          "name": "stdout"
        }
      ]
    },
    {
      "cell_type": "code",
      "metadata": {
        "id": "4t7rwNo96kw1",
        "colab_type": "code",
        "colab": {}
      },
      "source": [
        "# Initialize and train the model (this will take some time)\n",
        "from gensim.models import word2vec\n",
        "from sklearn.feature_extraction.text import CountVectorizer"
      ],
      "execution_count": 82,
      "outputs": []
    },
    {
      "cell_type": "code",
      "metadata": {
        "id": "jaNuUh6RJCKH",
        "colab_type": "code",
        "colab": {}
      },
      "source": [
        "# Initialize the \"CountVectorizer\" object, which is scikit-learn's bag of words tool.  \n",
        "vectorizer = CountVectorizer(analyzer = \"word\",\n",
        "                             tokenizer = None, \n",
        "                             preprocessor = None,\n",
        "                             stop_words = None,  \n",
        "                             max_features = 5000)\n"
      ],
      "execution_count": null,
      "outputs": []
    },
    {
      "cell_type": "code",
      "metadata": {
        "id": "2jqhud5uJG1L",
        "colab_type": "code",
        "colab": {
          "base_uri": "https://localhost:8080/",
          "height": 874
        },
        "outputId": "e3525681-7220-4dd2-b008-9cca6ff01c0d"
      },
      "source": [
        "train_data_features = vectorizer.fit_transform(data)\n",
        "print(train_data_features)"
      ],
      "execution_count": 102,
      "outputs": [
        {
          "output_type": "stream",
          "text": [
            "  (0, 4359)\t2\n",
            "  (0, 2586)\t4\n",
            "  (0, 3525)\t4\n",
            "  (0, 3257)\t2\n",
            "  (0, 4348)\t2\n",
            "  (0, 3108)\t3\n",
            "  (0, 72)\t7\n",
            "  (0, 4323)\t4\n",
            "  (0, 90)\t3\n",
            "  (0, 1048)\t2\n",
            "  (0, 3147)\t2\n",
            "  (0, 1660)\t2\n",
            "  (0, 4768)\t1\n",
            "  (0, 4558)\t2\n",
            "  (0, 3015)\t3\n",
            "  (0, 682)\t1\n",
            "  (0, 3573)\t4\n",
            "  (0, 2529)\t2\n",
            "  (0, 2743)\t1\n",
            "  (0, 1931)\t1\n",
            "  (0, 1417)\t1\n",
            "  (0, 4422)\t1\n",
            "  (0, 1241)\t2\n",
            "  (0, 2125)\t1\n",
            "  (0, 2723)\t2\n",
            "  :\t:\n",
            "  (46159, 3822)\t1\n",
            "  (46159, 2268)\t1\n",
            "  (46159, 2067)\t1\n",
            "  (46159, 2164)\t1\n",
            "  (46159, 1225)\t2\n",
            "  (46159, 628)\t1\n",
            "  (46159, 130)\t2\n",
            "  (46159, 405)\t1\n",
            "  (46159, 4352)\t1\n",
            "  (46159, 3425)\t1\n",
            "  (46159, 322)\t1\n",
            "  (46159, 3346)\t1\n",
            "  (46159, 1832)\t3\n",
            "  (46159, 3439)\t1\n",
            "  (46159, 1684)\t1\n",
            "  (46159, 3219)\t1\n",
            "  (46159, 1831)\t1\n",
            "  (46159, 4016)\t1\n",
            "  (46159, 526)\t1\n",
            "  (46159, 1448)\t1\n",
            "  (46159, 2648)\t1\n",
            "  (46159, 2514)\t1\n",
            "  (46159, 4639)\t1\n",
            "  (46159, 3349)\t1\n",
            "  (46159, 2353)\t1\n"
          ],
          "name": "stdout"
        }
      ]
    },
    {
      "cell_type": "code",
      "metadata": {
        "id": "6egfi4KYMRiA",
        "colab_type": "code",
        "colab": {
          "base_uri": "https://localhost:8080/",
          "height": 134
        },
        "outputId": "e1b7a9e5-3789-4be2-ef6f-d9eea66b4a69"
      },
      "source": [
        "train_data_features = train_data_features.toarray()\n",
        "# Numpy arrays are easy to work with, so convert the result to an array\n",
        "#train_data_features = train_data_features.toarray()\n",
        "train_data_features"
      ],
      "execution_count": 103,
      "outputs": [
        {
          "output_type": "execute_result",
          "data": {
            "text/plain": [
              "array([[0, 0, 0, ..., 0, 0, 0],\n",
              "       [0, 0, 0, ..., 0, 0, 0],\n",
              "       [0, 0, 0, ..., 0, 0, 0],\n",
              "       ...,\n",
              "       [0, 0, 0, ..., 0, 0, 0],\n",
              "       [0, 0, 0, ..., 0, 0, 0],\n",
              "       [0, 0, 0, ..., 0, 0, 0]])"
            ]
          },
          "metadata": {
            "tags": []
          },
          "execution_count": 103
        }
      ]
    },
    {
      "cell_type": "code",
      "metadata": {
        "id": "1QNlC99jNe5W",
        "colab_type": "code",
        "colab": {
          "base_uri": "https://localhost:8080/",
          "height": 34
        },
        "outputId": "b244e9b7-ae03-48e6-df6b-bef92920339f"
      },
      "source": [
        "train_data_features.shape"
      ],
      "execution_count": 104,
      "outputs": [
        {
          "output_type": "execute_result",
          "data": {
            "text/plain": [
              "(46160, 5000)"
            ]
          },
          "metadata": {
            "tags": []
          },
          "execution_count": 104
        }
      ]
    },
    {
      "cell_type": "code",
      "metadata": {
        "id": "uT2WYXoMNlNi",
        "colab_type": "code",
        "colab": {
          "base_uri": "https://localhost:8080/",
          "height": 54
        },
        "outputId": "268a07cc-6143-4b90-8848-6736ce2ca49c"
      },
      "source": [
        "# Take a look at the words in the vocabulary\n",
        "vocab = vectorizer.get_feature_names()\n",
        "print(vocab)"
      ],
      "execution_count": 105,
      "outputs": [
        {
          "output_type": "stream",
          "text": [
            "['00am', '00pm', '0in', '0px', '100k', '10am', '10k', '12th', '13th', '14th', '15th', '18th', '19th', '1b', '1st', '1yp', '20th', '21st', '2nd', '30am', '30th', '3d', '3pl', '3rd', '3yp', '401k', '4g', '4p', '4th', '59pm', '5pm', '5th', '6th', '8th', '9th', 'aa', 'aaa', 'aap', 'aarp', 'ab', 'abi', 'abid', 'abil', 'abinbev', 'abl', 'abreast', 'abroad', 'absenc', 'absolut', 'absorb', 'abstract', 'abt', 'abu', 'abund', 'ac', 'aca', 'academ', 'academi', 'academia', 'academicsinasia', 'accel', 'accentur', 'accept', 'access', 'accessori', 'accid', 'accolad', 'accommod', 'accompani', 'accomplish', 'accord', 'accordingli', 'account', 'accounting', 'accredit', 'accru', 'accrual', 'accumul', 'accur', 'accuraci', 'ace', 'acef', 'achiev', 'acknowledg', 'acli', 'acquaint', 'acquir', 'acquisit', 'acr', 'acrobat', 'across', 'act', 'action', 'activ', 'activities', 'actual', 'actuari', 'acumen', 'acut', 'ad', 'ada', 'adaaa', 'adapt', 'add', 'addit', 'address', 'adept', 'adequ', 'adequaci', 'adher', 'adhoc', 'adida', 'adjac', 'adjud', 'adjust', 'admin', 'administ', 'administr', 'admir', 'admiss', 'admit', 'adob', 'adopt', 'adp', 'adsen', 'adult', 'advanc', 'advantag', 'adventur', 'adver', 'adverti', 'advi', 'advic', 'advisor', 'advisori', 'advoc', 'advocaci', 'adword', 'ae', 'aea', 'aeronaut', 'aerospac', 'aerotek', 'aesthet', 'aetna', 'affair', 'affect', 'affili', 'affin', 'affirm', 'affluent', 'afford', 'afraid', 'africa', 'african', 'ag', 'age', 'agenc', 'agenda', 'agent', 'aggreg', 'aggress', 'agil', 'ago', 'agr', 'agreement', 'agribusi', 'agricultur', 'ahead', 'ai', 'aid', 'aim', 'air', 'aircraft', 'airlin', 'airport', 'akyumen', 'al', 'albani', 'alcim', 'alcoa', 'alcohol', 'aldi', 'alert', 'alexandria', 'alfa', 'alfafellowship', 'algorithm', 'align', 'alik', 'allen', 'alli', 'allianc', 'alloc', 'allow', 'allstat', 'almost', 'alon', 'along', 'alongsid', 'alphasight', 'alreadi', 'also', 'altern', 'alteryx', 'although', 'altisourc', 'alto', 'alum', 'alumni', 'alway', 'amaz', 'amazon', 'amazonian', 'ambassador', 'ambigu', 'ambit', 'ambiti', 'ambulatori', 'amen', 'amend', 'america', 'american', 'americorp', 'aml', 'among', 'amongst', 'amount', 'amp', 'ampl', 'amplifi', 'amtrak', 'anali', 'analog', 'analysi', 'analysis', 'analyst', 'analyt', 'analytica', 'analyz', 'ancestri', 'anchor', 'and', 'android', 'angel', 'anim', 'ann', 'annapoli', 'announc', 'annual', 'annuiti', 'anomali', 'anoth', 'answer', 'anti', 'anticip', 'anyon', 'anyth', 'anytim', 'anywh', 'aop', 'ap', 'apac', 'apach', 'apart', 'api', 'apic', 'app', 'apparel', 'appeal', 'appear', 'appetit', 'appl', 'appli', 'applianc', 'applic', 'application', 'applyplea', 'applyto', 'appoint', 'apprai', 'appreci', 'apprent', 'apprenticeship', 'approach', 'appropri', 'approv', 'approx', 'approxim', 'april', 'aprinceton', 'aptitud', 'aquat', 'ar', 'arab', 'arabella', 'arabia', 'arbitr', 'arbor', 'archeri', 'architect', 'architectur', 'archiv', 'area', 'arena', 'areq', 'argu', 'argument', 'ari', 'arizona', 'arlington', 'arm', 'armi', 'armour', 'aronson', 'around', 'arrang', 'array', 'arrest', 'arriv', 'arrow', 'art', 'articl', 'articul', 'artifact', 'artifici', 'artist', 'asap', 'asc', 'ascen', 'ascend', 'ashburn', 'ashoka', 'ashp', 'asia', 'asian', 'ask', 'asp', 'aspect', 'aspen', 'aspera', 'aspir', 'aspx', 'asr', 'assault', 'assembl', 'assert', 'assess', 'asset', 'assign', 'assimil', 'assist', 'associ', 'assort', 'assum', 'assumpt', 'assur', 'asyl', 'athlet', 'atlant', 'atlanta', 'atlassian', 'atm', 'atmosph', 'attach', 'attack', 'attain', 'attempt', 'attend', 'attent', 'attest', 'attir', 'attitud', 'attorney', 'attract', 'attribut', 'auction', 'audi', 'audienc', 'audio', 'audit', 'auditor', 'aug', 'augment', 'august', 'austin', 'australia', 'authent', 'author', 'authorit', 'auto', 'autocad', 'autom', 'automat', 'automobil', 'automot', 'autonom', 'autonomi', 'avail', 'avendra', 'avenu', 'averag', 'aviat', 'avoid', 'aw', 'awar', 'award', 'away', 'awesom', 'axa', 'az', 'b2b', 'b2c', 'ba', 'babi', 'baccalaur', 'bachelor', 'back', 'backbon', 'background', 'backlog', 'backup', 'bag', 'bain', 'baker', 'balanc', 'ball', 'baltimor', 'band', 'bank', 'banker', 'banner', 'bar', 'bargain', 'barrier', 'base', 'baseb', 'baselin', 'basi', 'basic', 'bastian', 'batch', 'batteri', 'bay', 'bayer', 'bb', 'bbcpa', 'bbq', 'bcg', 'bd', 'bdm', 'be', 'beach', 'beacon', 'bear', 'beat', 'beauti', 'becam', 'bechtel', 'becom', 'bed', 'beeb', 'beer', 'began', 'begin', 'behalf', 'behavior', 'behaviour', 'behind', 'beij', 'belgium', 'belief', 'believ', 'bell', 'bellagio', 'bellevu', 'belong', 'belov', 'belt', 'beltsvil', 'bench', 'benchmark', 'bend', 'benefici', 'beneficiari', 'benefit', 'benefits', 'berkshir', 'bespok', 'best', 'beta', 'bethesda', 'better', 'beverag', 'beyond', 'bi', 'bia', 'bid', 'big', 'bigger', 'biggest', 'bike', 'bilingu', 'bill', 'billabl', 'billiard', 'billion', 'bind', 'binder', 'bio', 'biodesign', 'biolog', 'biom', 'biopharmaceut', 'biotech', 'biotechnolog', 'birthday', 'bit', 'biweekli', 'bj', 'black', 'blackrock', 'blend', 'blizzard', 'block', 'blockchain', 'blog', 'bloomberg', 'blue', 'bluecross', 'blueprint', 'blueshield', 'bmgt099', 'bni', 'bnsf', 'boa', 'board', 'boast', 'boat', 'bodi', 'boehr', 'bold', 'bolster', 'bond', 'bono', 'bonu', 'book', 'bookhold', 'bookkeep', 'boost', 'boot', 'booth', 'bootstrap', 'booz', 'border', 'born', 'borrow', 'bosch', 'boston', 'bottl', 'bottleneck', 'bottom', 'bound', 'boundari', 'boutiqu', 'bowl', 'box', 'boy', 'bozzuto', 'bpm', 'bpo', 'brain', 'brainstorm', 'branch', 'brand', 'brassr', 'brazil', 'breadth', 'break', 'breakdown', 'breakfast', 'breakthrough', 'breath', 'breed', 'bridg', 'brief', 'bright', 'brighter', 'brightest', 'brilliant', 'bring', 'british', 'bro', 'broad', 'broadband', 'broadcast', 'broaden', 'broader', 'broadli', 'brochur', 'broker', 'brokerag', 'brother', 'brought', 'brow', 'brown', 'browser', 'brush', 'bs', 'bsc', 'bt', 'bu', 'bud', 'buddi', 'budget', 'budgetari', 'buffalo', 'bug', 'build', 'builder', 'built', 'bundl', 'bureau', 'burlingam', 'burn', 'busi', 'business', 'button', 'buy', 'buyer', 'bw', 'ca', 'cabl', 'cad', 'cadenc', 'cafeteria', 'cal', 'calcul', 'calendar', 'calgari', 'calib', 'calibr', 'california', 'call', 'caller', 'calm', 'calvert', 'camaraderi', 'cambodia', 'cambria', 'cambridg', 'camera', 'camp', 'campaign', 'camper', 'campu', 'canada', 'canadian', 'cancer', 'candid', 'candidatepreferenceform', 'candor', 'cant', 'canton', 'cap', 'capabl', 'capac', 'capex', 'capgemini', 'capit', 'capitol', 'capitolpartn', 'capston', 'captiv', 'captur', 'car', 'carahsoft', 'carbon', 'card', 'cardin', 'cardinaleduc', 'care', 'career', 'careersect', 'carefirst', 'caregiv', 'caremark', 'cargo', 'caribbean', 'carolina', 'carri', 'carrier', 'carv', 'cascad', 'case', 'casework', 'cash', 'casino', 'cast', 'casual', 'casualti', 'catalog', 'catalyst', 'catalyz', 'categor', 'categori', 'cater', 'cathol', 'cau', 'cb', 'cbiit', 'ccar', 'ccb', 'ccci', 'cd', 'cdp', 'ce', 'ceb', 'celebr', 'cell', 'center', 'centr', 'central', 'centric', 'centuri', 'ceo', 'cerner', 'certain', 'certif', 'certifi', 'cfa', 'cfm', 'cfo', 'cfp', 'cfr', 'cftc', 'ch', 'chai', 'chain', 'chair', 'chairman', 'challeng', 'champion', 'chanc', 'chang', 'changer', 'channel', 'chapter', 'charact', 'characterist', 'charg', 'charisma', 'charismat', 'charit', 'chariti', 'charlott', 'chart', 'charter', 'chase', 'chat', 'check', 'checklist', 'checkpoint', 'cheer', 'chef', 'chemic', 'chemistri', 'chemon', 'chfc', 'chicago', 'chick', 'chief', 'child', 'childbirth', 'childhood', 'children', 'china', 'chine', 'chip', 'choic', 'choo', 'chosen', 'chronic', 'chu', 'chu02', 'church', 'churn', 'ci', 'cia', 'cigna', 'cim', 'cincinnati', 'cio', 'circl', 'circuit', 'circular', 'circumst', 'cisa', 'cisco', 'cissp', 'citi', 'citibank', 'citizen', 'citizenship', 'citrix', 'civic', 'civil', 'civilian', 'claim', 'clandestin', 'clarif', 'clarifi', 'clariti', 'clark', 'class', 'classic', 'classif', 'classifi', 'classmat', 'classroom', 'clean', 'cleanli', 'cleanup', 'clear', 'clearanc', 'clearli', 'cleric', 'clerk', 'cleveland', 'clever', 'click', 'client', 'clientel', 'clients', 'climat', 'climb', 'clinic', 'clinician', 'clock', 'close', 'closer', 'closur', 'cloth', 'cloud', 'club', 'cluster', 'cm', 'cma', 'cmo', 'cn', 'co', 'coach', 'coachabl', 'coalit', 'coast', 'coat', 'cobham', 'coca', 'code', 'codifi', 'coe', 'coff', 'cognit', 'cogniz', 'cogno', 'cohe', 'coher', 'cohnreznick', 'cohort', 'cola', 'cold', 'collabor', 'collat', 'colleagu', 'collect', 'colleg', 'collegegrad', 'collegi', 'colombia', 'color', 'colorado', 'columbia', 'columbu', 'com', 'combat', 'combin', 'comcast', 'come', 'comfort', 'command', 'commenc', 'commensur', 'comment', 'commentari', 'commerc', 'commerci', 'commiss', 'commit', 'committ', 'commod', 'common', 'commonli', 'commun', 'commut', 'comp', 'compani', 'companywid', 'compar', 'comparison', 'compass', 'compat', 'compel', 'compen', 'compensation', 'compet', 'competit', 'competitor', 'compil', 'complaint', 'complement', 'complementari', 'complet', 'complex', 'compli', 'complianc', 'compliant', 'complic', 'compliment', 'complimentari', 'compo', 'compon', 'composit', 'composur', 'comprehen', 'comprehend', 'compri', 'compromi', 'comput', 'conceiv', 'concentr', 'concept', 'conceptu', 'concern', 'concert', 'concess', 'conci', 'conclu', 'conclud', 'concret', 'concur', 'concurr', 'condit', 'conduct', 'conduit', 'confer', 'confid', 'confidenti', 'configur', 'confirm', 'conflict', 'conform', 'confront', 'congress', 'conjunct', 'connect', 'connecticut', 'connector', 'conscienti', 'consciou', 'consecut', 'consensu', 'consequ', 'consero', 'conserv', 'consid', 'consign', 'consist', 'consolid', 'consortium', 'constant', 'constantli', 'constel', 'constitu', 'constraint', 'constru', 'construct', 'consult', 'consum', 'consumpt', 'cont', 'contact', 'contain', 'contemporari', 'content', 'contest', 'context', 'contextu', 'contin', 'continu', 'continuum', 'contract', 'contractor', 'contractu', 'contribut', 'contributor', 'control', 'controllership', 'conven', 'conveni', 'convent', 'conver', 'converg', 'convert', 'convey', 'convict', 'convinc', 'coo', 'cook', 'cool', 'cooper', 'coordin', 'cope', 'copi', 'copier', 'copywrit', 'core', 'corner', 'cornerston', 'corp', 'corpor', 'correct', 'correctli', 'correl', 'correspond', 'cort', 'cosmet', 'cost', 'costar', 'could', 'council', 'counsel', 'counselor', 'count', 'counter', 'counterpart', 'counterparti', 'counti', 'countless', 'countri', 'coupl', 'coupon', 'cour', 'courag', 'coursework', 'court', 'courteou', 'courtesi', 'coven', 'cover', 'coverag', 'cowan', 'cowork', 'cox', 'cp', 'cpa', 'cpg', 'cpi', 'cpic', 'cpt', 'cr', 'craft', 'cranberri', 'creat', 'creation', 'creativ', 'creativity', 'creator', 'credenti', 'credibl', 'credit', 'creed', 'crew', 'crime', 'crimin', 'crise', 'crisi', 'crisp', 'criteria', 'critic', 'critiqu', 'crm', 'cross', 'crouch', 'crowd', 'crucial', 'crui', 'crystal', 'cs', 'csgf', 'csi', 'csr', 'css', 'cst', 'csx', 'ct', 'cti', 'cto', 'cube', 'cubicl', 'culinari', 'culmin', 'cultiv', 'cultur', 'culturalvista', 'cummin', 'cumul', 'curat', 'curio', 'curiou', 'currenc', 'current', 'curricula', 'curricular', 'curriculum', 'curv', 'custodi', 'custodian', 'custom', 'customers', 'cut', 'cv', 'cvent', 'cvshealth', 'cw', 'cx', 'cxo', 'cyber', 'cybersecur', 'cycl', 'daili', 'dalberg', 'dalla', 'damag', 'danah', 'darden', 'dashboard', 'data', 'databa', 'datalab', 'dataset', 'date', 'david', 'davita', 'dawia', 'day', 'db', 'dc', 'dcf', 'dcip', 'dcp', 'dd', 'de', 'deadlin', 'deadlines', 'deal', 'dealer', 'dealership', 'dean', 'death', 'debat', 'debit', 'debrief', 'debt', 'debug', 'dec', 'decad', 'decemb', 'decentr', 'deci', 'decid', 'deck', 'decker', 'declar', 'deconstruct', 'decor', 'decrea', 'dedic', 'deduct', 'deem', 'deep', 'deepen', 'deeper', 'deepest', 'deepli', 'default', 'defect', 'defen', 'defend', 'defer', 'defici', 'defin', 'definit', 'degr', 'degree', 'degree5', 'degreea', 'delawar', 'delay', 'deleg', 'delight', 'delinqu', 'deliv', 'deliveri', 'dell', 'deloitt', 'delta', 'deltek', 'demand', 'demeanor', 'demo', 'democraci', 'demograph', 'demonstr', 'dental', 'denver', 'depart', 'departur', 'depend', 'deploy', 'deposit', 'depot', 'depreci', 'dept', 'depth', 'deputi', 'deriv', 'descend', 'describ', 'descript', 'descriptionth', 'deserv', 'design', 'desir', 'desk', 'desktop', 'despit', 'destin', 'detail', 'detaildemonstr', 'detailexcel', 'detailstrong', 'detect', 'determin', 'detroit', 'dev', 'develop', 'development', 'developmentexperi', 'devi', 'deviat', 'devic', 'devop', 'devot', 'dexter', 'dfa', 'dh', 'dhl', 'diabet', 'diagno', 'diagnosi', 'diagnost', 'diagram', 'dialog', 'dialogu', 'dictat', 'diego', 'differ', 'differenti', 'difficult', 'difficulti', 'dig', 'digest', 'digit', 'digniti', 'dilig', 'dimen', 'dimens', 'dine', 'dingman', 'dinner', 'diploma', 'diplomaci', 'diplomat', 'direct', 'directli', 'director', 'directori', 'dirti', 'disabl', 'disadvantag', 'disast', 'disbur', 'discern', 'discharg', 'disciplin', 'disciplinari', 'disclaim', 'disclo', 'disclosur', 'discount', 'discov', 'discoveri', 'discrep', 'discret', 'discretionari', 'discrimin', 'discuss', 'disea', 'disney', 'disord', 'dispar', 'dispatch', 'disper', 'display', 'dispo', 'disposit', 'disproport', 'disput', 'disqualifi', 'disrupt', 'dissect', 'dissemin', 'distanc', 'distil', 'distinct', 'distinguish', 'distribut', 'distributor', 'district', 'dive', 'diver', 'diverg', 'diversifi', 'divestitur', 'divi', 'divid', 'dividend', 'divis', 'dmv', 'dna', 'do', 'doc', 'dock', 'doctor', 'document', 'dod', 'doe', 'doer', 'doesnt', 'dog', 'dol', 'dollar', 'domain', 'domest', 'domin', 'dominion', 'donat', 'done', 'donor', 'dont', 'dooir', 'door', 'dot', 'doubl', 'doubleclick', 'dow', 'download', 'downstream', 'downtown', 'dozen', 'dpost', 'dr', 'draft', 'dramat', 'draw', 'drawn', 'dream', 'dress', 'dri', 'drill', 'drink', 'drive', 'driven', 'driver', 'drop', 'drug', 'dsp', 'dss', 'dte', 'dual', 'due', 'duff', 'duplic', 'dupont', 'durabl', 'durat', 'duti', 'dwight', 'dynam', 'décor', 'ea', 'eager', 'eagl', 'earli', 'earlier', 'earn', 'earth', 'easi', 'easier', 'easili', 'east', 'eastern', 'eastman', 'eat', 'eaton', 'ebitda', 'ecg', 'ecm', 'ecommerc', 'econom', 'econometr', 'economi', 'economist', 'ecosystem', 'ecq', 'ed', 'edc', 'edf', 'edg', 'edit', 'editor', 'editori', 'edu', 'educ', 'educationbachelor', 'educationpion', 'edward', 'ee', 'eeo', 'eeoc', 'effect', 'efficaci', 'effici', 'effort', 'eg', 'eh', 'ehr', 'ehrm', 'eight', 'eighteen', 'eighti', 'either', 'el', 'elabor', 'elect', 'electr', 'electron', 'element', 'elementari', 'elev', 'eleven', 'elicit', 'elig', 'elimin', 'elit', 'elma', 'elsewh', 'email', 'emb', 'embark', 'embassi', 'embodi', 'embrac', 'emc', 'emea', 'emerg', 'emerson', 'emin', 'emiss', 'emot', 'empathet', 'empathi', 'empha', 'emphasi', 'empir', 'employ', 'empow', 'en', 'enabl', 'enact', 'encompass', 'encount', 'encourag', 'end', 'endeavor', 'endless', 'endor', 'endow', 'endur', 'energ', 'energet', 'energi', 'enforc', 'engag', 'engin', 'english', 'enhanc', 'enjoy', 'enorm', 'enough', 'enrd', 'enrich', 'enrol', 'ensur', 'entail', 'enter', 'enterpri', 'entertain', 'enthusiasm', 'enthusiast', 'entir', 'entiti', 'entitl', 'entrepreneur', 'entrepreneuri', 'entrepreneurship', 'entri', 'entrust', 'envi', 'environ', 'environment', 'environmenta', 'environmentdemonstr', 'environmentexcel', 'environmentexperi', 'environmentmain', 'environmentstrong', 'eoe', 'ep', 'epa', 'epic', 'equal', 'equat', 'equip', 'equit', 'equiti', 'equiv', 'er', 'era', 'erm', 'ernst', 'erp', 'erpi', 'error', 'es', 'escal', 'esp', 'espartn', 'especi', 'esprit', 'essay', 'essba', 'essenc', 'essenti', 'est', 'establish', 'estat', 'estim', 'et', 'etc', 'ethic', 'ethnic', 'etiquett', 'etl', 'eu', 'europ', 'european', 'evalu', 'evangel', 'even', 'event', 'events', 'eventu', 'ever', 'everi', 'everyday', 'everyon', 'everyth', 'everywh', 'evid', 'evidenc', 'evm', 'evolut', 'evolv', 'evp', 'ex', 'exact', 'exactli', 'exam', 'examin', 'exampl', 'exc', 'exceed', 'excel', 'except', 'excess', 'exchang', 'excit', 'exclu', 'exclud', 'execut', 'exelon', 'exemplari', 'exemplifi', 'exempt', 'exerci', 'exhaust', 'exhibit', 'exist', 'exit', 'exp', 'expan', 'expand', 'expatri', 'expect', 'expedia', 'expedit', 'expen', 'expenditur', 'experi', 'experienc', 'experience', 'experience3', 'experiencea', 'experiencebachelor', 'experiencedemonstr', 'experienceexcel', 'experienceexperi', 'experienceknowledg', 'experienceminimum', 'experiencepref', 'experiencestrong', 'experienti', 'expert', 'experti', 'expir', 'explain', 'explan', 'explo', 'exploit', 'explor', 'expo', 'exponenti', 'export', 'exposur', 'express', 'ext', 'exten', 'extend', 'extent', 'extern', 'externship', 'extra', 'extract', 'extracurricular', 'extraordinari', 'extrem', 'ey', 'eye', 'f1', 'fa', 'faa', 'fabric', 'face', 'facebook', 'facet', 'facil', 'facilit', 'fact', 'factor', 'factori', 'factset', 'faculti', 'fail', 'failur', 'fair', 'fairfax', 'fairli', 'fal', 'fall', 'famili', 'familiar', 'famou', 'fan', 'fanni', 'fanniema', 'fantast', 'faq', 'far', 'faraday', 'farber', 'fargo', 'farm', 'farmer', 'farmland', 'farragut', 'fascin', 'fashion', 'fast', 'faster', 'fastest', 'favor', 'favorit', 'fax', 'fb', 'fba', 'fbi', 'fbijob', 'fc', 'fda', 'fdic', 'fdm', 'fdp', 'fear', 'fearless', 'feasibl', 'featur', 'februari', 'feder', 'fedex', 'fee', 'feed', 'feedback', 'feeder', 'feel', 'feet', 'fellow', 'fellowship', 'femal', 'ferguson', 'fertil', 'festiv', 'fha', 'fi', 'fiber', 'fidel', 'fiduciari', 'field', 'fieldexperi', 'fieldwork', 'fifteen', 'fifti', 'fight', 'figur', 'fil', 'file', 'fill', 'fillmor', 'film', 'filter', 'fin', 'final', 'finalist', 'finalta', 'financ', 'find', 'findmyrecruit', 'fine', 'finger', 'finish', 'finra', 'fintech', 'fire', 'firew', 'firm', 'firmli', 'first', 'firsthand', 'fiscal', 'fisher', 'fit', 'fitch', 'five', 'fix', 'fixtur', 'fl', 'flag', 'flagship', 'flair', 'flat', 'flavor', 'flawless', 'fldp', 'fleet', 'flex', 'flexibl', 'fli', 'flight', 'flip', 'float', 'floor', 'flop', 'florida', 'flourish', 'flow', 'flsa', 'fluenci', 'fluent', 'fluid', 'flyer', 'flywheel', 'fm', 'fma', 'fmcg', 'fmp', 'focal', 'foci', 'focu', 'folder', 'follow', 'font', 'food', 'foodserv', 'foot', 'footbal', 'footprint', 'footwear', 'for', 'forb', 'forc', 'ford', 'forecast', 'forefront', 'foreign', 'foremost', 'foren', 'foresight', 'forest', 'forg', 'forget', 'form', 'forma', 'formal', 'format', 'former', 'formerli', 'formid', 'formul', 'formula', 'formulari', 'fort', 'forth', 'forti', 'fortun', 'forum', 'forward', 'foster', 'found', 'foundat', 'founder', 'four', 'fourteen', 'fourth', 'fox', 'fp', 'fr', 'fragment', 'frame', 'framework', 'franc', 'franchi', 'franchis', 'francisco', 'franklin', 'fraud', 'freddi', 'frederick', 'free', 'freedom', 'freelanc', 'freeli', 'freight', 'french', 'frequenc', 'frequent', 'fresh', 'freshman', 'friday', 'friend', 'friendli', 'friendship', 'frito', 'frm', 'from', 'front', 'frontier', 'frontlin', 'fruit', 'fsg', 'fso', 'ft', 'fte', 'ftl', 'fuel', 'fulfil', 'full', 'fullest', 'fulli', 'fulltim', 'fun', 'function', 'fund', 'fundament', 'funder', 'fundrai', 'funnel', 'furnish', 'furnitur', 'furthermor', 'fuse', 'fusion', 'futur', 'fx', 'ga', 'gaap', 'gain', 'gainshar', 'galileo', 'gallo', 'gallup', 'gambl', 'game', 'gao', 'gap', 'garden', 'garner', 'gartner', 'gate', 'gateway', 'gather', 'gatorad', 'gaug', 'gb', 'gc', 'gcmio', 'gdit', 'gdp', 'ge', 'gear', 'ged', 'geico', 'gender', 'gener', 'generalist', 'genet', 'genpact', 'genuin', 'geograph', 'geographi', 'geometri', 'georg', 'georgia', 'geospati', 'german', 'germani', 'get', 'getjob', 'getter', 'ghana', 'ghc', 'ghsc', 'ghsco', 'gi', 'giant', 'gift', 'girl', 'give', 'given', 'gl', 'glass', 'glimp', 'global', 'globe', 'gm', 'gmail', 'gmat', 'gmp', 'gmt', 'go', 'goal', 'goals', 'godaddi', 'goe', 'gold', 'goldman', 'golf', 'gone', 'goo', 'good', 'goodwil', 'googl', 'googler', 'got', 'gov', 'govern', 'gp', 'gpa', 'gpo', 'grace', 'grad', 'grade', 'grader', 'gradstaff', 'graduat', 'grain', 'grammar', 'grammat', 'grand', 'grant', 'grape', 'graph', 'graphic', 'grasp', 'grassroot', 'great', 'greater', 'greatest', 'greatli', 'green', 'greenbelt', 'greet', 'grid', 'grimmway', 'groceri', 'groom', 'gross', 'ground', 'groundbreak', 'groundwork', 'group', 'groupon', 'grove', 'grow', 'grower', 'grown', 'growth', 'grumman', 'gs', 'gsa', 'gsfc', 'gsk', 'gsm', 'gtm', 'guangzhou', 'guarant', 'guardian', 'guest', 'guid', 'guidanc', 'guideh', 'guidelin', 'guru', 'gym', 'h1', 'h1b', 'habit', 'hackathon', 'hadoop', 'hair', 'half', 'hall', 'hamilton', 'hand', 'handbook', 'handicap', 'handl', 'handset', 'hanov', 'happen', 'happi', 'happier', 'har', 'harass', 'harbor', 'hard', 'hardship', 'hardwar', 'hardwork', 'harmon', 'hartford', 'harvard', 'harvest', 'hat', 'hathaway', 'have', 'hazard', 'hcjf', 'hcm', 'head', 'headcount', 'headhunt', 'headquart', 'health', 'healthcar', 'healthi', 'healthier', 'hear', 'heard', 'heart', 'heat', 'heavi', 'heavili', 'hedg', 'height', 'held', 'help', 'helpdesk', 'henri', 'heritag', 'herndon', 'hero', 'hershey', 'hesit', 'hh', 'hi', 'hierarchi', 'high', 'higher', 'highest', 'highli', 'highlight', 'hill', 'hillel', 'hilti', 'hilton', 'hipaa', 'hire', 'hiresmith', 'hispan', 'histor', 'histori', 'hit', 'hiv', 'hive', 'hoc', 'hold', 'holder', 'holiday', 'holist', 'home', 'homebuild', 'homeland', 'homeown', 'hone', 'honest', 'honesti', 'hong', 'honor', 'hoodi', 'hop', 'hope', 'horizon', 'hospit', 'host', 'hot', 'hotel', 'hou', 'hour', 'hourli', 'household', 'houston', 'howard', 'howev', 'hp', 'hq', 'hr', 'hri', 'hrldp', 'hrm', 'hsbc', 'hsema', 'hss', 'html', 'html5', 'http', 'hub', 'hubspot', 'hubzon', 'huge', 'human', 'humana', 'humankind', 'humbl', 'humil', 'humor', 'hundr', 'hunger', 'hungri', 'hunt', 'hunter', 'hybrid', 'hydro', 'hygien', 'hyper', 'hyperion', 'hypoth', 'hypothesi', 'i2t', 'ia', 'iat', 'ib', 'ibl', 'ibm', 'ibmer', 'ic', 'icat', 'ice', 'icf', 'icfr', 'icim', 'icon', 'id', 'idb', 'ide', 'idea', 'ideal', 'ideat', 'ident', 'identif', 'identifi', 'idiq', 'ie', 'ifc', 'ifr', 'ignit', 'ii', 'iic', 'iii', 'il', 'ill', 'illeg', 'illinoi', 'illustr', 'im', 'imag', 'imagin', 'imdb', 'immedi', 'immen', 'immer', 'immigr', 'impact', 'impactbusinesslead', 'impair', 'impart', 'imparti', 'impecc', 'imper', 'implement', 'implic', 'import', 'importantli', 'imposs', 'impress', 'imprint', 'improv', 'imtd', 'in', 'inaugur', 'inbev', 'inbound', 'inbox', 'inc', 'incent', 'incept', 'incid', 'inclu', 'includ', 'incom', 'incomplet', 'inconsist', 'incorpor', 'incr', 'increa', 'increasingli', 'increment', 'incub', 'incumb', 'ind', 'indefinit', 'indent', 'independ', 'indesign', 'index', 'india', 'indiana', 'indianapoli', 'indic', 'indirect', 'indirectli', 'individu', 'individuals', 'indonesia', 'induct', 'industri', 'industry', 'ineffici', 'inelig', 'inequ', 'inextr', 'infecti', 'influenc', 'influenti', 'info', 'inform', 'informat', 'informatica', 'infosi', 'infrastructur', 'infu', 'ingelheim', 'ingenu', 'ingredi', 'inher', 'initi', 'inject', 'injuri', 'inlin', 'innat', 'inner', 'innov', 'innovation', 'inorgan', 'input', 'inquir', 'inquiri', 'inquisit', 'insati', 'inscom', 'insid', 'insight', 'inspect', 'inspir', 'instagram', 'instal', 'instanc', 'instant', 'instead', 'instep', 'instil', 'instinct', 'institut', 'instock', 'instruct', 'instructor', 'instrument', 'insur', 'intak', 'intang', 'integr', 'intel', 'intellect', 'intellectu', 'intellig', 'inten', 'intend', 'intent', 'inter', 'interact', 'interag', 'intercompani', 'interconnect', 'intercultur', 'interdepart', 'interdepend', 'interdisciplinari', 'interest', 'interfac', 'interim', 'interior', 'intermedi', 'intermediari', 'intern', 'internet', 'internship', 'interperson', 'interpret', 'intersect', 'interv', 'interview', 'intim', 'intranet', 'intricaci', 'introduc', 'introduct', 'introductori', 'intru', 'intuit', 'invalu', 'invent', 'inventori', 'invest', 'investig', 'investor', 'invit', 'invoic', 'involv', 'io', 'iot', 'iowa', 'ip', 'ipa', 'ipad', 'iphon', 'ipo', 'iq', 'ir', 'ira', 'irdp', 'iri', 'irr', 'irregular', 'irv', 'isd', 'island', 'isnt', 'iso', 'israel', 'issu', 'issuanc', 'issuer', 'issues', 'itali', 'itar', 'item', 'iter', 'itil', 'itinerari', 'iv', 'jack', 'jan', 'januari', 'japan', 'java', 'javascript', 'jd', 'jda', 'jeff', 'jennif', 'jersey', 'jet', 'jewelri', 'jewish', 'jira', 'job', 'jobdetail', 'jobid', 'jobsearch', 'john', 'johnson', 'join', 'joint', 'jointli', 'jone', 'jose', 'journal', 'journalist', 'journey', 'joy', 'jpmorgan', 'jqueri', 'jr', 'js', 'jsp', 'judg', 'judgement', 'judgment', 'juggl', 'juic', 'juli', 'jump', 'jumpstart', 'june', 'junior', 'jurisdict', 'justic', 'justif', 'justifi', 'jv', 'kaiser', 'kaizen', 'kansa', 'kaplan', 'kathi', 'katz', 'keen', 'keep', 'kelli', 'kenexa', 'kenya', 'kept', 'key', 'keyboard', 'keynot', 'keyword', 'kick', 'kid', 'kidney', 'kiewit', 'kind', 'kindl', 'kingdom', 'kipp', 'kit', 'kitchen', 'kiva', 'knack', 'kneel', 'knit', 'know', 'knowledg', 'known', 'koh', 'kong', 'korea', 'korean', 'kp', 'kpi', 'kpmg', 'kraft', 'krau', 'ks', 'ksa', 'ky', 'l2e', 'la', 'lab', 'label', 'labor', 'laboratori', 'lack', 'ladder', 'lake', 'lan', 'lancast', 'land', 'landscap', 'lane', 'lang', 'languag', 'laptop', 'larg', 'larger', 'largest', 'last', 'lastli', 'latam', 'late', 'later', 'latest', 'latin', 'latitud', 'launch', 'launder', 'laureat', 'law', 'lawyer', 'lay', 'layer', 'layoff', 'layout', 'lb', 'ldp', 'lea', 'lead', 'leader', 'leadership', 'leagu', 'lean', 'learn', 'learner', 'learning', 'least', 'leav', 'lectur', 'led', 'ledger', 'left', 'legaci', 'legal', 'legend', 'legg', 'legisl', 'legrand', 'leido', 'len', 'lend', 'lender', 'length', 'leon', 'less', 'lesson', 'let', 'letter', 'level', 'lever', 'leverag', 'lexu', 'lgt', 'li', 'liabil', 'liai', 'liaison', 'liber', 'liberti', 'libertymutu', 'librari', 'licen', 'licens', 'licensur', 'lie', 'lieu', 'life', 'lifecycl', 'lifelong', 'lifestyl', 'lifetim', 'lift', 'light', 'like', 'limit', 'limitless', 'lincoln', 'line', 'linear', 'lingual', 'link', 'linkag', 'linkedin', 'linux', 'liquid', 'liquor', 'list', 'listen', 'liter', 'literaci', 'literatur', 'litig', 'littl', 'live', 'livelihood', 'llc', 'llm', 'llp', 'lmi', 'lo', 'load', 'loan', 'lob', 'lobbi', 'local', 'locat', 'lockh', 'lockton', 'lodg', 'log', 'logic', 'logist', 'logo', 'london', 'long', 'longer', 'look', 'lookup', 'loop', 'lose', 'loss', 'lost', 'lot', 'loui', 'louisvil', 'love', 'low', 'lower', 'lowest', 'loyal', 'loyalti', 'lp', 'lpr', 'ltd', 'lte', 'lucr', 'lunch', 'luxembourg', 'luxuri', 'ly', 'mac', 'machin', 'maci', 'macro', 'macroeconom', 'made', 'madison', 'mae', 'magazin', 'magic', 'mail', 'main', 'mainland', 'mainli', 'maintain', 'mainten', 'major', 'make', 'maker', 'malaria', 'malaysia', 'mall', 'manag', 'management', 'managementexperi', 'manageri', 'mandarin', 'mandat', 'mandatori', 'manger', 'manhattan', 'mani', 'manipul', 'manner', 'manpow', 'manual', 'manufactur', 'map', 'mar', 'march', 'margin', 'marin', 'marit', 'mark', 'market', 'marketbridg', 'marketo', 'marketplac', 'marriott', 'marshal', 'mart', 'martin', 'maryland', 'mason', 'mass', 'massachusett', 'massiv', 'massmutu', 'master', 'masteri', 'match', 'materi', 'matern', 'math', 'mathemat', 'matlab', 'matricul', 'matrix', 'matter', 'matur', 'max', 'maxim', 'maximum', 'may', 'mayb', 'mayor', 'mba', 'mc', 'mcat', 'mccormick', 'mckesson', 'mckinsey', 'mclean', 'md', 'meal', 'mean', 'meant', 'measur', 'mechan', 'med', 'medal', 'medallia', 'media', 'mediat', 'medic', 'medicaid', 'medicar', 'medicin', 'medium', 'meet', 'meetup', 'mega', 'melinda', 'mellon', 'member', 'membership', 'memo', 'memor', 'memoranda', 'memorandum', 'memori', 'memoryblu', 'memphi', 'men', 'mena', 'menlo', 'mental', 'mention', 'mentor', 'mentorship', 'menu', 'mercer', 'merchandi', 'merchant', 'merg', 'merger', 'merit', 'merkl', 'messag', 'met', 'metadata', 'metal', 'method', 'methodolog', 'meticul', 'metlif', 'metric', 'metro', 'metropc', 'metropolitan', 'mexico', 'mf', 'mfi', 'mgm', 'mgmt', 'mha', 'mi', 'miami', 'mic', 'michael', 'michigan', 'micro', 'microfin', 'microsoft', 'microstrategi', 'mid', 'middl', 'midwest', 'might', 'migrat', 'mile', 'mileston', 'militari', 'mill', 'millenni', 'million', 'milwauk', 'min', 'mind', 'mindset', 'mine', 'mini', 'minim', 'minimum', 'ministri', 'minneapoli', 'minor', 'minut', 'minuteclin', 'mirror', 'miscellan', 'miss', 'mission', 'mistak', 'misu', 'mit', 'mitig', 'mitr', 'mix', 'mlp', 'mlt', 'mn', 'mo', 'mobil', 'mock', 'mode', 'model', 'moder', 'modern', 'modest', 'modif', 'modifi', 'modul', 'moh', 'moment', 'momentum', 'monday', 'monet', 'monetari', 'money', 'monitor', 'monro', 'montgomeri', 'month', 'monthli', 'montreal', 'moodi', 'moral', 'morgan', 'morn', 'morningstar', 'mortgag', 'moscow', 'mostli', 'mother', 'motion', 'motiv', 'motor', 'mount', 'mountain', 'move', 'movement', 'mover', 'movi', 'mp', 'mpa', 'mph', 'mpo', 'mpp', 'mpt', 'mrp', 'ms', 'msc', 'mso', 'msp', 'mt', 'much', 'multi', 'multicultur', 'multidisciplinari', 'multifacet', 'multifamili', 'multilat', 'multimedia', 'multin', 'multipl', 'multitask', 'multitud', 'multivari', 'municip', 'museum', 'music', 'must', 'mutual', 'mwb', 'myriad', 'mysql', 'na', 'nab', 'nairobi', 'name', 'narr', 'nasa', 'nasdaq', 'nashvil', 'nation', 'nationwid', 'nativ', 'natur', 'naval', 'navi', 'navig', 'navyfed', 'nbcuniv', 'nbmbaa', 'nc', 'nci', 'near', 'nearli', 'neat', 'necess', 'necessari', 'need', 'needed', 'needl', 'needs', 'needscollabor', 'needscreat', 'neg', 'neglect', 'negoti', 'neighborhood', 'nemetschek', 'ness', 'nestl', 'nestlé', 'net', 'netimpact', 'netsuit', 'network', 'never', 'new', 'newark', 'newday', 'newest', 'newli', 'news', 'newschool', 'newslett', 'newspap', 'next', 'nfcu', 'ngo', 'nice', 'nich', 'nielsen', 'night', 'nike', 'nimbl', 'nine', 'nineteen', 'nineti', 'nist', 'nj', 'nn', 'nobli', 'noi', 'nomin', 'non', 'nondiscrimin', 'none', 'nonprofit', 'nonstandard', 'norm', 'normal', 'north', 'northeast', 'northern', 'northrop', 'northropgrumman', 'northwest', 'northwestern', 'notabl', 'notch', 'note', 'noth', 'notic', 'notif', 'notifi', 'notion', 'nourish', 'novel', 'novemb', 'np', 'npd', 'npi', 'npv', 'nsa', 'nsno', 'nuanc', 'nuclear', 'number', 'numer', 'nur', 'nurtur', 'nutrit', 'nvr', 'nw', 'ny', 'nyc', 'nyse', 'oakland', 'object', 'objectives', 'objectiveshow', 'oblig', 'observ', 'obsess', 'obstacl', 'obtain', 'obviou', 'oc', 'occa', 'occas', 'occup', 'occur', 'ocean', 'ocm', 'octob', 'oem', 'ofccp', 'offen', 'offer', 'offic', 'offici', 'offlin', 'offshor', 'offsit', 'ofm', 'often', 'oh', 'ohio', 'oig', 'oil', 'ok', 'ola', 'old', 'older', 'omb', 'omni', 'omnitek', 'omnitur', 'on', 'onboard', 'oncampu', 'oncolog', 'one', 'onekeep', 'oneself', 'ongo', 'onlin', 'onsit', 'onto', 'op', 'open', 'oper', 'operations', 'opex', 'opinion', 'opm', 'oppo', 'opportun', 'opportunist', 'opportunities', 'opt', 'optic', 'optim', 'optimi', 'optimist', 'optimum', 'option', 'oracl', 'oral', 'orchestr', 'order', 'ordin', 'oregon', 'org', 'organ', 'organi', 'organiz', 'organization', 'organizationstrong', 'orient', 'origin', 'orlando', 'orlean', 'os', 'osha', 'otc', 'otherwi', 'oti', 'outbound', 'outcom', 'outdoor', 'outgo', 'outing', 'outlet', 'outlin', 'outlook', 'outpati', 'outperform', 'output', 'outreach', 'outsid', 'outsourc', 'outstand', 'overarch', 'overcom', 'overhead', 'overlap', 'overnight', 'overs', 'oversea', 'oversight', 'overtim', 'overview', 'overviewba', 'overviewerpi', 'overviewmckinsey', 'overviewth', 'owe', 'owner', 'ownership', 'oxley', 'pa', 'pac', 'pace', 'pacif', 'pack', 'packag', 'packet', 'pad', 'page', 'paid', 'pain', 'paint', 'pair', 'pal', 'palo', 'panel', 'paper', 'paperwork', 'para', 'paradym', 'parallel', 'paramet', 'paramount', 'parent', 'pari', 'park', 'parkwaycincinnati', 'part', 'parti', 'partial', 'particip', 'particular', 'particularli', 'partner', 'partnerid', 'partnership', 'pass', 'passeng', 'passion', 'passiv', 'passport', 'password', 'past', 'patch', 'patent', 'path', 'pathway', 'patienc', 'patient', 'patriot', 'patron', 'pattern', 'pave', 'pay', 'payabl', 'paycheck', 'payer', 'paygev', 'payment', 'payor', 'payout', 'paypal', 'payrol', 'pbm', 'pc', 'pcmh', 'pdca', 'pdf', 'pe', 'peac', 'peak', 'pediatr', 'peer', 'pend', 'penetr', 'pennsylvania', 'pensacola', 'pension', 'pensk', 'peopl', 'people', 'peoplesoft', 'pep', 'pepfar', 'pepsi', 'pepsico', 'per', 'perceiv', 'percent', 'percentag', 'percept', 'perfect', 'perform', 'perhap', 'period', 'periph', 'periscop', 'perk', 'perl', 'perman', 'permit', 'persev', 'persist', 'person', 'persona', 'personnel', 'perspect', 'persua', 'persuad', 'pertain', 'pertin', 'peru', 'pet', 'peter', 'petroleum', 'pew', 'pg', 'pgm', 'ph', 'pharma', 'pharmaceut', 'pharmaci', 'pharmacist', 'phase', 'phd', 'phelp', 'phenomen', 'philadelphia', 'philanthrop', 'philanthropi', 'philanthropist', 'philippin', 'philosophi', 'phoenix', 'phone', 'photo', 'photocopi', 'photograph', 'photographi', 'photoshop', 'php', 'physic', 'physician', 'pi', 'pick', 'pictur', 'piec', 'pillar', 'pilot', 'pinterest', 'pioneer', 'pipelin', 'pitch', 'pittsburgh', 'pivot', 'pizza', 'pl', 'place', 'placement', 'plain', 'plan', 'planet', 'planner', 'plant', 'plastic', 'platform', 'play', 'playbook', 'player', 'pldp', 'plea', 'pleasant', 'pleasur', 'pledg', 'plenti', 'plu', 'plus', 'plusabl', 'plusexcel', 'plusexperi', 'plusstrong', 'pm', 'pmo', 'pmp', 'pmt', 'pmu', 'pnc', 'po', 'poc', 'poi', 'point', 'polic', 'polici', 'policymak', 'polish', 'polit', 'pollard', 'polygraph', 'pool', 'poor', 'pop', 'popul', 'popular', 'port', 'portal', 'portfolio', 'portion', 'portland', 'portray', 'portugu', 'pose', 'posit', 'possess', 'possibl', 'post', 'postal', 'poster', 'postgradu', 'potenti', 'potomac', 'pound', 'poverti', 'power', 'powerpoint', 'ppc', 'ppg', 'ppm', 'ppt', 'pr', 'practic', 'practicedetermin', 'practit', 'pragmat', 'pratt', 'pre', 'prece', 'preci', 'predict', 'preemin', 'prefer', 'preferred', 'preferred2', 'preferred3', 'preferred5', 'preferreddemonstr', 'preferredexcel', 'preferredexperi', 'preferredknowledg', 'preferredminimum', 'preferredstrong', 'pregnanc', 'preliminari', 'premi', 'premier', 'premium', 'prep', 'prepaid', 'prepar', 'prerequisit', 'prescrib', 'prescript', 'presenc', 'present', 'preserv', 'preset', 'presid', 'press', 'pressur', 'prestigi', 'pretti', 'prevail', 'preval', 'prevent', 'preview', 'previou', 'price', 'pricewaterhousecoop', 'pride', 'primari', 'primarili', 'prime', 'princ', 'princeton', 'princip', 'principl', 'print', 'printer', 'prior', 'priorit', 'prioriti', 'privaci', 'privat', 'privileg', 'prize', 'pro', 'proactiv', 'probabl', 'probe', 'problem', 'procedur', 'proceed', 'process', 'processes', 'processor', 'procter', 'procur', 'produc', 'product', 'profess', 'professor', 'profici', 'profil', 'profit', 'profound', 'program', 'programm', 'programmat', 'programth', 'progress', 'prohibit', 'project', 'projects', 'prolong', 'promi', 'promin', 'promot', 'prompt', 'promptli', 'promptpay', 'proof', 'proofread', 'propel', 'proper', 'properli', 'properti', 'propo', 'proposit', 'proprietari', 'prospect', 'prosper', 'protect', 'protiv', 'protocol', 'prototyp', 'proud', 'proudli', 'prove', 'proven', 'provi', 'provid', 'provok', 'proxim', 'prtm', 'prudenti', 'ps', 'psi', 'psm', 'pst', 'psycholog', 'psychologist', 'pt', 'pto', 'public', 'publicli', 'publish', 'puerto', 'pul', 'pull', 'punctual', 'pur', 'purcha', 'pure', 'purpo', 'pursu', 'pursuant', 'pursuit', 'push', 'put', 'pwc', 'pwccn', 'pwchk', 'python', 'pyxera', 'qa', 'qc', 'qlik', 'qm', 'quaker', 'qualif', 'qualifi', 'qualifications', 'qualificationsa', 'qualificationsba', 'qualificationsbachelor', 'qualificationscurr', 'qualificationseduc', 'qualificationsexperi', 'qualificationsmba', 'qualificationsminimum', 'qualificationsrequir', 'qualificationsstrong', 'qualit', 'qualiti', 'quantif', 'quantifi', 'quantit', 'quantiti', 'quarter', 'quarterli', 'queri', 'quest', 'question', 'questionnair', 'quick', 'quickbook', 'quickli', 'quiet', 'quo', 'quot', 'quota', 'quotat', 'ra', 'race', 'rack', 'radio', 'rai', 'rail', 'railroad', 'raleigh', 'ralli', 'ramp', 'random', 'rang', 'rank', 'rapid', 'rapidli', 'rapport', 'rare', 'rate', 'rather', 'ratio', 'ration', 'raw', 'raytheon', 'rb', 'rbg', 'reach', 'react', 'reactiv', 'read', 'reader', 'readi', 'readili', 'real', 'realist', 'realiti', 'realiz', 'realli', 'realti', 'reason', 'rebat', 'recal', 'recap', 'receipt', 'receiv', 'recent', 'recept', 'receptionist', 'recipi', 'recogn', 'recognit', 'recommend', 'reconcil', 'reconcili', 'record', 'recoveri', 'recreat', 'recruit', 'recsolucampu', 'recur', 'red', 'redefin', 'redesign', 'redf', 'reduc', 'reduct', 'redwood', 'reengin', 'refer', 'referenc', 'referr', 'refin', 'reflect', 'reform', 'refresh', 'refug', 'reg', 'regard', 'regardless', 'region', 'regist', 'registr', 'regress', 'regul', 'regular', 'regularli', 'regulatori', 'rehabilit', 'reimagin', 'reimbur', 'reinforc', 'reinvent', 'reinvest', 'reit', 'reject', 'rel', 'relat', 'relationship', 'relationships', 'relax', 'relay', 'relea', 'relentless', 'relentlessli', 'relev', 'reli', 'reliabl', 'relianc', 'religi', 'religion', 'reloc', 'remain', 'remaind', 'remark', 'remedi', 'remind', 'remodel', 'remot', 'remov', 'render', 'renew', 'renov', 'renown', 'rent', 'rental', 'reorgan', 'rep', 'repair', 'repeat', 'replac', 'replenish', 'repli', 'replic', 'report', 'repositori', 'repr', 'repres', 'reproduct', 'republ', 'reput', 'req', 'request', 'requir', 'required', 'requiredbachelor', 'requirededuc', 'requiredexperi', 'requiredmba', 'requiredminimum', 'requiredstrong', 'requirements', 'requirementsbachelor', 'requisit', 'research', 'resel', 'reserv', 'reservist', 'resid', 'residenti', 'resili', 'resolut', 'resolv', 'reson', 'resort', 'resourc', 'respect', 'respon', 'respond', 'responsibilities', 'responsibilitiesrequir', 'responsibilitiesth', 'responsibilitieswork', 'rest', 'restaur', 'reston', 'restor', 'restrict', 'restructur', 'result', 'results', 'resum', 'retail', 'retain', 'retent', 'retir', 'retreat', 'retriev', 'return', 'revenu', 'rever', 'revi', 'review', 'revolut', 'revolutionari', 'reward', 'reynold', 'rf', 'rfi', 'rfp', 'rfq', 'rfx', 'rhsmith', 'rhythm', 'ri', 'rich', 'richmond', 'rico', 'rid', 'ride', 'rider', 'right', 'rigor', 'riot', 'rise', 'risk', 'river', 'rld', 'rm', 'rmb', 'ro', 'road', 'roadblock', 'roadmap', 'robert', 'robot', 'robust', 'rock', 'rockauto', 'rockvil', 'roi', 'role', 'roll', 'rollout', 'room', 'root', 'rope', 'roster', 'rotat', 'roughli', 'round', 'roundtabl', 'rout', 'router', 'routin', 'row', 'royalti', 'rpo', 'rsm', 'rtm', 'rule', 'run', 'rural', 'russia', 'russian', 'rwanda', 'résumé', 'sa', 'saa', 'sach', 'sacramento', 'sacrif', 'safe', 'safeguard', 'safer', 'safeti', 'sage', 'sagework', 'saharan', 'sai', 'said', 'salari', 'sale', 'salesforc', 'salespeopl', 'salesperson', 'salli', 'sam', 'sampl', 'samsung', 'san', 'sanit', 'santa', 'sap', 'sapient', 'sar', 'sarban', 'sat', 'satellit', 'satisfact', 'satisfactori', 'satisfactorili', 'satisfi', 'saturday', 'saudi', 'save', 'savicom', 'savin', 'savvi', 'say', 'sba', 'sbdc', 'sbi', 'sbu', 'sc', 'scalabl', 'scale', 'scan', 'scatter', 'scenario', 'scene', 'schedul', 'schein', 'scheme', 'schneider', 'scholar', 'scholarship', 'school', 'schwab', 'sci', 'scienc', 'scientif', 'scientist', 'scldp', 'scm', 'scope', 'score', 'scorecard', 'scott', 'scout', 'scrappi', 'scratch', 'screen', 'script', 'scrum', 'sdlc', 'sdm', 'se', 'sea', 'seamless', 'seamlessli', 'search', 'season', 'seat', 'seattl', 'sec', 'second', 'secondari', 'secret', 'secretari', 'section', 'sectionenviron', 'sector', 'secu', 'secur', 'securian', 'securit', 'see', 'seed', 'seek', 'seeker', 'seem', 'seen', 'segment', 'sei', 'seiu', 'seiz', 'sel', 'select', 'self', 'sell', 'seller', 'sem', 'semant', 'semest', 'semi', 'semiconductor', 'seminar', 'sen', 'send', 'senior', 'sensit', 'sensor', 'sensori', 'sent', 'sentenc', 'seo', 'separ', 'septemb', 'sequenc', 'seri', 'seriou', 'serv', 'servant', 'server', 'servic', 'servicenow', 'services', 'session', 'set', 'settl', 'settlement', 'setup', 'seven', 'seventeen', 'seventi', 'sever', 'sex', 'sexual', 'sf', 'sfa', 'sg', 'sgb', 'sh', 'shadow', 'shaker', 'shald', 'shall', 'shanghai', 'shape', 'share', 'sharehold', 'sharepoint', 'sharp', 'sharpen', 'sheet', 'shelf', 'shell', 'shelter', 'shelv', 'shenzhen', 'shi', 'shield', 'shift', 'shine', 'ship', 'shipment', 'shipper', 'shirt', 'shoe', 'shoot', 'shop', 'shopper', 'shore', 'short', 'shortag', 'shot', 'show', 'showca', 'shown', 'showroom', 'shuttl', 'si', 'sick', 'side', 'siemen', 'sierra', 'sight', 'sigma', 'sign', 'signag', 'signal', 'signatur', 'signif', 'significantli', 'silica', 'silicon', 'silver', 'similar', 'simpl', 'simpli', 'simplic', 'simplif', 'simplifi', 'simul', 'simultan', 'sinc', 'sincer', 'singapor', 'singl', 'sipc', 'sit', 'site', 'siteid', 'situat', 'six', 'sixteen', 'sixti', 'size', 'sjob', 'sketch', 'skill', 'skills', 'skillsa', 'skillsabl', 'skillsadvanc', 'skillsatt', 'skillsdemonstr', 'skillseffect', 'skillset', 'skillsexcel', 'skillsexcept', 'skillsexperi', 'skillshigh', 'skillshighli', 'skillsknowledg', 'skillsmust', 'skillsprofici', 'skillsproven', 'skillsself', 'skillsstrong', 'skillsth', 'skin', 'sku', 'sky', 'skype', 'sla', 'sleep', 'sleev', 'slide', 'slow', 'slp', 'sm', 'small', 'smaller', 'smart', 'smarter', 'smartphon', 'smb', 'sme', 'smile', 'smith', 'smoke', 'smooth', 'smoothli', 'snack', 'soccer', 'social', 'societi', 'sociolog', 'soft', 'softwar', 'solar', 'sold', 'sole', 'solicit', 'solid', 'solidifi', 'solut', 'solutions', 'solv', 'solver', 'someon', 'someth', 'sometim', 'soni', 'soon', 'sooner', 'sop', 'sophist', 'sophomor', 'sort', 'sought', 'sound', 'sourc', 'south', 'southeast', 'southern', 'southwest', 'sow', 'sox', 'sp', 'space', 'spain', 'spald', 'span', 'spanish', 'spark', 'speak', 'speaker', 'spearhead', 'spec', 'special', 'specialist', 'specialti', 'specif', 'specifi', 'spectra', 'spectrum', 'speech', 'speed', 'spell', 'spend', 'spent', 'sphere', 'spice', 'spin', 'spirit', 'spiritu', 'split', 'spoken', 'spokesperson', 'sponsor', 'sponsorship', 'sport', 'spot', 'spou', 'spread', 'spreadsheet', 'spring', 'sprint', 'spss', 'sql', 'squar', 'sr', 'ssr', 'st', 'sta', 'stabil', 'stabl', 'stack', 'staf', 'staff', 'staffer', 'stage', 'stair', 'stake', 'stakehold', 'stamford', 'stand', 'standard', 'stanford', 'stanley', 'star', 'starbuck', 'start', 'starter', 'startup', 'stat', 'stata', 'state', 'statement', 'statewid', 'station', 'statist', 'statistician', 'statu', 'statut', 'statutori', 'stay', 'steadi', 'steel', 'steep', 'steer', 'stellar', 'stem', 'step', 'sterl', 'steward', 'stewardship', 'stick', 'still', 'stimul', 'stipend', 'stock', 'stone', 'stood', 'stoop', 'stop', 'storag', 'store', 'stori', 'storytel', 'straightforward', 'strateg', 'strategi', 'strategist', 'stream', 'streamlin', 'street', 'strength', 'strengthen', 'stress', 'stretch', 'strict', 'strike', 'strip', 'strive', 'strong', 'stronger', 'strongest', 'strongli', 'structur', 'student', 'studi', 'studio', 'stuff', 'style', 'sub', 'subcontract', 'subcontractor', 'subject', 'submiss', 'submit', 'submitt', 'subordin', 'subscrib', 'subscript', 'subsequ', 'subset', 'subsid', 'subsidi', 'subsidiari', 'substanc', 'substant', 'substanti', 'substitut', 'succeed', 'success', 'succinct', 'succinctli', 'suffici', 'suggest', 'suiss', 'suit', 'suitabl', 'summar', 'summari', 'summaryth', 'summer', 'summit', 'sun', 'sunday', 'suntrust', 'super', 'superb', 'superintend', 'superior', 'superl', 'supervi', 'supervisor', 'supervisori', 'supplement', 'suppli', 'supplier', 'support', 'sure', 'surfac', 'surgeri', 'surgic', 'surpri', 'surround', 'surveil', 'survey', 'surviv', 'susan', 'sustain', 'svp', 'swana', 'swiss', 'switch', 'symbol', 'sync', 'syndic', 'synergi', 'synth', 'synthesi', 'system', 'systemat', 't3', 'ta', 'tab', 'tabl', 'tableau', 'tablet', 'tackl', 'tact', 'tactic', 'tag', 'tailor', 'taiwan', 'take', 'taken', 'taker', 'talent', 'taleo', 'talk', 'tangibl', 'tank', 'tap', 'tape', 'target', 'task', 'tast', 'taught', 'tax', 'taxat', 'taxpay', 'tbe', 'tc', 'tdc', 'te', 'tea', 'teach', 'teacher', 'team', 'teambuild', 'teamdemonstr', 'teammat', 'teams', 'teamstrong', 'teamwork', 'teardown', 'tech', 'technic', 'technician', 'techniqu', 'technolog', 'technologist', 'tedco', 'teksystem', 'tel', 'telecom', 'telecommun', 'telecommut', 'telemarket', 'telephon', 'televi', 'telework', 'tell', 'teller', 'temp', 'temperatur', 'templat', 'temporari', 'ten', 'tenabl', 'tenac', 'tenaci', 'tenant', 'tender', 'tenur', 'teradata', 'term', 'termin', 'terminolog', 'terp', 'terrif', 'territori', 'test', 'tester', 'testimoni', 'texa', 'text', 'textbook', 'textron', 'tf', 'tg', 'tgwebhost', 'th', 'thailand', 'thank', 'the', 'theater', 'theme', 'theori', 'therapeut', 'therapi', 'therebi', 'therefor', 'thermo', 'theyr', 'thi', 'thing', 'think', 'thinker', 'third', 'thirst', 'thirteen', 'thirti', 'thornton', 'thorough', 'thoroughli', 'though', 'thought', 'thousand', 'thread', 'threat', 'three', 'threshold', 'thrive', 'throughout', 'throughput', 'thru', 'thu', 'thurgood', 'thursday', 'ti', 'ticket', 'tie', 'tier', 'tight', 'tilli', 'time', 'timefram', 'timejob', 'timelin', 'timesheet', 'tip', 'tire', 'titl', 'tm', 'tmc', 'tmu', 'tn', 'tntp', 'to', 'tobacco', 'today', 'togeth', 'tokyo', 'toler', 'tomorrow', 'ton', 'tone', 'tool', 'toolkit', 'top', 'topic', 'toplin', 'toronto', 'total', 'touch', 'touchpoint', 'tough', 'toughest', 'tour', 'tourism', 'toward', 'tower', 'town', 'toy', 'toyota', 'tpm', 'trace', 'track', 'tracker', 'trade', 'trademark', 'tradeoff', 'trader', 'tradeshow', 'tradit', 'traffic', 'traffick', 'trail', 'train', 'trainer', 'trait', 'trajectori', 'transact', 'transcript', 'transfer', 'transform', 'transgend', 'transit', 'translat', 'transmiss', 'transmit', 'transpar', 'transport', 'travel', 'treasur', 'treasuri', 'treat', 'treatment', 'tree', 'tremend', 'trend', 'tri', 'triag', 'trial', 'trigger', 'trillion', 'trip', 'tropicana', 'troubl', 'troubleshoot', 'truck', 'true', 'truli', 'trust', 'trustworthi', 'truth', 'tryout', 'ts', 'tsa', 'tsmc', 'tuesday', 'tuition', 'tune', 'turn', 'turnaround', 'turnov', 'tutor', 'tv', 'twelv', 'twenti', 'twice', 'twitter', 'two', 'tx', 'type', 'typic', 'tyson', 'ua', 'uae', 'uber', 'ucla', 'uflp', 'ui', 'uk', 'ultim', 'ultra', 'umd', 'un', 'unabl', 'unbound', 'uncap', 'uncertainti', 'unchart', 'uncommon', 'uncompromi', 'unconv', 'uncov', 'undergo', 'undergrad', 'undergradu', 'underli', 'underlin', 'underpin', 'underprivileg', 'underrepr', 'underserv', 'understand', 'understood', 'undertak', 'undertaken', 'underwrit', 'unemploy', 'unexpect', 'unifi', 'uniform', 'unilev', 'union', 'uniqu', 'unit', 'unitedhealth', 'univ', 'unix', 'unknown', 'unlaw', 'unleash', 'unless', 'unlik', 'unlimit', 'unlock', 'unmatch', 'unmet', 'unoffici', 'unpaid', 'unparallel', 'unprec', 'unquest', 'unrestrict', 'unriv', 'unsolicit', 'unstructur', 'unum', 'unusu', 'unwav', 'unwil', 'upbeat', 'upcom', 'updat', 'upgrad', 'uphold', 'upkeep', 'upload', 'upon', 'upper', 'upperca', 'upsel', 'upsid', 'upstream', 'upward', 'urban', 'urgenc', 'urgent', 'url', 'us', 'usa', 'usaa', 'usabl', 'usag', 'usaid', 'usajob', 'usci', 'usd', 'usda', 'use', 'user', 'usp', 'usual', 'ut', 'util', 'utm', 'utmost', 'uva', 'ux', 'va', 'vacanc', 'vacat', 'vaccin', 'vaexperi', 'valid', 'valley', 'valu', 'valuabl', 'valuat', 'valvolin', 'van', 'vanguard', 'vari', 'variabl', 'varianc', 'variat', 'varieti', 'variou', 'vast', 'vb', 'vba', 'vc', 'vector', 'vectorwork', 'vega', 'vehicl', 'vendor', 'ventur', 'venu', 'ver', 'verbal', 'verif', 'verifi', 'verisk', 'verizon', 'versatil', 'version', 'versu', 'vertex', 'vertic', 'vest', 'vet', 'veteran', 'vevraa', 'vfa', 'vha', 'via', 'viabil', 'viabl', 'vibrant', 'vice', 'victim', 'victor', 'video', 'vienna', 'vietnam', 'view', 'viewdetail', 'viewpoint', 'villag', 'violat', 'violenc', 'vip', 'virchow', 'virginia', 'virtual', 'visa', 'visibl', 'visio', 'vision', 'visionari', 'visit', 'visitor', 'vista', 'visual', 'vita', 'vital', 'vlookup', 'vmware', 'voic', 'volatil', 'volkswagen', 'volum', 'volunt', 'voluntari', 'vote', 'votenet', 'vp', 'vs', 'vulner', 'vw', 'wa', 'wage', 'wait', 'waiver', 'walk', 'wall', 'wallethub', 'walmart', 'walt', 'want', 'wareh', 'warm', 'warner', 'warranti', 'wash', 'washington', 'wast', 'watch', 'water', 'waterfront', 'watson', 'wave', 'way', 'wayfair', 'wbb', 'wbg', 'wcf', 'weak', 'wealth', 'weapon', 'wear', 'weather', 'web', 'webcast', 'webinar', 'websit', 'wechat', 'wed', 'wednesday', 'week', 'weekday', 'weekend', 'weekli', 'weigh', 'weight', 'welcom', 'welfar', 'well', 'wellb', 'wellington', 'west', 'western', 'weve', 'wf', 'wfp', 'whatev', 'wheel', 'whenev', 'wherebi', 'wherev', 'whether', 'whichev', 'whilst', 'whirlpool', 'white', 'whitepap', 'whole', 'wholes', 'wholli', 'whose', 'wi', 'wide', 'wider', 'width', 'wildlif', 'william', 'wilmington', 'win', 'winchest', 'window', 'wine', 'wineri', 'winner', 'winter', 'wipro', 'wire', 'wirefram', 'wireless', 'wiseguy', 'wish', 'wit', 'within', 'without', 'wm', 'wolftrap', 'woman', 'women', 'wonder', 'wont', 'wood', 'word', 'wordpress', 'work', 'workabl', 'workday', 'worker', 'workflow', 'workforc', 'workgroup', 'workload', 'workpap', 'workplac', 'workshop', 'worksit', 'workstat', 'workstream', 'world', 'worldwid', 'worri', 'worth', 'worthi', 'would', 'wow', 'wpp', 'wrap', 'write', 'writer', 'written', 'wrong', 'ww', 'wwf', 'www', 'xjob', 'xml', 'yard', 'ye', 'year', 'yearli', 'yellow', 'yelp', 'yet', 'yield', 'york', 'you', 'youd', 'youll', 'young', 'youth', 'youtub', 'youv', 'yp', 'yr', 'yum', 'zbb', 'zero', 'zolfo', 'zone', 'zs']\n"
          ],
          "name": "stdout"
        }
      ]
    },
    {
      "cell_type": "code",
      "metadata": {
        "id": "VYEEbuNd6UnE",
        "colab_type": "code",
        "colab": {}
      },
      "source": [
        "# Set values for various parameters\n",
        "num_features = 300    # Word vector dimensionality                      \n",
        "min_word_count = 40   # Minimum word count                        \n",
        "num_workers = 4       # Number of threads to run in parallel\n",
        "context = 10          # Context window size                                                                                    \n",
        "downsampling = 1e-3   # Downsample setting for frequent words"
      ],
      "execution_count": 107,
      "outputs": []
    },
    {
      "cell_type": "code",
      "metadata": {
        "id": "Z6OByLk0OgA3",
        "colab_type": "code",
        "colab": {
          "base_uri": "https://localhost:8080/",
          "height": 689
        },
        "outputId": "5329e67d-1573-46b0-a700-b384628e0e60"
      },
      "source": [
        "model = word2vec.Word2Vec(sentences=vocab, workers=num_workers, \\\n",
        "            size=num_features, min_count = min_word_count, \\\n",
        "            window = context, sample = downsampling)"
      ],
      "execution_count": 115,
      "outputs": [
        {
          "output_type": "stream",
          "text": [
            "2020-09-10 04:57:06,999 : INFO : collecting all words and their counts\n",
            "2020-09-10 04:57:07,000 : WARNING : Each 'sentences' item should be a list of words (usually unicode strings). First item here is instead plain <class 'str'>.\n",
            "2020-09-10 04:57:07,001 : INFO : PROGRESS: at sentence #0, processed 0 words, keeping 0 word types\n",
            "2020-09-10 04:57:07,019 : INFO : collected 36 word types from a corpus of 29828 raw words and 5000 sentences\n",
            "2020-09-10 04:57:07,020 : INFO : Loading a fresh vocabulary\n",
            "2020-09-10 04:57:07,022 : INFO : effective_min_count=40 retains 26 unique words (72% of original 36, drops 10)\n",
            "2020-09-10 04:57:07,023 : INFO : effective_min_count=40 leaves 29751 word corpus (99% of original 29828, drops 77)\n",
            "2020-09-10 04:57:07,024 : INFO : deleting the raw counts dictionary of 36 items\n",
            "2020-09-10 04:57:07,025 : INFO : sample=0.001 downsamples 24 most-common words\n",
            "2020-09-10 04:57:07,027 : INFO : downsampling leaves estimated 5098 word corpus (17.1% of prior 29751)\n",
            "2020-09-10 04:57:07,028 : INFO : estimated required memory for 26 words and 300 dimensions: 75400 bytes\n",
            "2020-09-10 04:57:07,029 : INFO : resetting layer weights\n",
            "2020-09-10 04:57:07,043 : INFO : training model with 4 workers on 26 vocabulary and 300 features, using sg=0 hs=0 sample=0.001 negative=5 window=10\n",
            "2020-09-10 04:57:07,055 : INFO : worker thread finished; awaiting finish of 3 more threads\n",
            "2020-09-10 04:57:07,063 : INFO : worker thread finished; awaiting finish of 2 more threads\n",
            "2020-09-10 04:57:07,070 : INFO : worker thread finished; awaiting finish of 1 more threads\n",
            "2020-09-10 04:57:07,070 : INFO : worker thread finished; awaiting finish of 0 more threads\n",
            "2020-09-10 04:57:07,071 : INFO : EPOCH - 1 : training on 29828 raw words (4959 effective words) took 0.0s, 274948 effective words/s\n",
            "2020-09-10 04:57:07,089 : INFO : worker thread finished; awaiting finish of 3 more threads\n",
            "2020-09-10 04:57:07,092 : INFO : worker thread finished; awaiting finish of 2 more threads\n",
            "2020-09-10 04:57:07,094 : INFO : worker thread finished; awaiting finish of 1 more threads\n",
            "2020-09-10 04:57:07,096 : INFO : worker thread finished; awaiting finish of 0 more threads\n",
            "2020-09-10 04:57:07,097 : INFO : EPOCH - 2 : training on 29828 raw words (5086 effective words) took 0.0s, 296643 effective words/s\n",
            "2020-09-10 04:57:07,114 : INFO : worker thread finished; awaiting finish of 3 more threads\n",
            "2020-09-10 04:57:07,122 : INFO : worker thread finished; awaiting finish of 2 more threads\n",
            "2020-09-10 04:57:07,127 : INFO : worker thread finished; awaiting finish of 1 more threads\n",
            "2020-09-10 04:57:07,132 : INFO : worker thread finished; awaiting finish of 0 more threads\n",
            "2020-09-10 04:57:07,133 : INFO : EPOCH - 3 : training on 29828 raw words (5132 effective words) took 0.0s, 243664 effective words/s\n",
            "2020-09-10 04:57:07,147 : INFO : worker thread finished; awaiting finish of 3 more threads\n",
            "2020-09-10 04:57:07,154 : INFO : worker thread finished; awaiting finish of 2 more threads\n",
            "2020-09-10 04:57:07,157 : INFO : worker thread finished; awaiting finish of 1 more threads\n",
            "2020-09-10 04:57:07,161 : INFO : worker thread finished; awaiting finish of 0 more threads\n",
            "2020-09-10 04:57:07,162 : INFO : EPOCH - 4 : training on 29828 raw words (5102 effective words) took 0.0s, 265888 effective words/s\n",
            "2020-09-10 04:57:07,177 : INFO : worker thread finished; awaiting finish of 3 more threads\n",
            "2020-09-10 04:57:07,180 : INFO : worker thread finished; awaiting finish of 2 more threads\n",
            "2020-09-10 04:57:07,189 : INFO : worker thread finished; awaiting finish of 1 more threads\n",
            "2020-09-10 04:57:07,190 : INFO : worker thread finished; awaiting finish of 0 more threads\n",
            "2020-09-10 04:57:07,191 : INFO : EPOCH - 5 : training on 29828 raw words (5089 effective words) took 0.0s, 271738 effective words/s\n",
            "2020-09-10 04:57:07,193 : INFO : training on a 149140 raw words (25368 effective words) took 0.1s, 171820 effective words/s\n",
            "2020-09-10 04:57:07,194 : WARNING : under 10 jobs per worker: consider setting a smaller `batch_words' for smoother alpha decay\n"
          ],
          "name": "stderr"
        }
      ]
    },
    {
      "cell_type": "code",
      "metadata": {
        "id": "ucRG4Ql-TqP-",
        "colab_type": "code",
        "colab": {
          "base_uri": "https://localhost:8080/",
          "height": 303
        },
        "outputId": "ecc9298a-d43e-42c5-f4e6-68fc4600c435"
      },
      "source": [
        "model.wv.most_similar('citizen')"
      ],
      "execution_count": 120,
      "outputs": [
        {
          "output_type": "error",
          "ename": "KeyError",
          "evalue": "ignored",
          "traceback": [
            "\u001b[0;31m---------------------------------------------------------------------------\u001b[0m",
            "\u001b[0;31mKeyError\u001b[0m                                  Traceback (most recent call last)",
            "\u001b[0;32m<ipython-input-120-02ea0b7a3ee4>\u001b[0m in \u001b[0;36m<module>\u001b[0;34m()\u001b[0m\n\u001b[0;32m----> 1\u001b[0;31m \u001b[0mmodel\u001b[0m\u001b[0;34m.\u001b[0m\u001b[0mwv\u001b[0m\u001b[0;34m.\u001b[0m\u001b[0mmost_similar\u001b[0m\u001b[0;34m(\u001b[0m\u001b[0;34m'citizen'\u001b[0m\u001b[0;34m)\u001b[0m\u001b[0;34m\u001b[0m\u001b[0;34m\u001b[0m\u001b[0m\n\u001b[0m",
            "\u001b[0;32m/usr/local/lib/python3.6/dist-packages/gensim/models/keyedvectors.py\u001b[0m in \u001b[0;36mmost_similar\u001b[0;34m(self, positive, negative, topn, restrict_vocab, indexer)\u001b[0m\n\u001b[1;32m    529\u001b[0m                 \u001b[0mmean\u001b[0m\u001b[0;34m.\u001b[0m\u001b[0mappend\u001b[0m\u001b[0;34m(\u001b[0m\u001b[0mweight\u001b[0m \u001b[0;34m*\u001b[0m \u001b[0mword\u001b[0m\u001b[0;34m)\u001b[0m\u001b[0;34m\u001b[0m\u001b[0;34m\u001b[0m\u001b[0m\n\u001b[1;32m    530\u001b[0m             \u001b[0;32melse\u001b[0m\u001b[0;34m:\u001b[0m\u001b[0;34m\u001b[0m\u001b[0;34m\u001b[0m\u001b[0m\n\u001b[0;32m--> 531\u001b[0;31m                 \u001b[0mmean\u001b[0m\u001b[0;34m.\u001b[0m\u001b[0mappend\u001b[0m\u001b[0;34m(\u001b[0m\u001b[0mweight\u001b[0m \u001b[0;34m*\u001b[0m \u001b[0mself\u001b[0m\u001b[0;34m.\u001b[0m\u001b[0mword_vec\u001b[0m\u001b[0;34m(\u001b[0m\u001b[0mword\u001b[0m\u001b[0;34m,\u001b[0m \u001b[0muse_norm\u001b[0m\u001b[0;34m=\u001b[0m\u001b[0;32mTrue\u001b[0m\u001b[0;34m)\u001b[0m\u001b[0;34m)\u001b[0m\u001b[0;34m\u001b[0m\u001b[0;34m\u001b[0m\u001b[0m\n\u001b[0m\u001b[1;32m    532\u001b[0m                 \u001b[0;32mif\u001b[0m \u001b[0mword\u001b[0m \u001b[0;32min\u001b[0m \u001b[0mself\u001b[0m\u001b[0;34m.\u001b[0m\u001b[0mvocab\u001b[0m\u001b[0;34m:\u001b[0m\u001b[0;34m\u001b[0m\u001b[0;34m\u001b[0m\u001b[0m\n\u001b[1;32m    533\u001b[0m                     \u001b[0mall_words\u001b[0m\u001b[0;34m.\u001b[0m\u001b[0madd\u001b[0m\u001b[0;34m(\u001b[0m\u001b[0mself\u001b[0m\u001b[0;34m.\u001b[0m\u001b[0mvocab\u001b[0m\u001b[0;34m[\u001b[0m\u001b[0mword\u001b[0m\u001b[0;34m]\u001b[0m\u001b[0;34m.\u001b[0m\u001b[0mindex\u001b[0m\u001b[0;34m)\u001b[0m\u001b[0;34m\u001b[0m\u001b[0;34m\u001b[0m\u001b[0m\n",
            "\u001b[0;32m/usr/local/lib/python3.6/dist-packages/gensim/models/keyedvectors.py\u001b[0m in \u001b[0;36mword_vec\u001b[0;34m(self, word, use_norm)\u001b[0m\n\u001b[1;32m    450\u001b[0m             \u001b[0;32mreturn\u001b[0m \u001b[0mresult\u001b[0m\u001b[0;34m\u001b[0m\u001b[0;34m\u001b[0m\u001b[0m\n\u001b[1;32m    451\u001b[0m         \u001b[0;32melse\u001b[0m\u001b[0;34m:\u001b[0m\u001b[0;34m\u001b[0m\u001b[0;34m\u001b[0m\u001b[0m\n\u001b[0;32m--> 452\u001b[0;31m             \u001b[0;32mraise\u001b[0m \u001b[0mKeyError\u001b[0m\u001b[0;34m(\u001b[0m\u001b[0;34m\"word '%s' not in vocabulary\"\u001b[0m \u001b[0;34m%\u001b[0m \u001b[0mword\u001b[0m\u001b[0;34m)\u001b[0m\u001b[0;34m\u001b[0m\u001b[0;34m\u001b[0m\u001b[0m\n\u001b[0m\u001b[1;32m    453\u001b[0m \u001b[0;34m\u001b[0m\u001b[0m\n\u001b[1;32m    454\u001b[0m     \u001b[0;32mdef\u001b[0m \u001b[0mget_vector\u001b[0m\u001b[0;34m(\u001b[0m\u001b[0mself\u001b[0m\u001b[0;34m,\u001b[0m \u001b[0mword\u001b[0m\u001b[0;34m)\u001b[0m\u001b[0;34m:\u001b[0m\u001b[0;34m\u001b[0m\u001b[0;34m\u001b[0m\u001b[0m\n",
            "\u001b[0;31mKeyError\u001b[0m: \"word 'citizen' not in vocabulary\""
          ]
        }
      ]
    },
    {
      "cell_type": "code",
      "metadata": {
        "id": "kAWxMl-GheLx",
        "colab_type": "code",
        "colab": {}
      },
      "source": [
        "from nltk import pos_tag\n",
        "from nltk.stem import PorterStemmer\n",
        "\n",
        "ps = PorterStemmer()\n",
        "\n",
        "\n",
        "# process the job description.\n",
        "def prepare_job_desc(desc):\n",
        "    # tokenize description.\n",
        "    tokens = word_tokenize(desc)\n",
        "        \n",
        "    # Parts of speech (POS) tag tokens.\n",
        "    token_tag = pos_tag(tokens)\n",
        "    \n",
        "    # Only include some of the POS tags.\n",
        "    include_tags = ['VBN', 'VBD', 'JJ', 'JJS', 'JJR', 'CD', 'NN', 'NNS', 'NNP', 'NNPS']\n",
        "    filtered_tokens = [tok for tok, tag in token_tag if tag in include_tags]\n",
        "    \n",
        "    # stem words.\n",
        "    stemmed_tokens = [tok.lower() for tok in filtered_tokens]\n",
        "    return set(stemmed_tokens)\n",
        "\n",
        "df['job_description_word_set'] = df['Job Description'].map(prepare_job_desc)\n",
        "\n",
        "\n",
        "skill_keywords1_set = set([ps.stem(tok) for tok in skill_keywords1])# stem the keywords (since the job description is also stemmed.)\n",
        "skill_keywords1_dict = {ps.stem(tok):tok for tok in skill_keywords1}# use this dictionary to revert the stemmed words back to the original.\n",
        "\n",
        "degree_keywords1_set = set([ps.stem(tok) for tok in degree_dict.keys()])\n",
        "degree_keywords1_dict = {ps.stem(tok):tok for tok in degree_dict.keys()}\n"
      ],
      "execution_count": null,
      "outputs": []
    },
    {
      "cell_type": "code",
      "metadata": {
        "id": "sYXs96XWhs-p",
        "colab_type": "code",
        "colab": {
          "base_uri": "https://localhost:8080/",
          "height": 85
        },
        "outputId": "88fd43e0-2b2e-49e7-ef06-6e80fd2cd72f"
      },
      "source": [
        "nltk.download('averaged_perceptron_tagger')"
      ],
      "execution_count": null,
      "outputs": [
        {
          "output_type": "stream",
          "text": [
            "[nltk_data] Downloading package averaged_perceptron_tagger to\n",
            "[nltk_data]     /root/nltk_data...\n",
            "[nltk_data]   Unzipping taggers/averaged_perceptron_tagger.zip.\n"
          ],
          "name": "stdout"
        },
        {
          "output_type": "execute_result",
          "data": {
            "text/plain": [
              "True"
            ]
          },
          "metadata": {
            "tags": []
          },
          "execution_count": 24
        }
      ]
    },
    {
      "cell_type": "code",
      "metadata": {
        "id": "1CUHUz-QnUDG",
        "colab_type": "code",
        "colab": {
          "base_uri": "https://localhost:8080/",
          "height": 136
        },
        "outputId": "914f737c-5ab2-439a-f270-88c77f069a07"
      },
      "source": [
        "func_list = jobs['Job_Function'].unique()\n",
        "func_list"
      ],
      "execution_count": null,
      "outputs": [
        {
          "output_type": "execute_result",
          "data": {
            "text/plain": [
              "array(['Other', 'Marketing/Business/Sales Management',\n",
              "       'Financial Services', 'Professional Services', 'Technology',\n",
              "       'Retail', 'Consulting', 'Engineering Services',\n",
              "       'Real Estate & Construction', 'Healthcare & Pharmaceuticals',\n",
              "       'Manufacturing', 'Multimedia Production / Graphic Design',\n",
              "       'Transportation & Logistics', 'Other - Government Affairs'],\n",
              "      dtype=object)"
            ]
          },
          "metadata": {
            "tags": []
          },
          "execution_count": 26
        }
      ]
    },
    {
      "cell_type": "code",
      "metadata": {
        "id": "P3d7aLixnWph",
        "colab_type": "code",
        "colab": {}
      },
      "source": [
        "skill_list = []\n",
        "degree_list = []\n",
        "skill_year = []\n",
        "function = []\n",
        "function_deg = []\n",
        "tot_postings = []\n",
        "postings_degree = []\n",
        "degree_year = []\n",
        "Job_Function = pd.DataFrame()\n",
        "\n",
        "for func in func_list:\n",
        "    Job_Function = df[df['Function'] == func] # Filtering based on job function\n",
        "    for z in range(2011,2021):\n",
        "        msk = Job_Function['Year'] == z # Filtering based on year\n",
        "\n",
        "        num_postings = len(Job_Function[msk].index)\n",
        "        for i in range(num_postings):\n",
        "            job_desc = Job_Function[msk].iloc[i]['Job Description'].lower()\n",
        "            job_desc_set = Job_Function[msk].iloc[i]['job_description_word_set']\n",
        "\n",
        "            # check if the keywords are in the job description. Look for exact match by token.\n",
        "            skill_words = skill_keywords1_set.intersection(job_desc_set)\n",
        "            degree_words = degree_keywords1_set.intersection(job_desc_set)\n",
        "\n",
        "            # check if longer keywords (more than one word) are in the job description. Match by substring.\n",
        "            k = 0\n",
        "            for skill_keyword2 in skill_keywords2:\n",
        "                # skill keywords.\n",
        "                if skill_keyword2 in job_desc:\n",
        "                    skill_list.append(skill_keyword2)\n",
        "                    k += 1\n",
        "\n",
        "            # search for the minimum education.\n",
        "            min_education_level = 999\n",
        "            for degree_word in degree_words:\n",
        "                level = degree_dict[degree_keywords1_dict[degree_word]]\n",
        "                min_education_level = min(min_education_level, level)\n",
        "\n",
        "            for degree_keyword2 in degree_keywords2:\n",
        "                # longer keywords. Match by substring.\n",
        "                if degree_keyword2 in job_desc:\n",
        "                    level = degree_dict2[degree_keyword2]\n",
        "                    min_education_level = min(min_education_level, level)\n",
        "\n",
        "            # If none of the keywords were found, but the word degree is present, then assume it's a bachelors level.\n",
        "            if min_education_level > 500:\n",
        "                if 'degree' in job_desc:\n",
        "                    min_education_level = 1\n",
        "\n",
        "            skill_list += list(skill_words)\n",
        "            degree_list.append(min_education_level)\n",
        "        A = len(skill_list)\n",
        "        B = len(skill_year)\n",
        "        C = len(degree_list)\n",
        "        D = len(degree_year)\n",
        "        skill_year.extend([z] * (A-B))\n",
        "        degree_year.extend([z] * (C-D))\n",
        "        tot_postings.extend([num_postings] * (A-B))\n",
        "        postings_degree.extend([num_postings] * (C-D))\n",
        "    A = len(skill_year)\n",
        "    B = len(function)\n",
        "    C = len(degree_year)\n",
        "    D = len(function_deg)\n",
        "    function.extend([func] * (A-B))\n",
        "    function_deg.extend([func] * (C-D))"
      ],
      "execution_count": null,
      "outputs": []
    },
    {
      "cell_type": "code",
      "metadata": {
        "id": "TmUoIcDznxvJ",
        "colab_type": "code",
        "colab": {}
      },
      "source": [
        "# create the list of skills/knowledge.\n",
        "df_skills = pd.DataFrame(data={'cnt': skill_list, 'Year': skill_year, 'Job Function': function, 'Postingcount': tot_postings})\n",
        "df_skills = df_skills.replace(skill_keywords1_dict)\n",
        "\n",
        "# group some of the categories together.\n",
        "\n",
        "msk = df_skills['cnt'] == 'ms excel'\n",
        "df_skills.loc[msk, 'cnt'] = 'excel'\n",
        "\n",
        "msk = df_skills['cnt'] == 'excel skills'\n",
        "df_skills.loc[msk, 'cnt'] = 'excel'\n",
        "\n",
        "msk = df_skills['cnt'] == 'strong excel'\n",
        "df_skills.loc[msk, 'cnt'] = 'excel'\n",
        "\n",
        "msk = df_skills['cnt'] == 'power bi'\n",
        "df_skills.loc[msk, 'cnt'] = 'powerbi'\n",
        "\n",
        "msk = df_skills['cnt'] == 'erp system'\n",
        "df_skills.loc[msk, 'cnt'] = 'erp'\n",
        "\n",
        "msk = df_skills['cnt'] == 'sql server'\n",
        "df_skills.loc[msk, 'cnt'] = 'sql'\n",
        "\n",
        "msk = df_skills['cnt'] == 'sqlexperience'\n",
        "df_skills.loc[msk, 'cnt'] = 'sql'\n",
        "\n",
        "msk = df_skills['cnt'] == 'sta'\n",
        "df_skills.loc[msk, 'cnt'] = 'stata'\n",
        "\n",
        "msk = df_skills['cnt'] == 'microsoft excel'\n",
        "df_skills.loc[msk, 'cnt'] = 'excel'\n",
        "\n",
        "msk = df_skills['cnt'] == 'ms powerpoint'\n",
        "df_skills.loc[msk, 'cnt'] = 'powerpoint'\n",
        "\n",
        "msk = df_skills['cnt'] == 'power point'\n",
        "df_skills.loc[msk, 'cnt'] = 'powerpoint'\n",
        "\n",
        "msk = df_skills['cnt'] == 'ms power point'\n",
        "df_skills.loc[msk, 'cnt'] = 'powerpoint'\n",
        "\n",
        "msk = df_skills['cnt'] == 'microsoft power point'\n",
        "df_skills.loc[msk, 'cnt'] = 'powerpoint'\n",
        "\n",
        "msk = df_skills['cnt'] == 'microsoft powerpoint'\n",
        "df_skills.loc[msk, 'cnt'] = 'powerpoint'\n",
        "\n",
        "msk = df_skills['cnt'] == 'six sigma'\n",
        "df_skills.loc[msk, 'cnt'] = 'lean six sigma'\n",
        "\n",
        "msk = df_skills['cnt'] == 'nlp'\n",
        "df_skills.loc[msk, 'cnt'] = 'natural language processing'\n",
        "\n",
        "msk = df_skills['cnt'] == 'convolutional'\n",
        "df_skills.loc[msk, 'cnt'] = 'convolutional neural network'\n",
        "\n",
        "msk = df_skills['cnt'] == 'cnn'\n",
        "df_skills.loc[msk, 'cnt'] = 'convolutional neural network'\n",
        "\n",
        "msk = df_skills['cnt'] == 'recurrent'\n",
        "df_skills.loc[msk, 'cnt'] = 'recurrent neural network'\n",
        "\n",
        "msk = df_skills['cnt'] == 'rnn'\n",
        "df_skills.loc[msk, 'cnt'] = 'recurrent neural network'\n",
        "\n",
        "msk = df_skills['cnt'] == 'knn'\n",
        "df_skills.loc[msk, 'cnt'] = 'nearest neighbors'\n",
        "\n",
        "msk = df_skills['cnt'] == 'svm'\n",
        "df_skills.loc[msk, 'cnt'] = 'support vector machine'\n",
        "\n",
        "msk = df_skills['cnt'] == 'machine vision'\n",
        "df_skills.loc[msk, 'cnt'] = 'computer vision'\n",
        "\n",
        "msk = df_skills['cnt'] == 'ab testing'\n",
        "df_skills.loc[msk, 'cnt'] = 'a/b testing'\n",
        "\n",
        "msk = df_skills['cnt'] == 'h20'\n",
        "df_skills.loc[msk, 'cnt'] = 'h2o'\n",
        "\n",
        "msk = df_skills['cnt'] == 'aws'\n",
        "df_skills.loc[msk, 'cnt'] = 'amazon web services'\n",
        "\n",
        "msk = df_skills['cnt'] == 'gcp'\n",
        "df_skills.loc[msk, 'cnt'] = 'google cloud'\n",
        "\n",
        "msk = df_skills['cnt'] == 'github'\n",
        "df_skills.loc[msk, 'cnt'] = 'git'\n",
        "\n",
        "msk = df_skills['cnt'] == 'postgressql'\n",
        "df_skills.loc[msk, 'cnt'] = 'postgres'\n",
        "\n",
        "msk = df_skills['cnt'] == 'tensor'\n",
        "df_skills.loc[msk, 'cnt'] = 'tensorflow'\n",
        "\n",
        "msk = df_skills['cnt'] == 'abi'\n",
        "df_skills.loc[msk, 'cnt'] = 'application binary interface'\n"
      ],
      "execution_count": null,
      "outputs": []
    },
    {
      "cell_type": "code",
      "metadata": {
        "id": "92UTGSAyn2iX",
        "colab_type": "code",
        "colab": {}
      },
      "source": [
        "df_skillcount = pd.DataFrame()\n",
        "df_skills_top = pd.DataFrame()\n",
        "for func in func_list:\n",
        "    df_skillcount_f = df_skills[df_skills['Job Function'] == func]\n",
        "    for k in range(2011, 2021):\n",
        "        if k in df_skillcount_f['Year'].values:\n",
        "            value = df_skillcount_f[df_skillcount_f['Year'] == k]['Postingcount'].iloc[0]\n",
        "            df_skillcount = df_skillcount_f[df_skillcount_f['Year'] == k]['cnt'].value_counts().reset_index().rename(columns={'index': 'skill'}).iloc[:30]\n",
        "            df_skillcount['Year'] = k\n",
        "            df_skillcount['cnt'] = round((df_skillcount['cnt']/value) * 100)\n",
        "            df_skillcount['Job Function'] = func\n",
        "            df_skills_top = df_skills_top.append(df_skillcount)"
      ],
      "execution_count": null,
      "outputs": []
    },
    {
      "cell_type": "code",
      "metadata": {
        "id": "SnqjRjZln8ER",
        "colab_type": "code",
        "colab": {
          "base_uri": "https://localhost:8080/",
          "height": 255
        },
        "outputId": "4026fb5d-20bf-45fb-9d94-a1cfd546ec20"
      },
      "source": [
        "df_skills_top = df_skills_top.sort_values(['Job Function', 'Year', 'cnt'], ascending=[True, True, False])\n",
        "print(df_skills_top)"
      ],
      "execution_count": null,
      "outputs": [
        {
          "output_type": "stream",
          "text": [
            "              skill   cnt  Year                Job Function\n",
            "0             excel  37.0  2011                  Consulting\n",
            "1              word  11.0  2011                  Consulting\n",
            "2        statistics  10.0  2011                  Consulting\n",
            "3            access   9.0  2011                  Consulting\n",
            "4             visio   8.0  2011                  Consulting\n",
            "..              ...   ...   ...                         ...\n",
            "25          powerbi   3.0  2020  Transportation & Logistics\n",
            "26  team leadership   3.0  2020  Transportation & Logistics\n",
            "27              sql   3.0  2020  Transportation & Logistics\n",
            "28           python   3.0  2020  Transportation & Logistics\n",
            "29              jsp   3.0  2020  Transportation & Logistics\n",
            "\n",
            "[3439 rows x 4 columns]\n"
          ],
          "name": "stdout"
        }
      ]
    },
    {
      "cell_type": "code",
      "metadata": {
        "id": "ACgK5W88oDJ3",
        "colab_type": "code",
        "colab": {
          "base_uri": "https://localhost:8080/",
          "height": 542
        },
        "outputId": "205b6990-0fc6-4c3e-9c58-dd521e5d26f4"
      },
      "source": [
        "df_skills_top[\"Year\"] = df_skills_top[\"Year\"].astype(str)\n",
        "\n",
        "import plotly.express as px\n",
        "\n",
        "fig = px.bar(df_skills_top, x=\"skill\", y=\"cnt\", animation_frame ='Year', barmode = 'group')\n",
        "fig.update_layout(barmode='group', xaxis_tickangle=45)\n",
        "fig.show()"
      ],
      "execution_count": null,
      "outputs": [
        {
          "output_type": "display_data",
          "data": {
            "text/html": [
              "<html>\n",
              "<head><meta charset=\"utf-8\" /></head>\n",
              "<body>\n",
              "    <div>\n",
              "            <script src=\"https://cdnjs.cloudflare.com/ajax/libs/mathjax/2.7.5/MathJax.js?config=TeX-AMS-MML_SVG\"></script><script type=\"text/javascript\">if (window.MathJax) {MathJax.Hub.Config({SVG: {font: \"STIX-Web\"}});}</script>\n",
              "                <script type=\"text/javascript\">window.PlotlyConfig = {MathJaxConfig: 'local'};</script>\n",
              "        <script src=\"https://cdn.plot.ly/plotly-latest.min.js\"></script>    \n",
              "            <div id=\"df00a933-2ae5-4892-953a-8c45fdd90fe3\" class=\"plotly-graph-div\" style=\"height:525px; width:100%;\"></div>\n",
              "            <script type=\"text/javascript\">\n",
              "                \n",
              "                    window.PLOTLYENV=window.PLOTLYENV || {};\n",
              "                    \n",
              "                if (document.getElementById(\"df00a933-2ae5-4892-953a-8c45fdd90fe3\")) {\n",
              "                    Plotly.newPlot(\n",
              "                        'df00a933-2ae5-4892-953a-8c45fdd90fe3',\n",
              "                        [{\"alignmentgroup\": \"True\", \"hoverlabel\": {\"namelength\": 0}, \"hovertemplate\": \"Year=2011<br>skill=%{x}<br>cnt=%{y}\", \"legendgroup\": \"\", \"marker\": {\"color\": \"#636efa\"}, \"name\": \"\", \"offsetgroup\": \"\", \"orientation\": \"v\", \"showlegend\": false, \"textposition\": \"auto\", \"type\": \"bar\", \"x\": [\"excel\", \"word\", \"statistics\", \"access\", \"visio\", \"forecast\", \"powerpoint\", \"advisory\", \"strong leadership\", \"lean six sigma\", \"process design\", \"procurement\", \"sas\", \"erp\", \"crm\", \"team leadership\", \"perl\", \"sap\", \"spss\", \"virtualization\", \"agile\", \"auditing\", \"soa\", \"vba\", \"cpa\", \"spring\", \"scm\", \"react\", \"salesforce\", \"product development\", \"excel\", \"statistics\", \"forecast\", \"lean six sigma\", \"rest\", \"access\", \"ms project\", \"salesforce\", \"sap\", \"transport operations\", \"visio\", \"crm\", \"scbm\", \"OEM\", \"ssis\", \"tableau\", \"agile\", \"scm\", \"product design\", \"cpa\", \"sql\", \"cfa\", \"react\", \"auditing\", \"html\", \"asp\", \"sharepoint\", \"mentorship\", \"advisory\", \"excel\", \"forecast\", \"statistics\", \"cfa\", \"cpa\", \"auditing\", \"access\", \"word\", \"cash flow\", \"sas\", \"sql\", \"powerpoint\", \"procurement\", \"tmcc\", \"lean six sigma\", \"strong leadership\", \"bi\", \"vba\", \"cognos\", \"macros\", \"erp\", \"spreadsheets\", \"rfp\", \"hyperion\", \"sap\", \"rfis\", \"advisory\", \"prediction\", \"roi\", \"outlook\", \"excel\", \"qc\", \"agile\", \"ims\", \"xponent\", \"webex\", \"statistics\", \"plantrak\", \"sas\", \"excel\", \"product design\", \"forecast\", \"procurement\", \"word\", \"cad\", \"agile\", \"powerpoint\", \"prediction\", \"strong leadership\", \"sap\", \"erp\", \"3d cad\", \"OEM\", \"apics\", \"oracle\", \"rest\", \"excel\", \"forecast\", \"powerpoint\", \"word\", \"access\", \"statistics\", \"team leadership\", \"strong leadership\", \"sas\", \"pr\", \"telecommunication\", \"agile\", \"cash flow\", \"roi\", \"crm\", \"auditing\", \"sql\", \"lean six sigma\", \"visualization\", \"virtualization\", \"product design\", \"advisory\", \"react\", \"outlook\", \"sap\", \"rest\", \"visio\", \"OEM\", \"spss\", \"mandarin\", \"excel\", \"statistics\", \"forecast\", \"prediction\", \"word\", \"access\", \"adobe\", \"auditing\", \"agile\", \"powerpoint\", \"lean six sigma\", \"illustrator\", \"process design\", \"bi\", \"product design\", \"visio\", \"jsp\", \"spring\", \"procurement\", \"sas\", \"virtualization\", \"spark\", \"team leadership\", \"strong leadership\", \"kpis\", \"OEM\", \"dash\", \"bayes\", \"advisory\", \"sap\", \"excel\", \"powerpoint\", \"pr\", \"forecast\", \"word\", \"auditing\", \"access\", \"virtualization\", \"statistics\", \"strong leadership\", \"seo\", \"agile\", \"ms word\", \"qc\", \"process design\", \"roi\", \"team leadership\", \"bi\", \"sap\", \"sas\", \"product marketing\", \"crm\", \"ims\", \"rest\", \"microsoft sharepoint\", \"leadership skills\", \"quickbooks\", \"cash flow\", \"telecommunication\", \"plantrak\", \"excel\", \"rest\", \"outlook\", \"product management\", \"virtualization\", \"forecast\", \"word\", \"spring\", \"excel\", \"agile\", \"strong leadership\", \"react\", \"OEM\", \"access\", \"product development\", \"product design\", \"ces\", \"mandarin\", \"word\", \"outlook\", \"pr\", \"microsoft outlook\", \"visio\", \"rest\", \"statistics\", \"spring\", \"android\", \"forecast\", \"excel\", \"statistics\", \"access\", \"forecast\", \"sql\", \"react\", \"crm\", \"auditing\", \"process design\", \"sas\", \"erp\", \"seo\", \"free cash flow\", \"product development\", \"oracle\", \"cpa\", \"agile\", \"strong leadership\", \"bayes\", \"powerpoint\", \"cash flow\", \"word\", \"OEM\", \"team leadership\", \"unix\", \"kpis\", \"plantrak\", \"etl\", \"soa\", \"project management\"], \"xaxis\": \"x\", \"y\": [37.0, 11.0, 10.0, 9.0, 8.0, 7.0, 6.0, 5.0, 5.0, 5.0, 5.0, 4.0, 4.0, 4.0, 4.0, 4.0, 3.0, 3.0, 3.0, 3.0, 3.0, 3.0, 2.0, 2.0, 2.0, 2.0, 2.0, 2.0, 2.0, 2.0, 50.0, 25.0, 25.0, 25.0, 12.0, 12.0, 6.0, 6.0, 6.0, 6.0, 6.0, 6.0, 6.0, 6.0, 6.0, 6.0, 6.0, 6.0, 6.0, 6.0, 6.0, 6.0, 6.0, 6.0, 6.0, 6.0, 6.0, 6.0, 6.0, 46.0, 24.0, 18.0, 16.0, 16.0, 15.0, 11.0, 9.0, 8.0, 8.0, 8.0, 7.0, 6.0, 5.0, 5.0, 5.0, 4.0, 4.0, 4.0, 3.0, 2.0, 2.0, 2.0, 2.0, 2.0, 2.0, 2.0, 2.0, 2.0, 2.0, 71.0, 29.0, 29.0, 14.0, 14.0, 14.0, 14.0, 14.0, 14.0, 42.0, 25.0, 25.0, 17.0, 17.0, 8.0, 8.0, 8.0, 8.0, 8.0, 8.0, 8.0, 8.0, 8.0, 8.0, 8.0, 8.0, 40.0, 14.0, 8.0, 8.0, 8.0, 6.0, 5.0, 4.0, 4.0, 4.0, 4.0, 3.0, 3.0, 3.0, 3.0, 3.0, 3.0, 2.0, 2.0, 2.0, 2.0, 2.0, 2.0, 2.0, 2.0, 2.0, 2.0, 2.0, 2.0, 2.0, 31.0, 13.0, 12.0, 10.0, 9.0, 7.0, 6.0, 6.0, 6.0, 6.0, 6.0, 4.0, 4.0, 3.0, 3.0, 3.0, 3.0, 3.0, 3.0, 3.0, 3.0, 3.0, 1.0, 1.0, 1.0, 1.0, 1.0, 1.0, 1.0, 1.0, 43.0, 15.0, 11.0, 9.0, 9.0, 7.0, 7.0, 7.0, 4.0, 4.0, 4.0, 4.0, 2.0, 2.0, 2.0, 2.0, 2.0, 2.0, 2.0, 2.0, 2.0, 2.0, 2.0, 2.0, 2.0, 2.0, 2.0, 2.0, 2.0, 2.0, 33.0, 17.0, 17.0, 17.0, 17.0, 17.0, 17.0, 17.0, 20.0, 16.0, 12.0, 12.0, 8.0, 8.0, 8.0, 8.0, 8.0, 8.0, 8.0, 8.0, 8.0, 8.0, 4.0, 4.0, 4.0, 4.0, 4.0, 4.0, 33.0, 12.0, 11.0, 8.0, 8.0, 6.0, 6.0, 6.0, 5.0, 5.0, 5.0, 3.0, 3.0, 3.0, 3.0, 3.0, 3.0, 3.0, 3.0, 3.0, 3.0, 3.0, 3.0, 3.0, 3.0, 2.0, 2.0, 2.0, 2.0, 2.0], \"yaxis\": \"y\"}],\n",
              "                        {\"barmode\": \"group\", \"legend\": {\"tracegroupgap\": 0}, \"margin\": {\"t\": 60}, \"sliders\": [{\"active\": 0, \"currentvalue\": {\"prefix\": \"Year=\"}, \"len\": 0.9, \"pad\": {\"b\": 10, \"t\": 60}, \"steps\": [{\"args\": [[\"2011\"], {\"frame\": {\"duration\": 0, \"redraw\": true}, \"fromcurrent\": true, \"mode\": \"immediate\", \"transition\": {\"duration\": 0, \"easing\": \"linear\"}}], \"label\": \"2011\", \"method\": \"animate\"}, {\"args\": [[\"2012\"], {\"frame\": {\"duration\": 0, \"redraw\": true}, \"fromcurrent\": true, \"mode\": \"immediate\", \"transition\": {\"duration\": 0, \"easing\": \"linear\"}}], \"label\": \"2012\", \"method\": \"animate\"}, {\"args\": [[\"2013\"], {\"frame\": {\"duration\": 0, \"redraw\": true}, \"fromcurrent\": true, \"mode\": \"immediate\", \"transition\": {\"duration\": 0, \"easing\": \"linear\"}}], \"label\": \"2013\", \"method\": \"animate\"}, {\"args\": [[\"2014\"], {\"frame\": {\"duration\": 0, \"redraw\": true}, \"fromcurrent\": true, \"mode\": \"immediate\", \"transition\": {\"duration\": 0, \"easing\": \"linear\"}}], \"label\": \"2014\", \"method\": \"animate\"}, {\"args\": [[\"2015\"], {\"frame\": {\"duration\": 0, \"redraw\": true}, \"fromcurrent\": true, \"mode\": \"immediate\", \"transition\": {\"duration\": 0, \"easing\": \"linear\"}}], \"label\": \"2015\", \"method\": \"animate\"}, {\"args\": [[\"2016\"], {\"frame\": {\"duration\": 0, \"redraw\": true}, \"fromcurrent\": true, \"mode\": \"immediate\", \"transition\": {\"duration\": 0, \"easing\": \"linear\"}}], \"label\": \"2016\", \"method\": \"animate\"}, {\"args\": [[\"2017\"], {\"frame\": {\"duration\": 0, \"redraw\": true}, \"fromcurrent\": true, \"mode\": \"immediate\", \"transition\": {\"duration\": 0, \"easing\": \"linear\"}}], \"label\": \"2017\", \"method\": \"animate\"}, {\"args\": [[\"2018\"], {\"frame\": {\"duration\": 0, \"redraw\": true}, \"fromcurrent\": true, \"mode\": \"immediate\", \"transition\": {\"duration\": 0, \"easing\": \"linear\"}}], \"label\": \"2018\", \"method\": \"animate\"}, {\"args\": [[\"2019\"], {\"frame\": {\"duration\": 0, \"redraw\": true}, \"fromcurrent\": true, \"mode\": \"immediate\", \"transition\": {\"duration\": 0, \"easing\": \"linear\"}}], \"label\": \"2019\", \"method\": \"animate\"}, {\"args\": [[\"2020\"], {\"frame\": {\"duration\": 0, \"redraw\": true}, \"fromcurrent\": true, \"mode\": \"immediate\", \"transition\": {\"duration\": 0, \"easing\": \"linear\"}}], \"label\": \"2020\", \"method\": \"animate\"}], \"x\": 0.1, \"xanchor\": \"left\", \"y\": 0, \"yanchor\": \"top\"}], \"template\": {\"data\": {\"bar\": [{\"error_x\": {\"color\": \"#2a3f5f\"}, \"error_y\": {\"color\": \"#2a3f5f\"}, \"marker\": {\"line\": {\"color\": \"#E5ECF6\", \"width\": 0.5}}, \"type\": \"bar\"}], \"barpolar\": [{\"marker\": {\"line\": {\"color\": \"#E5ECF6\", \"width\": 0.5}}, \"type\": \"barpolar\"}], \"carpet\": [{\"aaxis\": {\"endlinecolor\": \"#2a3f5f\", \"gridcolor\": \"white\", \"linecolor\": \"white\", \"minorgridcolor\": \"white\", \"startlinecolor\": \"#2a3f5f\"}, \"baxis\": {\"endlinecolor\": \"#2a3f5f\", \"gridcolor\": \"white\", \"linecolor\": \"white\", \"minorgridcolor\": \"white\", \"startlinecolor\": \"#2a3f5f\"}, \"type\": \"carpet\"}], \"choropleth\": [{\"colorbar\": {\"outlinewidth\": 0, \"ticks\": \"\"}, \"type\": \"choropleth\"}], \"contour\": [{\"colorbar\": {\"outlinewidth\": 0, \"ticks\": \"\"}, \"colorscale\": [[0.0, \"#0d0887\"], [0.1111111111111111, \"#46039f\"], [0.2222222222222222, \"#7201a8\"], [0.3333333333333333, \"#9c179e\"], [0.4444444444444444, \"#bd3786\"], [0.5555555555555556, \"#d8576b\"], [0.6666666666666666, \"#ed7953\"], [0.7777777777777778, \"#fb9f3a\"], [0.8888888888888888, \"#fdca26\"], [1.0, \"#f0f921\"]], \"type\": \"contour\"}], \"contourcarpet\": [{\"colorbar\": {\"outlinewidth\": 0, \"ticks\": \"\"}, \"type\": \"contourcarpet\"}], \"heatmap\": [{\"colorbar\": {\"outlinewidth\": 0, \"ticks\": \"\"}, \"colorscale\": [[0.0, \"#0d0887\"], [0.1111111111111111, \"#46039f\"], [0.2222222222222222, \"#7201a8\"], [0.3333333333333333, \"#9c179e\"], [0.4444444444444444, \"#bd3786\"], [0.5555555555555556, \"#d8576b\"], [0.6666666666666666, \"#ed7953\"], [0.7777777777777778, \"#fb9f3a\"], [0.8888888888888888, \"#fdca26\"], [1.0, \"#f0f921\"]], \"type\": \"heatmap\"}], \"heatmapgl\": [{\"colorbar\": {\"outlinewidth\": 0, \"ticks\": \"\"}, \"colorscale\": [[0.0, \"#0d0887\"], [0.1111111111111111, \"#46039f\"], [0.2222222222222222, \"#7201a8\"], [0.3333333333333333, \"#9c179e\"], [0.4444444444444444, \"#bd3786\"], [0.5555555555555556, \"#d8576b\"], [0.6666666666666666, \"#ed7953\"], [0.7777777777777778, \"#fb9f3a\"], [0.8888888888888888, \"#fdca26\"], [1.0, \"#f0f921\"]], \"type\": \"heatmapgl\"}], \"histogram\": [{\"marker\": {\"colorbar\": {\"outlinewidth\": 0, \"ticks\": \"\"}}, \"type\": \"histogram\"}], \"histogram2d\": [{\"colorbar\": {\"outlinewidth\": 0, \"ticks\": \"\"}, \"colorscale\": [[0.0, \"#0d0887\"], [0.1111111111111111, \"#46039f\"], [0.2222222222222222, \"#7201a8\"], [0.3333333333333333, \"#9c179e\"], [0.4444444444444444, \"#bd3786\"], [0.5555555555555556, \"#d8576b\"], [0.6666666666666666, \"#ed7953\"], [0.7777777777777778, \"#fb9f3a\"], [0.8888888888888888, \"#fdca26\"], [1.0, \"#f0f921\"]], \"type\": \"histogram2d\"}], \"histogram2dcontour\": [{\"colorbar\": {\"outlinewidth\": 0, \"ticks\": \"\"}, \"colorscale\": [[0.0, \"#0d0887\"], [0.1111111111111111, \"#46039f\"], [0.2222222222222222, \"#7201a8\"], [0.3333333333333333, \"#9c179e\"], [0.4444444444444444, \"#bd3786\"], [0.5555555555555556, \"#d8576b\"], [0.6666666666666666, \"#ed7953\"], [0.7777777777777778, \"#fb9f3a\"], [0.8888888888888888, \"#fdca26\"], [1.0, \"#f0f921\"]], \"type\": \"histogram2dcontour\"}], \"mesh3d\": [{\"colorbar\": {\"outlinewidth\": 0, \"ticks\": \"\"}, \"type\": \"mesh3d\"}], \"parcoords\": [{\"line\": {\"colorbar\": {\"outlinewidth\": 0, \"ticks\": \"\"}}, \"type\": \"parcoords\"}], \"pie\": [{\"automargin\": true, \"type\": \"pie\"}], \"scatter\": [{\"marker\": {\"colorbar\": {\"outlinewidth\": 0, \"ticks\": \"\"}}, \"type\": \"scatter\"}], \"scatter3d\": [{\"line\": {\"colorbar\": {\"outlinewidth\": 0, \"ticks\": \"\"}}, \"marker\": {\"colorbar\": {\"outlinewidth\": 0, \"ticks\": \"\"}}, \"type\": \"scatter3d\"}], \"scattercarpet\": [{\"marker\": {\"colorbar\": {\"outlinewidth\": 0, \"ticks\": \"\"}}, \"type\": \"scattercarpet\"}], \"scattergeo\": [{\"marker\": {\"colorbar\": {\"outlinewidth\": 0, \"ticks\": \"\"}}, \"type\": \"scattergeo\"}], \"scattergl\": [{\"marker\": {\"colorbar\": {\"outlinewidth\": 0, \"ticks\": \"\"}}, \"type\": \"scattergl\"}], \"scattermapbox\": [{\"marker\": {\"colorbar\": {\"outlinewidth\": 0, \"ticks\": \"\"}}, \"type\": \"scattermapbox\"}], \"scatterpolar\": [{\"marker\": {\"colorbar\": {\"outlinewidth\": 0, \"ticks\": \"\"}}, \"type\": \"scatterpolar\"}], \"scatterpolargl\": [{\"marker\": {\"colorbar\": {\"outlinewidth\": 0, \"ticks\": \"\"}}, \"type\": \"scatterpolargl\"}], \"scatterternary\": [{\"marker\": {\"colorbar\": {\"outlinewidth\": 0, \"ticks\": \"\"}}, \"type\": \"scatterternary\"}], \"surface\": [{\"colorbar\": {\"outlinewidth\": 0, \"ticks\": \"\"}, \"colorscale\": [[0.0, \"#0d0887\"], [0.1111111111111111, \"#46039f\"], [0.2222222222222222, \"#7201a8\"], [0.3333333333333333, \"#9c179e\"], [0.4444444444444444, \"#bd3786\"], [0.5555555555555556, \"#d8576b\"], [0.6666666666666666, \"#ed7953\"], [0.7777777777777778, \"#fb9f3a\"], [0.8888888888888888, \"#fdca26\"], [1.0, \"#f0f921\"]], \"type\": \"surface\"}], \"table\": [{\"cells\": {\"fill\": {\"color\": \"#EBF0F8\"}, \"line\": {\"color\": \"white\"}}, \"header\": {\"fill\": {\"color\": \"#C8D4E3\"}, \"line\": {\"color\": \"white\"}}, \"type\": \"table\"}]}, \"layout\": {\"annotationdefaults\": {\"arrowcolor\": \"#2a3f5f\", \"arrowhead\": 0, \"arrowwidth\": 1}, \"coloraxis\": {\"colorbar\": {\"outlinewidth\": 0, \"ticks\": \"\"}}, \"colorscale\": {\"diverging\": [[0, \"#8e0152\"], [0.1, \"#c51b7d\"], [0.2, \"#de77ae\"], [0.3, \"#f1b6da\"], [0.4, \"#fde0ef\"], [0.5, \"#f7f7f7\"], [0.6, \"#e6f5d0\"], [0.7, \"#b8e186\"], [0.8, \"#7fbc41\"], [0.9, \"#4d9221\"], [1, \"#276419\"]], \"sequential\": [[0.0, \"#0d0887\"], [0.1111111111111111, \"#46039f\"], [0.2222222222222222, \"#7201a8\"], [0.3333333333333333, \"#9c179e\"], [0.4444444444444444, \"#bd3786\"], [0.5555555555555556, \"#d8576b\"], [0.6666666666666666, \"#ed7953\"], [0.7777777777777778, \"#fb9f3a\"], [0.8888888888888888, \"#fdca26\"], [1.0, \"#f0f921\"]], \"sequentialminus\": [[0.0, \"#0d0887\"], [0.1111111111111111, \"#46039f\"], [0.2222222222222222, \"#7201a8\"], [0.3333333333333333, \"#9c179e\"], [0.4444444444444444, \"#bd3786\"], [0.5555555555555556, \"#d8576b\"], [0.6666666666666666, \"#ed7953\"], [0.7777777777777778, \"#fb9f3a\"], [0.8888888888888888, \"#fdca26\"], [1.0, \"#f0f921\"]]}, \"colorway\": [\"#636efa\", \"#EF553B\", \"#00cc96\", \"#ab63fa\", \"#FFA15A\", \"#19d3f3\", \"#FF6692\", \"#B6E880\", \"#FF97FF\", \"#FECB52\"], \"font\": {\"color\": \"#2a3f5f\"}, \"geo\": {\"bgcolor\": \"white\", \"lakecolor\": \"white\", \"landcolor\": \"#E5ECF6\", \"showlakes\": true, \"showland\": true, \"subunitcolor\": \"white\"}, \"hoverlabel\": {\"align\": \"left\"}, \"hovermode\": \"closest\", \"mapbox\": {\"style\": \"light\"}, \"paper_bgcolor\": \"white\", \"plot_bgcolor\": \"#E5ECF6\", \"polar\": {\"angularaxis\": {\"gridcolor\": \"white\", \"linecolor\": \"white\", \"ticks\": \"\"}, \"bgcolor\": \"#E5ECF6\", \"radialaxis\": {\"gridcolor\": \"white\", \"linecolor\": \"white\", \"ticks\": \"\"}}, \"scene\": {\"xaxis\": {\"backgroundcolor\": \"#E5ECF6\", \"gridcolor\": \"white\", \"gridwidth\": 2, \"linecolor\": \"white\", \"showbackground\": true, \"ticks\": \"\", \"zerolinecolor\": \"white\"}, \"yaxis\": {\"backgroundcolor\": \"#E5ECF6\", \"gridcolor\": \"white\", \"gridwidth\": 2, \"linecolor\": \"white\", \"showbackground\": true, \"ticks\": \"\", \"zerolinecolor\": \"white\"}, \"zaxis\": {\"backgroundcolor\": \"#E5ECF6\", \"gridcolor\": \"white\", \"gridwidth\": 2, \"linecolor\": \"white\", \"showbackground\": true, \"ticks\": \"\", \"zerolinecolor\": \"white\"}}, \"shapedefaults\": {\"line\": {\"color\": \"#2a3f5f\"}}, \"ternary\": {\"aaxis\": {\"gridcolor\": \"white\", \"linecolor\": \"white\", \"ticks\": \"\"}, \"baxis\": {\"gridcolor\": \"white\", \"linecolor\": \"white\", \"ticks\": \"\"}, \"bgcolor\": \"#E5ECF6\", \"caxis\": {\"gridcolor\": \"white\", \"linecolor\": \"white\", \"ticks\": \"\"}}, \"title\": {\"x\": 0.05}, \"xaxis\": {\"automargin\": true, \"gridcolor\": \"white\", \"linecolor\": \"white\", \"ticks\": \"\", \"title\": {\"standoff\": 15}, \"zerolinecolor\": \"white\", \"zerolinewidth\": 2}, \"yaxis\": {\"automargin\": true, \"gridcolor\": \"white\", \"linecolor\": \"white\", \"ticks\": \"\", \"title\": {\"standoff\": 15}, \"zerolinecolor\": \"white\", \"zerolinewidth\": 2}}}, \"updatemenus\": [{\"buttons\": [{\"args\": [null, {\"frame\": {\"duration\": 500, \"redraw\": true}, \"fromcurrent\": true, \"mode\": \"immediate\", \"transition\": {\"duration\": 500, \"easing\": \"linear\"}}], \"label\": \"&#9654;\", \"method\": \"animate\"}, {\"args\": [[null], {\"frame\": {\"duration\": 0, \"redraw\": true}, \"fromcurrent\": true, \"mode\": \"immediate\", \"transition\": {\"duration\": 0, \"easing\": \"linear\"}}], \"label\": \"&#9724;\", \"method\": \"animate\"}], \"direction\": \"left\", \"pad\": {\"r\": 10, \"t\": 70}, \"showactive\": false, \"type\": \"buttons\", \"x\": 0.1, \"xanchor\": \"right\", \"y\": 0, \"yanchor\": \"top\"}], \"xaxis\": {\"anchor\": \"y\", \"domain\": [0.0, 1.0], \"tickangle\": 45, \"title\": {\"text\": \"skill\"}}, \"yaxis\": {\"anchor\": \"x\", \"domain\": [0.0, 1.0], \"title\": {\"text\": \"cnt\"}}},\n",
              "                        {\"responsive\": true}\n",
              "                    ).then(function(){\n",
              "                            Plotly.addFrames('df00a933-2ae5-4892-953a-8c45fdd90fe3', [{\"data\": [{\"alignmentgroup\": \"True\", \"hoverlabel\": {\"namelength\": 0}, \"hovertemplate\": \"Year=2011<br>skill=%{x}<br>cnt=%{y}\", \"legendgroup\": \"\", \"marker\": {\"color\": \"#636efa\"}, \"name\": \"\", \"offsetgroup\": \"\", \"orientation\": \"v\", \"showlegend\": false, \"textposition\": \"auto\", \"x\": [\"excel\", \"word\", \"statistics\", \"access\", \"visio\", \"forecast\", \"powerpoint\", \"advisory\", \"strong leadership\", \"lean six sigma\", \"process design\", \"procurement\", \"sas\", \"erp\", \"crm\", \"team leadership\", \"perl\", \"sap\", \"spss\", \"virtualization\", \"agile\", \"auditing\", \"soa\", \"vba\", \"cpa\", \"spring\", \"scm\", \"react\", \"salesforce\", \"product development\", \"excel\", \"statistics\", \"forecast\", \"lean six sigma\", \"rest\", \"access\", \"ms project\", \"salesforce\", \"sap\", \"transport operations\", \"visio\", \"crm\", \"scbm\", \"OEM\", \"ssis\", \"tableau\", \"agile\", \"scm\", \"product design\", \"cpa\", \"sql\", \"cfa\", \"react\", \"auditing\", \"html\", \"asp\", \"sharepoint\", \"mentorship\", \"advisory\", \"excel\", \"forecast\", \"statistics\", \"cfa\", \"cpa\", \"auditing\", \"access\", \"word\", \"cash flow\", \"sas\", \"sql\", \"powerpoint\", \"procurement\", \"tmcc\", \"lean six sigma\", \"strong leadership\", \"bi\", \"vba\", \"cognos\", \"macros\", \"erp\", \"spreadsheets\", \"rfp\", \"hyperion\", \"sap\", \"rfis\", \"advisory\", \"prediction\", \"roi\", \"outlook\", \"excel\", \"qc\", \"agile\", \"ims\", \"xponent\", \"webex\", \"statistics\", \"plantrak\", \"sas\", \"excel\", \"product design\", \"forecast\", \"procurement\", \"word\", \"cad\", \"agile\", \"powerpoint\", \"prediction\", \"strong leadership\", \"sap\", \"erp\", \"3d cad\", \"OEM\", \"apics\", \"oracle\", \"rest\", \"excel\", \"forecast\", \"powerpoint\", \"word\", \"access\", \"statistics\", \"team leadership\", \"strong leadership\", \"sas\", \"pr\", \"telecommunication\", \"agile\", \"cash flow\", \"roi\", \"crm\", \"auditing\", \"sql\", \"lean six sigma\", \"visualization\", \"virtualization\", \"product design\", \"advisory\", \"react\", \"outlook\", \"sap\", \"rest\", \"visio\", \"OEM\", \"spss\", \"mandarin\", \"excel\", \"statistics\", \"forecast\", \"prediction\", \"word\", \"access\", \"adobe\", \"auditing\", \"agile\", \"powerpoint\", \"lean six sigma\", \"illustrator\", \"process design\", \"bi\", \"product design\", \"visio\", \"jsp\", \"spring\", \"procurement\", \"sas\", \"virtualization\", \"spark\", \"team leadership\", \"strong leadership\", \"kpis\", \"OEM\", \"dash\", \"bayes\", \"advisory\", \"sap\", \"excel\", \"powerpoint\", \"pr\", \"forecast\", \"word\", \"auditing\", \"access\", \"virtualization\", \"statistics\", \"strong leadership\", \"seo\", \"agile\", \"ms word\", \"qc\", \"process design\", \"roi\", \"team leadership\", \"bi\", \"sap\", \"sas\", \"product marketing\", \"crm\", \"ims\", \"rest\", \"microsoft sharepoint\", \"leadership skills\", \"quickbooks\", \"cash flow\", \"telecommunication\", \"plantrak\", \"excel\", \"rest\", \"outlook\", \"product management\", \"virtualization\", \"forecast\", \"word\", \"spring\", \"excel\", \"agile\", \"strong leadership\", \"react\", \"OEM\", \"access\", \"product development\", \"product design\", \"ces\", \"mandarin\", \"word\", \"outlook\", \"pr\", \"microsoft outlook\", \"visio\", \"rest\", \"statistics\", \"spring\", \"android\", \"forecast\", \"excel\", \"statistics\", \"access\", \"forecast\", \"sql\", \"react\", \"crm\", \"auditing\", \"process design\", \"sas\", \"erp\", \"seo\", \"free cash flow\", \"product development\", \"oracle\", \"cpa\", \"agile\", \"strong leadership\", \"bayes\", \"powerpoint\", \"cash flow\", \"word\", \"OEM\", \"team leadership\", \"unix\", \"kpis\", \"plantrak\", \"etl\", \"soa\", \"project management\"], \"xaxis\": \"x\", \"y\": [37.0, 11.0, 10.0, 9.0, 8.0, 7.0, 6.0, 5.0, 5.0, 5.0, 5.0, 4.0, 4.0, 4.0, 4.0, 4.0, 3.0, 3.0, 3.0, 3.0, 3.0, 3.0, 2.0, 2.0, 2.0, 2.0, 2.0, 2.0, 2.0, 2.0, 50.0, 25.0, 25.0, 25.0, 12.0, 12.0, 6.0, 6.0, 6.0, 6.0, 6.0, 6.0, 6.0, 6.0, 6.0, 6.0, 6.0, 6.0, 6.0, 6.0, 6.0, 6.0, 6.0, 6.0, 6.0, 6.0, 6.0, 6.0, 6.0, 46.0, 24.0, 18.0, 16.0, 16.0, 15.0, 11.0, 9.0, 8.0, 8.0, 8.0, 7.0, 6.0, 5.0, 5.0, 5.0, 4.0, 4.0, 4.0, 3.0, 2.0, 2.0, 2.0, 2.0, 2.0, 2.0, 2.0, 2.0, 2.0, 2.0, 71.0, 29.0, 29.0, 14.0, 14.0, 14.0, 14.0, 14.0, 14.0, 42.0, 25.0, 25.0, 17.0, 17.0, 8.0, 8.0, 8.0, 8.0, 8.0, 8.0, 8.0, 8.0, 8.0, 8.0, 8.0, 8.0, 40.0, 14.0, 8.0, 8.0, 8.0, 6.0, 5.0, 4.0, 4.0, 4.0, 4.0, 3.0, 3.0, 3.0, 3.0, 3.0, 3.0, 2.0, 2.0, 2.0, 2.0, 2.0, 2.0, 2.0, 2.0, 2.0, 2.0, 2.0, 2.0, 2.0, 31.0, 13.0, 12.0, 10.0, 9.0, 7.0, 6.0, 6.0, 6.0, 6.0, 6.0, 4.0, 4.0, 3.0, 3.0, 3.0, 3.0, 3.0, 3.0, 3.0, 3.0, 3.0, 1.0, 1.0, 1.0, 1.0, 1.0, 1.0, 1.0, 1.0, 43.0, 15.0, 11.0, 9.0, 9.0, 7.0, 7.0, 7.0, 4.0, 4.0, 4.0, 4.0, 2.0, 2.0, 2.0, 2.0, 2.0, 2.0, 2.0, 2.0, 2.0, 2.0, 2.0, 2.0, 2.0, 2.0, 2.0, 2.0, 2.0, 2.0, 33.0, 17.0, 17.0, 17.0, 17.0, 17.0, 17.0, 17.0, 20.0, 16.0, 12.0, 12.0, 8.0, 8.0, 8.0, 8.0, 8.0, 8.0, 8.0, 8.0, 8.0, 8.0, 4.0, 4.0, 4.0, 4.0, 4.0, 4.0, 33.0, 12.0, 11.0, 8.0, 8.0, 6.0, 6.0, 6.0, 5.0, 5.0, 5.0, 3.0, 3.0, 3.0, 3.0, 3.0, 3.0, 3.0, 3.0, 3.0, 3.0, 3.0, 3.0, 3.0, 3.0, 2.0, 2.0, 2.0, 2.0, 2.0], \"yaxis\": \"y\", \"type\": \"bar\"}], \"name\": \"2011\"}, {\"data\": [{\"alignmentgroup\": \"True\", \"hoverlabel\": {\"namelength\": 0}, \"hovertemplate\": \"Year=2012<br>skill=%{x}<br>cnt=%{y}\", \"legendgroup\": \"\", \"marker\": {\"color\": \"#636efa\"}, \"name\": \"\", \"offsetgroup\": \"\", \"orientation\": \"v\", \"showlegend\": false, \"textposition\": \"auto\", \"x\": [\"excel\", \"advisory\", \"agile\", \"auditing\", \"statistics\", \"visio\", \"virtualization\", \"telecommunication\", \"powerpoint\", \"sas\", \"spss\", \"access\", \"remedy\", \"word\", \"bi\", \"process redesign\", \"roi\", \"sql\", \"strong leadership\", \"visualization\", \"rest\", \"normalization\", \"forecast\", \"team leadership\", \"microsoft project\", \"java\", \"regression\", \"sap\", \"procurement\", \"mandarin\", \"excel\", \"sdlc\", \"leadership skills\", \"ims\", \"strong leadership\", \"sap\", \"forecast\", \"virtualization\", \"word\", \"normalization\", \"java\", \"hadoop\", \"aspera\", \"qa\", \"faspex\", \"dashboard\", \"php\", \"prediction\", \"xml\", \"oracle\", \"hive\", \"perl\", \"cpa\", \"crm\", \"pentaho\", \"da\", \"kpis\", \"random forest\", \"roi\", \"rest\", \"excel\", \"forecast\", \"access\", \"word\", \"auditing\", \"powerpoint\", \"sql\", \"cfa\", \"cpa\", \"cash flow\", \"statistics\", \"strong leadership\", \"cognos\", \"sas\", \"advisory\", \"spreadsheets\", \"visio\", \"oracle\", \"sap\", \"dashboard\", \"roi\", \"hyperion\", \"procurement\", \"outlook\", \"tmcc\", \"bi\", \"erp\", \"virtualization\", \"vba\", \"adobe\", \"excel\", \"word\", \"ims\", \"leadership skills\", \"outlook\", \"access\", \"contract review\", \"mentorship\", \"gldp\", \"rest\", \"auditing\", \"cms\", \"soa\", \"bi\", \"powerpoint\", \"excel\", \"procurement\", \"forecast\", \"react\", \"auditing\", \"word\", \"sap\", \"relationship management\", \"rfis\", \"vendor management\", \"product development\", \"product design\", \"access\", \"strong leadership\", \"OEM\", \"erp\", \"normalization\", \"crm\", \"spring\", \"salesforce\", \"scbm\", \"virtualization\", \"rfp\", \"prediction\", \"quickbooks\", \"scm\", \"ims\", \"lean six sigma\", \"cpa\", \"roi\", \"excel\", \"powerpoint\", \"access\", \"word\", \"forecast\", \"statistics\", \"sql\", \"strong leadership\", \"agile\", \"sas\", \"roi\", \"advisory\", \"virtualization\", \"adwords\", \"cloud\", \"auditing\", \"pr\", \"crm\", \"kpis\", \"spreadsheets\", \"html\", \"procurement\", \"team leadership\", \"product design\", \"seo\", \"spss\", \"ecommerce\", \"android\", \"java\", \"saas\", \"excel\", \"word\", \"ims\", \"xml\", \"visualization\", \"access\", \"auditing\", \"html\", \"multimedia\", \"data analysis\", \"cms\", \"roi\", \"powerpoint\", \"excel\", \"word\", \"access\", \"auditing\", \"powerpoint\", \"sql\", \"strong leadership\", \"sharepoint\", \"statistics\", \"dashboard\", \"outlook\", \"spreadsheets\", \"advisory\", \"cash flow\", \"cms\", \"pr\", \"procurement\", \"spark\", \"quickbooks\", \"roi\", \"agile\", \"html\", \"cpa\", \"microsoft word\", \"visualization\", \"lean six sigma\", \"ruby\", \"mentorship\", \"virtualization\", \"spss\", \"excel\", \"strong leadership\", \"powerpoint\", \"pr\", \"word\", \"html\", \"auditing\", \"access\", \"team leadership\", \"spreadsheets\", \"virtualization\", \"roi\", \"bi\", \"probability\", \"ecommerce\", \"crm\", \"seo\", \"forecast\", \"sql\", \"agile\", \"xml\", \"outlook\", \"big data\", \"visualization\", \"mandarin\", \"cpa\", \"cms\", \"cash flow\", \"photoshop\", \"project management\", \"excel\", \"forecast\", \"word\", \"powerpoint\", \"statistics\", \"project management\", \"roi\", \"advisory\", \"jsp\", \"remedy\", \"bain\", \"ims\", \"vlookup\", \"ms project\", \"cash flow\", \"4wd\", \"auditing\", \"access\", \"spring\", \"php\", \"agile\", \"excel\", \"strong leadership\", \"forecast\", \"product development\", \"vendor management\", \"sql\", \"powerpoint\", \"access\", \"agile\", \"aspera\", \"pr\", \"roi\", \"big data\", \"bayes\", \"seo\", \"word\", \"react\", \"project management\", \"saas\", \"xml\", \"statistics\", \"relationship management\", \"OEM\", \"sas\", \"cloud\", \"html\", \"cash flow\", \"prediction\", \"procurement\", \"doubleclick\", \"excel\", \"agile\", \"strong leadership\", \"access\", \"sql\", \"auditing\", \"aspera\", \"forecast\", \"word\", \"powerpoint\", \"android\", \"html\", \"product development\", \"xml\", \"bayes\", \"dashboard\", \"crm\", \"vendor management\", \"qa\", \"big data\", \"pr\", \"statistics\", \"unix\", \"mentorship\", \"windows\", \"bi\", \"cloud\", \"regression\", \"probability\", \"visualization\"], \"xaxis\": \"x\", \"y\": [34.0, 24.0, 13.0, 12.0, 9.0, 9.0, 6.0, 6.0, 6.0, 5.0, 5.0, 5.0, 5.0, 4.0, 4.0, 4.0, 3.0, 3.0, 3.0, 3.0, 3.0, 3.0, 3.0, 2.0, 2.0, 2.0, 2.0, 2.0, 2.0, 2.0, 33.0, 14.0, 10.0, 10.0, 10.0, 10.0, 10.0, 10.0, 10.0, 10.0, 10.0, 10.0, 10.0, 10.0, 10.0, 5.0, 5.0, 5.0, 5.0, 5.0, 5.0, 5.0, 5.0, 5.0, 5.0, 5.0, 5.0, 5.0, 5.0, 5.0, 55.0, 25.0, 13.0, 13.0, 12.0, 12.0, 11.0, 10.0, 9.0, 8.0, 7.0, 6.0, 5.0, 5.0, 5.0, 5.0, 4.0, 4.0, 3.0, 3.0, 3.0, 3.0, 2.0, 2.0, 2.0, 2.0, 2.0, 2.0, 2.0, 2.0, 11.0, 11.0, 6.0, 6.0, 6.0, 6.0, 6.0, 6.0, 6.0, 6.0, 6.0, 6.0, 6.0, 6.0, 6.0, 51.0, 14.0, 14.0, 11.0, 9.0, 6.0, 6.0, 6.0, 6.0, 6.0, 6.0, 6.0, 6.0, 3.0, 3.0, 3.0, 3.0, 3.0, 3.0, 3.0, 3.0, 3.0, 3.0, 3.0, 3.0, 3.0, 3.0, 3.0, 3.0, 3.0, 42.0, 11.0, 10.0, 10.0, 8.0, 7.0, 6.0, 5.0, 4.0, 4.0, 3.0, 3.0, 3.0, 3.0, 3.0, 3.0, 3.0, 3.0, 3.0, 2.0, 2.0, 2.0, 2.0, 2.0, 2.0, 2.0, 2.0, 2.0, 2.0, 2.0, 75.0, 50.0, 25.0, 25.0, 25.0, 25.0, 25.0, 25.0, 25.0, 25.0, 25.0, 25.0, 25.0, 52.0, 10.0, 10.0, 8.0, 8.0, 6.0, 6.0, 5.0, 4.0, 4.0, 4.0, 4.0, 4.0, 4.0, 3.0, 3.0, 3.0, 3.0, 2.0, 2.0, 2.0, 2.0, 2.0, 2.0, 2.0, 1.0, 1.0, 1.0, 1.0, 1.0, 32.0, 10.0, 6.0, 6.0, 6.0, 5.0, 5.0, 5.0, 4.0, 4.0, 4.0, 4.0, 4.0, 3.0, 3.0, 3.0, 3.0, 2.0, 2.0, 2.0, 2.0, 2.0, 2.0, 2.0, 2.0, 2.0, 2.0, 2.0, 2.0, 2.0, 69.0, 15.0, 15.0, 15.0, 15.0, 15.0, 8.0, 8.0, 8.0, 8.0, 8.0, 8.0, 8.0, 8.0, 8.0, 8.0, 8.0, 8.0, 8.0, 8.0, 8.0, 38.0, 19.0, 10.0, 9.0, 9.0, 6.0, 6.0, 6.0, 6.0, 5.0, 5.0, 5.0, 4.0, 4.0, 4.0, 4.0, 4.0, 4.0, 4.0, 2.0, 2.0, 2.0, 2.0, 2.0, 2.0, 2.0, 2.0, 2.0, 1.0, 1.0, 39.0, 11.0, 8.0, 8.0, 7.0, 6.0, 5.0, 5.0, 5.0, 5.0, 5.0, 5.0, 5.0, 5.0, 5.0, 4.0, 4.0, 4.0, 3.0, 3.0, 3.0, 3.0, 3.0, 3.0, 3.0, 3.0, 3.0, 2.0, 2.0, 2.0], \"yaxis\": \"y\", \"type\": \"bar\"}], \"name\": \"2012\"}, {\"data\": [{\"alignmentgroup\": \"True\", \"hoverlabel\": {\"namelength\": 0}, \"hovertemplate\": \"Year=2013<br>skill=%{x}<br>cnt=%{y}\", \"legendgroup\": \"\", \"marker\": {\"color\": \"#636efa\"}, \"name\": \"\", \"offsetgroup\": \"\", \"orientation\": \"v\", \"showlegend\": false, \"textposition\": \"auto\", \"x\": [\"excel\", \"access\", \"statistics\", \"advisory\", \"powerpoint\", \"word\", \"crm\", \"client relationships\", \"strong leadership\", \"bayes\", \"sas\", \"spreadsheets\", \"bi\", \"cpa\", \"telecommunication\", \"sap\", \"roi\", \"ecommerce\", \"bain\", \"virtualization\", \"salesforce\", \"agile\", \"erp\", \"sql\", \"rfp\", \"sharepoint\", \"big data\", \"procurement\", \"visualization\", \"oracle\", \"excel\", \"agile\", \"java\", \"mentorship\", \"access\", \"android\", \"cloud\", \"sql\", \"OEM\", \"ios\", \"statistics\", \"saas\", \"qa\", \"sdlc\", \"oracle\", \"sas\", \"big data\", \"html5\", \"linux\", \"telecommunication\", \"prediction\", \"css\", \"unix\", \"regression\", \"windows\", \"ec2\", \"strong leadership\", \"bi\", \"forecast\", \"html\", \"excel\", \"forecast\", \"access\", \"word\", \"sql\", \"powerpoint\", \"cpa\", \"auditing\", \"statistics\", \"cash flow\", \"cfa\", \"cognos\", \"advisory\", \"oracle\", \"procurement\", \"strong leadership\", \"problem solving\", \"spreadsheets\", \"macros\", \"sas\", \"hyperion\", \"cloud\", \"sap\", \"visualization\", \"crm\", \"bi\", \"lean six sigma\", \"dashboard\", \"process design\", \"salesforce\", \"access\", \"excel\", \"statistics\", \"forecast\", \"sas\", \"team leadership\", \"prediction\", \"agile\", \"big data\", \"asp\", \"word\", \"sql\", \"tableau\", \"spss\", \"normalization\", \"strong leadership\", \"salesforce\", \"bi\", \"outlook\", \"procurement\", \"oracle\", \"powerpoint\", \"cms\", \"pr\", \"dashboard\", \"telecommunication\", \"illustrator\", \"saas\", \"visualization\", \"excel\", \"forecast\", \"ebitda\", \"product design\", \"OEM\", \"strong leadership\", \"spss\", \"word\", \"statistics\", \"visio\", \"sql\", \"sap\", \"saas\", \"sas\", \"procurement\", \"4wd\", \"erp\", \"kpis\", \"team leadership\", \"crm\", \"gis\", \"salesforce\", \"lean six sigma\", \"photography\", \"auditing\", \"access\", \"spreadsheets\", \"prediction\", \"dash\", \"ims\", \"excel\", \"forecast\", \"access\", \"statistics\", \"powerpoint\", \"word\", \"sql\", \"strong leadership\", \"agile\", \"crm\", \"roi\", \"cloud\", \"seo\", \"procurement\", \"salesforce\", \"sas\", \"telecommunication\", \"pr\", \"kpis\", \"virtualization\", \"ecommerce\", \"auditing\", \"spss\", \"cash flow\", \"react\", \"windows\", \"team leadership\", \"bayes\", \"html\", \"product design\", \"excel\", \"big data\", \"html\", \"css\", \"photoshop\", \"agile\", \"ecommerce\", \"visio\", \"illustrator\", \"dreamweaver\", \"sas\", \"multimedia\", \"product design\", \"java\", \"ux\", \"spss\", \"javascript\", \"hadoop\", \"visualization\", \"jquery\", \"saas\", \"bi\", \"user experience\", \"telecommunication\", \"xhtml\", \"splunk\", \"excel\", \"auditing\", \"access\", \"advisory\", \"forecast\", \"statistics\", \"asp\", \"word\", \"powerpoint\", \"cpa\", \"spring\", \"html\", \"cash flow\", \"crm\", \"mentorship\", \"agile\", \"virtualization\", \"probability\", \"sql\", \"visualization\", \"spreadsheets\", \"telecommunication\", \"outlook\", \"procurement\", \"strong leadership\", \"dashboard\", \"salesforce\", \"sap\", \"cloud\", \"bi\", \"excel\", \"access\", \"word\", \"forecast\", \"process improvement\", \"seo\", \"auditing\", \"agile\", \"crm\", \"powerpoint\", \"bayes\", \"virtualization\", \"strong leadership\", \"statistics\", \"salesforce\", \"procurement\", \"mandarin\", \"saas\", \"pr\", \"cloud\", \"spss\", \"big data\", \"ecommerce\", \"sas\", \"ux\", \"rest\", \"telecommunication\", \"sharepoint\", \"kpis\", \"leadership skills\", \"excel\", \"auditing\", \"access\", \"mandarin\", \"word\", \"cash flow\", \"toc\", \"process design\", \"cpa\", \"advisory\", \"sas\", \"bayes\", \"strong leadership\", \"risk management\", \"agile\", \"spss\", \"telecommunication\", \"osha\", \"big data\", \"seo\", \"saas\", \"pr\", \"forecast\", \"excel\", \"access\", \"forecast\", \"statistics\", \"sql\", \"procurement\", \"word\", \"strong leadership\", \"mandarin\", \"normalization\", \"ecommerce\", \"telecommunication\", \"cash flow\", \"react\", \"4wd\", \"dashboard\", \"sap\", \"virtualization\", \"sas\", \"toc\", \"roi\", \"big data\", \"java\", \"pr\", \"advisory\", \"auditing\", \"cognos\", \"kpis\", \"erp\", \"spss\", \"excel\", \"access\", \"agile\", \"sql\", \"statistics\", \"ecommerce\", \"java\", \"cloud\", \"crm\", \"forecast\", \"linux\", \"prediction\", \"bi\", \"word\", \"scrum\", \"dashboard\", \"big data\", \"virtualization\", \"unix\", \"oracle\", \"powerpoint\", \"pr\", \"strong leadership\", \"advisory\", \"seo\", \"javascript\", \"visio\", \"sas\", \"auditing\", \"saas\"], \"xaxis\": \"x\", \"y\": [34.0, 9.0, 8.0, 7.0, 6.0, 5.0, 5.0, 4.0, 4.0, 3.0, 3.0, 3.0, 3.0, 3.0, 3.0, 2.0, 2.0, 2.0, 2.0, 2.0, 2.0, 2.0, 2.0, 2.0, 2.0, 2.0, 2.0, 2.0, 2.0, 2.0, 40.0, 23.0, 11.0, 9.0, 9.0, 8.0, 8.0, 8.0, 6.0, 6.0, 6.0, 6.0, 6.0, 6.0, 6.0, 6.0, 6.0, 6.0, 6.0, 4.0, 4.0, 4.0, 4.0, 4.0, 4.0, 4.0, 4.0, 4.0, 4.0, 4.0, 45.0, 23.0, 15.0, 10.0, 10.0, 10.0, 9.0, 9.0, 9.0, 8.0, 8.0, 7.0, 7.0, 6.0, 4.0, 3.0, 3.0, 3.0, 3.0, 3.0, 2.0, 2.0, 2.0, 2.0, 2.0, 2.0, 1.0, 1.0, 1.0, 1.0, 33.0, 16.0, 8.0, 8.0, 6.0, 4.0, 4.0, 4.0, 4.0, 4.0, 4.0, 4.0, 2.0, 2.0, 2.0, 2.0, 2.0, 2.0, 2.0, 2.0, 2.0, 2.0, 2.0, 2.0, 2.0, 2.0, 2.0, 2.0, 2.0, 56.0, 12.0, 9.0, 9.0, 9.0, 9.0, 6.0, 6.0, 6.0, 6.0, 6.0, 6.0, 6.0, 6.0, 6.0, 3.0, 3.0, 3.0, 3.0, 3.0, 3.0, 3.0, 3.0, 3.0, 3.0, 3.0, 3.0, 3.0, 3.0, 3.0, 45.0, 13.0, 13.0, 9.0, 9.0, 9.0, 8.0, 5.0, 5.0, 4.0, 4.0, 3.0, 3.0, 3.0, 3.0, 3.0, 3.0, 3.0, 2.0, 2.0, 2.0, 2.0, 2.0, 2.0, 2.0, 2.0, 2.0, 2.0, 2.0, 2.0, 29.0, 29.0, 29.0, 29.0, 29.0, 29.0, 29.0, 29.0, 14.0, 14.0, 14.0, 14.0, 14.0, 14.0, 14.0, 14.0, 14.0, 14.0, 14.0, 14.0, 14.0, 14.0, 14.0, 14.0, 14.0, 14.0, 22.0, 17.0, 11.0, 10.0, 6.0, 5.0, 5.0, 4.0, 4.0, 3.0, 3.0, 2.0, 2.0, 2.0, 2.0, 2.0, 2.0, 2.0, 2.0, 2.0, 1.0, 1.0, 1.0, 1.0, 1.0, 1.0, 1.0, 1.0, 1.0, 1.0, 48.0, 14.0, 6.0, 5.0, 5.0, 4.0, 4.0, 4.0, 3.0, 3.0, 3.0, 3.0, 3.0, 3.0, 3.0, 2.0, 2.0, 2.0, 2.0, 2.0, 2.0, 2.0, 2.0, 2.0, 1.0, 1.0, 1.0, 1.0, 1.0, 1.0, 38.0, 17.0, 12.0, 12.0, 12.0, 8.0, 8.0, 4.0, 4.0, 4.0, 4.0, 4.0, 4.0, 4.0, 4.0, 4.0, 4.0, 4.0, 4.0, 4.0, 4.0, 4.0, 4.0, 33.0, 26.0, 13.0, 8.0, 7.0, 5.0, 5.0, 5.0, 5.0, 4.0, 4.0, 4.0, 4.0, 3.0, 3.0, 3.0, 3.0, 3.0, 3.0, 3.0, 3.0, 3.0, 1.0, 1.0, 1.0, 1.0, 1.0, 1.0, 1.0, 1.0, 49.0, 15.0, 15.0, 12.0, 10.0, 8.0, 8.0, 6.0, 6.0, 6.0, 6.0, 5.0, 5.0, 5.0, 5.0, 5.0, 5.0, 5.0, 5.0, 4.0, 4.0, 4.0, 4.0, 4.0, 4.0, 4.0, 4.0, 4.0, 3.0, 3.0], \"yaxis\": \"y\", \"type\": \"bar\"}], \"name\": \"2013\"}, {\"data\": [{\"alignmentgroup\": \"True\", \"hoverlabel\": {\"namelength\": 0}, \"hovertemplate\": \"Year=2014<br>skill=%{x}<br>cnt=%{y}\", \"legendgroup\": \"\", \"marker\": {\"color\": \"#636efa\"}, \"name\": \"\", \"offsetgroup\": \"\", \"orientation\": \"v\", \"showlegend\": false, \"textposition\": \"auto\", \"x\": [\"excel\", \"word\", \"powerpoint\", \"statistics\", \"access\", \"sql\", \"advisory\", \"sas\", \"forecast\", \"strong leadership\", \"spss\", \"lean six sigma\", \"procurement\", \"vba\", \"auditing\", \"macros\", \"spreadsheets\", \"microsoft word\", \"cloud\", \"rest\", \"bayes\", \"telecommunication\", \"cpa\", \"outlook\", \"sap\", \"roi\", \"oracle\", \"mentorship\", \"big data\", \"crm\", \"excel\", \"access\", \"java\", \"javascript\", \"css\", \"html\", \"procurement\", \"agile\", \"sql\", \"product design\", \"qa\", \"cad\", \"word\", \"opengl\", \"strong leadership\", \"auditing\", \"autocad\", \"unix\", \"windows\", \"xcode\", \"spreadsheets\", \"spring\", \"linux\", \"cocoa\", \"statistics\", \"PLCs\", \"forecast\", \"powerpoint\", \"oracle\", \"jquery\", \"excel\", \"auditing\", \"word\", \"access\", \"cpa\", \"forecast\", \"powerpoint\", \"cash flow\", \"cfa\", \"statistics\", \"spreadsheets\", \"sql\", \"advisory\", \"strong leadership\", \"outlook\", \"procurement\", \"roi\", \"macros\", \"quickbooks\", \"classification\", \"sap\", \"hyperion\", \"dashboard\", \"cognos\", \"spring\", \"visualization\", \"microsoft word\", \"oracle\", \"sas\", \"agile\", \"excel\", \"word\", \"access\", \"statistics\", \"powerpoint\", \"roi\", \"outlook\", \"forecast\", \"mentorship\", \"spreadsheets\", \"strong leadership\", \"bi\", \"spring\", \"microsoft word\", \"vha program\", \"entrepreneurship spirit\", \"rfp\", \"bain\", \"normalization\", \"remedy\", \"microsoft outlook\", \"sdlc\", \"quest\", \"team leadership\", \"procurement\", \"graphic design\", \"dash\", \"ms project\", \"cms\", \"phr\", \"excel\", \"word\", \"procurement\", \"auditing\", \"access\", \"forecast\", \"erp\", \"statistics\", \"powerpoint\", \"roi\", \"spreadsheets\", \"scm\", \"sap\", \"agile\", \"bi\", \"qa\", \"sql\", \"kpis\", \"visio\", \"strong leadership\", \"product design\", \"spring\", \"OEM\", \"outlook\", \"visualization\", \"tco\", \"mandarin\", \"microsoft word\", \"oracle\", \"telecommunication\", \"excel\", \"access\", \"word\", \"powerpoint\", \"forecast\", \"statistics\", \"auditing\", \"sql\", \"strong leadership\", \"outlook\", \"procurement\", \"roi\", \"crm\", \"spreadsheets\", \"mentorship\", \"visualization\", \"telecommunication\", \"spring\", \"agile\", \"seo\", \"html\", \"salesforce\", \"ecommerce\", \"oracle\", \"sap\", \"advisory\", \"dashboard\", \"pr\", \"graphic design\", \"kpis\", \"excel\", \"word\", \"illustrator\", \"powerpoint\", \"adobe\", \"indesign\", \"visualization\", \"graphic design\", \"photoshop\", \"html\", \"dreamweaver\", \"mentorship\", \"roi\", \"access\", \"html5\", \"forecast\", \"final cut\", \"statistics\", \"spring\", \"rfis\", \"photography\", \"css\", \"cad\", \"strong leadership\", \"sharepoint\", \"javascript\", \"bi\", \"procurement\", \"microsoft word\", \"jquery\", \"excel\", \"access\", \"auditing\", \"word\", \"powerpoint\", \"statistics\", \"forecast\", \"advisory\", \"mentorship\", \"spreadsheets\", \"spring\", \"procurement\", \"visualization\", \"sql\", \"outlook\", \"cpa\", \"bi\", \"sap\", \"virtualization\", \"html\", \"cash flow\", \"oracle\", \"microsoft word\", \"cloud\", \"java\", \"sharepoint\", \"crm\", \"kpis\", \"dashboard\", \"rfp\", \"excel\", \"word\", \"powerpoint\", \"access\", \"mentorship\", \"outlook\", \"strong leadership\", \"forecast\", \"auditing\", \"statistics\", \"seo\", \"roi\", \"graphic design\", \"html\", \"crm\", \"salesforce\", \"visualization\", \"photoshop\", \"adobe\", \"pr\", \"spring\", \"virtualization\", \"spreadsheets\", \"team leadership\", \"visio\", \"microsoft word\", \"ms word\", \"saas\", \"illustrator\", \"adwords\", \"excel\", \"powerpoint\", \"word\", \"access\", \"procurement\", \"cash flow\", \"outlook\", \"forecast\", \"statistics\", \"ms word\", \"msword\", \"mentorship\", \"osha\", \"dash\", \"microsoft word\", \"roi\", \"advisory\", \"spreadsheets\", \"quest\", \"lean six sigma\", \"macros\", \"process design\", \"spring\", \"strong leadership\", \"rfp\", \"auditing\", \"remedy\", \"ssl\", \"ram quest\", \"graphic design\", \"excel\", \"word\", \"access\", \"mentorship\", \"powerpoint\", \"auditing\", \"statistics\", \"spreadsheets\", \"roi\", \"strong leadership\", \"outlook\", \"ecommerce\", \"visualization\", \"forecast\", \"agile\", \"mandarin\", \"sql\", \"telecommunication\", \"react\", \"qa\", \"rfis\", \"adobe\", \"shiny\", \"visio\", \"sharepoint\", \"spring\", \"graphic design\", \"procurement\", \"sdlc\", \"kpis\", \"excel\", \"access\", \"sql\", \"word\", \"statistics\", \"powerpoint\", \"auditing\", \"agile\", \"forecast\", \"html\", \"cloud\", \"oracle\", \"visualization\", \"windows\", \"java\", \"outlook\", \"strong leadership\", \"javascript\", \"sdlc\", \"visio\", \"css\", \"spring\", \"roi\", \"python\", \"unix\", \"bi\", \"saas\", \"mentorship\", \"crm\", \"linux\", \"ims\", \"spring\", \"statistics\", \"procurement\"], \"xaxis\": \"x\", \"y\": [49.0, 17.0, 13.0, 12.0, 11.0, 8.0, 7.0, 7.0, 5.0, 5.0, 4.0, 4.0, 4.0, 4.0, 4.0, 4.0, 3.0, 3.0, 3.0, 2.0, 2.0, 2.0, 2.0, 2.0, 2.0, 2.0, 2.0, 2.0, 2.0, 2.0, 46.0, 11.0, 10.0, 9.0, 8.0, 8.0, 7.0, 7.0, 7.0, 6.0, 6.0, 6.0, 6.0, 6.0, 5.0, 5.0, 5.0, 4.0, 4.0, 3.0, 3.0, 3.0, 3.0, 3.0, 3.0, 2.0, 2.0, 2.0, 2.0, 2.0, 52.0, 18.0, 15.0, 15.0, 15.0, 14.0, 11.0, 7.0, 7.0, 6.0, 6.0, 6.0, 5.0, 4.0, 4.0, 3.0, 3.0, 2.0, 2.0, 2.0, 2.0, 2.0, 2.0, 2.0, 2.0, 2.0, 2.0, 2.0, 2.0, 2.0, 50.0, 17.0, 13.0, 8.0, 8.0, 6.0, 6.0, 6.0, 4.0, 4.0, 4.0, 4.0, 4.0, 4.0, 2.0, 2.0, 2.0, 2.0, 2.0, 2.0, 2.0, 2.0, 2.0, 2.0, 2.0, 2.0, 2.0, 2.0, 2.0, 2.0, 50.0, 19.0, 17.0, 13.0, 11.0, 10.0, 8.0, 8.0, 7.0, 6.0, 5.0, 4.0, 4.0, 4.0, 4.0, 4.0, 4.0, 4.0, 3.0, 3.0, 3.0, 3.0, 3.0, 3.0, 3.0, 3.0, 2.0, 2.0, 2.0, 2.0, 42.0, 13.0, 13.0, 11.0, 10.0, 6.0, 4.0, 4.0, 4.0, 4.0, 4.0, 4.0, 4.0, 4.0, 3.0, 3.0, 3.0, 3.0, 2.0, 2.0, 2.0, 2.0, 2.0, 2.0, 2.0, 2.0, 2.0, 2.0, 2.0, 2.0, 32.0, 17.0, 17.0, 17.0, 17.0, 17.0, 17.0, 17.0, 17.0, 15.0, 12.0, 5.0, 5.0, 5.0, 5.0, 5.0, 5.0, 5.0, 5.0, 5.0, 2.0, 2.0, 2.0, 2.0, 2.0, 2.0, 2.0, 2.0, 2.0, 2.0, 24.0, 12.0, 10.0, 8.0, 5.0, 4.0, 4.0, 4.0, 3.0, 3.0, 3.0, 3.0, 2.0, 2.0, 2.0, 2.0, 2.0, 1.0, 1.0, 1.0, 1.0, 1.0, 1.0, 1.0, 1.0, 1.0, 1.0, 1.0, 1.0, 1.0, 36.0, 18.0, 13.0, 10.0, 6.0, 6.0, 5.0, 5.0, 5.0, 4.0, 4.0, 4.0, 3.0, 3.0, 3.0, 3.0, 3.0, 3.0, 2.0, 2.0, 2.0, 2.0, 2.0, 2.0, 2.0, 2.0, 2.0, 2.0, 2.0, 2.0, 47.0, 17.0, 16.0, 7.0, 7.0, 7.0, 6.0, 6.0, 4.0, 4.0, 4.0, 4.0, 4.0, 3.0, 3.0, 3.0, 3.0, 3.0, 3.0, 1.0, 1.0, 1.0, 1.0, 1.0, 1.0, 1.0, 1.0, 1.0, 1.0, 1.0, 42.0, 16.0, 14.0, 6.0, 6.0, 6.0, 5.0, 4.0, 4.0, 3.0, 3.0, 3.0, 3.0, 3.0, 2.0, 2.0, 2.0, 2.0, 2.0, 2.0, 2.0, 2.0, 2.0, 2.0, 2.0, 2.0, 1.0, 1.0, 1.0, 1.0, 39.0, 14.0, 13.0, 11.0, 9.0, 8.0, 7.0, 6.0, 6.0, 5.0, 5.0, 5.0, 5.0, 4.0, 4.0, 4.0, 4.0, 4.0, 4.0, 4.0, 3.0, 3.0, 3.0, 3.0, 3.0, 3.0, 3.0, 3.0, 3.0, 2.0, 25.0, 25.0, 25.0, 25.0], \"yaxis\": \"y\", \"type\": \"bar\"}], \"name\": \"2014\"}, {\"data\": [{\"alignmentgroup\": \"True\", \"hoverlabel\": {\"namelength\": 0}, \"hovertemplate\": \"Year=2015<br>skill=%{x}<br>cnt=%{y}\", \"legendgroup\": \"\", \"marker\": {\"color\": \"#636efa\"}, \"name\": \"\", \"offsetgroup\": \"\", \"orientation\": \"v\", \"showlegend\": false, \"textposition\": \"auto\", \"x\": [\"excel\", \"word\", \"powerpoint\", \"access\", \"statistics\", \"advisory\", \"auditing\", \"procurement\", \"forecast\", \"cpa\", \"lean six sigma\", \"sql\", \"virtualization\", \"mentorship\", \"visualization\", \"sas\", \"cash flow\", \"microsoft word\", \"strong leadership\", \"spreadsheets\", \"rfp\", \"outlook\", \"spss\", \"oracle\", \"erp\", \"big data\", \"cloud\", \"agile\", \"html\", \"dashboard\", \"excel\", \"access\", \"word\", \"sql\", \"statistics\", \"visualization\", \"powerpoint\", \"procurement\", \"forecast\", \"autocad\", \"spring\", \"mentorship\", \"oracle\", \"java\", \"auditing\", \"outlook\", \"strong leadership\", \"product design\", \"advisory\", \"prediction\", \"linux\", \"cad\", \"windows\", \"microsoft word\", \"android\", \"probability\", \"big data\", \"bi\", \"qa\", \"cloud\", \"excel\", \"auditing\", \"word\", \"cpa\", \"access\", \"powerpoint\", \"forecast\", \"statistics\", \"advisory\", \"cash flow\", \"sql\", \"cfa\", \"outlook\", \"spreadsheets\", \"procurement\", \"quickbooks\", \"strong leadership\", \"virtualization\", \"mentorship\", \"spring\", \"visualization\", \"classification\", \"php\", \"sap\", \"normalization\", \"rest\", \"roi\", \"macros\", \"microsoft word\", \"erp\", \"excel\", \"access\", \"word\", \"powerpoint\", \"forecast\", \"auditing\", \"mentorship\", \"sql\", \"outlook\", \"spring\", \"microsoft word\", \"agile\", \"quest\", \"strong leadership\", \"procurement\", \"sprint\", \"regression\", \"document control\", \"entrepreneurship spirit\", \"crm\", \"statistics\", \"rest\", \"qa\", \"product design\", \"webex\", \"roi\", \"cms\", \"process improvement\", \"spreadsheets\", \"netsuite\", \"excel\", \"word\", \"procurement\", \"access\", \"auditing\", \"powerpoint\", \"erp\", \"sql\", \"statistics\", \"visualization\", \"quest\", \"microsoft word\", \"mentorship\", \"rfp\", \"tcc\", \"sap\", \"forecast\", \"oracle\", \"outlook\", \"rfqs\", \"normalization\", \"apics\", \"rfis\", \"qa\", \"document control\", \"product design\", \"da\", \"visio\", \"windows\", \"osha\", \"excel\", \"word\", \"powerpoint\", \"access\", \"forecast\", \"statistics\", \"sql\", \"auditing\", \"procurement\", \"outlook\", \"crm\", \"strong leadership\", \"virtualization\", \"pr\", \"mentorship\", \"kpis\", \"spring\", \"visualization\", \"roi\", \"ecommerce\", \"agile\", \"cloud\", \"salesforce\", \"sap\", \"normalization\", \"adobe\", \"advisory\", \"sas\", \"rest\", \"telecommunication\", \"excel\", \"access\", \"word\", \"graphic design\", \"adobe\", \"mentorship\", \"powerpoint\", \"illustrator\", \"indesign\", \"microsoft word\", \"photoshop\", \"visualization\", \"quest\", \"sql\", \"cloud\", \"photography\", \"sprint\", \"auditing\", \"bi\", \"xhtml\", \"probability\", \"pr\", \"regression\", \"roi\", \"big data\", \"forecast\", \"agile\", \"procurement\", \"perl\", \"netsuite\", \"excel\", \"word\", \"access\", \"powerpoint\", \"auditing\", \"outlook\", \"statistics\", \"forecast\", \"spring\", \"procurement\", \"spreadsheets\", \"crm\", \"virtualization\", \"normalization\", \"sql\", \"visualization\", \"graphic design\", \"classification\", \"microsoft word\", \"mentorship\", \"quickbooks\", \"bi\", \"prediction\", \"adobe\", \"illustrator\", \"salesforce\", \"cpa\", \"ms word\", \"windows\", \"photoshop\", \"excel\", \"word\", \"powerpoint\", \"access\", \"auditing\", \"statistics\", \"outlook\", \"forecast\", \"pr\", \"virtualization\", \"spring\", \"adobe\", \"nn\", \"crm\", \"salesforce\", \"adaaa\", \"procurement\", \"normalization\", \"ebitda\", \"graphic design\", \"ecommerce\", \"bi\", \"microsoft word\", \"sap\", \"ms word\", \"strong leadership\", \"visualization\", \"seo\", \"sql\", \"windows\", \"excel\", \"word\", \"access\", \"powerpoint\", \"virtualization\", \"mentorship\", \"advisory\", \"auditing\", \"forecast\", \"statistics\", \"visualization\", \"microsoft word\", \"cash flow\", \"sql\", \"probability\", \"outlook\", \"salesforce\", \"ecommerce\", \"sprint\", \"erp\", \"rfp\", \"spreadsheets\", \"spring\", \"bi\", \"spark\", \"quest\", \"sap\", \"windows\", \"react\", \"crm\", \"excel\", \"word\", \"access\", \"forecast\", \"auditing\", \"mentorship\", \"powerpoint\", \"sql\", \"virtualization\", \"strong leadership\", \"outlook\", \"visualization\", \"statistics\", \"crm\", \"ms word\", \"cash flow\", \"prediction\", \"ecommerce\", \"procurement\", \"microsoft word\", \"spring\", \"rest\", \"kpis\", \"dashboard\", \"cloud\", \"agile\", \"advisory\", \"roi\", \"bi\", \"qa\", \"excel\", \"word\", \"sql\", \"access\", \"statistics\", \"powerpoint\", \"auditing\", \"agile\", \"visualization\", \"virtualization\", \"roi\", \"windows\", \"cloud\", \"spring\", \"rest\", \"mentorship\", \"ecommerce\", \"probability\", \"forecast\", \"outlook\", \"procurement\", \"kpis\", \"html\", \"python\", \"java\", \"product development\", \"linux\", \"oracle\", \"visio\", \"css\", \"excel\", \"word\", \"procurement\", \"access\", \"auditing\", \"powerpoint\", \"sql\", \"forecast\", \"outlook\", \"rfp\", \"statistics\", \"erp\", \"microsoft word\", \"sap\", \"oracle\", \"telecommunication\", \"mentorship\", \"kpis\", \"classification\", \"normalization\", \"crm\", \"dashboard\", \"apics\", \"quest\", \"prediction\", \"visualization\", \"windows\", \"ecommerce\", \"rfqs\", \"process design\"], \"xaxis\": \"x\", \"y\": [44.0, 13.0, 11.0, 10.0, 9.0, 9.0, 9.0, 5.0, 5.0, 4.0, 4.0, 3.0, 3.0, 3.0, 3.0, 3.0, 2.0, 2.0, 2.0, 2.0, 2.0, 2.0, 2.0, 2.0, 2.0, 2.0, 2.0, 2.0, 2.0, 2.0, 39.0, 15.0, 11.0, 9.0, 8.0, 7.0, 6.0, 5.0, 5.0, 4.0, 4.0, 4.0, 4.0, 4.0, 3.0, 3.0, 3.0, 3.0, 3.0, 3.0, 3.0, 3.0, 3.0, 3.0, 3.0, 3.0, 2.0, 2.0, 2.0, 2.0, 49.0, 20.0, 17.0, 15.0, 15.0, 12.0, 11.0, 8.0, 7.0, 5.0, 5.0, 5.0, 4.0, 4.0, 3.0, 3.0, 3.0, 3.0, 3.0, 2.0, 2.0, 2.0, 2.0, 2.0, 2.0, 2.0, 2.0, 2.0, 2.0, 2.0, 37.0, 18.0, 11.0, 6.0, 6.0, 6.0, 6.0, 5.0, 4.0, 4.0, 4.0, 2.0, 2.0, 2.0, 2.0, 2.0, 2.0, 2.0, 2.0, 2.0, 2.0, 2.0, 2.0, 2.0, 2.0, 1.0, 1.0, 1.0, 1.0, 1.0, 50.0, 23.0, 19.0, 12.0, 11.0, 11.0, 8.0, 7.0, 5.0, 5.0, 5.0, 4.0, 4.0, 3.0, 3.0, 3.0, 3.0, 3.0, 2.0, 2.0, 2.0, 2.0, 2.0, 2.0, 2.0, 2.0, 2.0, 2.0, 2.0, 2.0, 41.0, 15.0, 11.0, 10.0, 9.0, 7.0, 4.0, 4.0, 4.0, 4.0, 3.0, 3.0, 3.0, 3.0, 3.0, 3.0, 3.0, 2.0, 2.0, 2.0, 2.0, 2.0, 2.0, 2.0, 2.0, 2.0, 2.0, 2.0, 2.0, 2.0, 37.0, 19.0, 12.0, 12.0, 12.0, 9.0, 7.0, 7.0, 5.0, 5.0, 5.0, 5.0, 4.0, 4.0, 4.0, 4.0, 4.0, 4.0, 2.0, 2.0, 2.0, 2.0, 2.0, 2.0, 2.0, 2.0, 2.0, 2.0, 2.0, 2.0, 43.0, 17.0, 11.0, 10.0, 7.0, 7.0, 6.0, 4.0, 4.0, 3.0, 3.0, 3.0, 3.0, 3.0, 2.0, 2.0, 2.0, 2.0, 2.0, 2.0, 2.0, 2.0, 2.0, 1.0, 1.0, 1.0, 1.0, 1.0, 1.0, 1.0, 43.0, 18.0, 12.0, 11.0, 6.0, 5.0, 5.0, 5.0, 5.0, 5.0, 4.0, 3.0, 3.0, 3.0, 3.0, 3.0, 3.0, 3.0, 3.0, 2.0, 2.0, 2.0, 2.0, 2.0, 2.0, 2.0, 2.0, 2.0, 2.0, 2.0, 38.0, 17.0, 17.0, 11.0, 10.0, 8.0, 7.0, 6.0, 5.0, 5.0, 4.0, 4.0, 3.0, 3.0, 3.0, 3.0, 3.0, 3.0, 2.0, 2.0, 2.0, 2.0, 2.0, 2.0, 2.0, 2.0, 1.0, 1.0, 1.0, 1.0, 44.0, 18.0, 15.0, 9.0, 9.0, 7.0, 7.0, 6.0, 6.0, 5.0, 5.0, 4.0, 4.0, 4.0, 4.0, 4.0, 3.0, 3.0, 3.0, 3.0, 2.0, 2.0, 2.0, 2.0, 2.0, 2.0, 2.0, 2.0, 2.0, 2.0, 37.0, 12.0, 12.0, 12.0, 8.0, 7.0, 6.0, 5.0, 5.0, 4.0, 4.0, 4.0, 4.0, 4.0, 4.0, 3.0, 3.0, 3.0, 3.0, 3.0, 3.0, 3.0, 3.0, 3.0, 3.0, 3.0, 3.0, 3.0, 2.0, 2.0, 44.0, 16.0, 15.0, 14.0, 11.0, 7.0, 5.0, 5.0, 5.0, 5.0, 4.0, 4.0, 4.0, 4.0, 3.0, 3.0, 3.0, 3.0, 3.0, 3.0, 2.0, 2.0, 2.0, 2.0, 2.0, 2.0, 2.0, 2.0, 2.0, 2.0], \"yaxis\": \"y\", \"type\": \"bar\"}], \"name\": \"2015\"}, {\"data\": [{\"alignmentgroup\": \"True\", \"hoverlabel\": {\"namelength\": 0}, \"hovertemplate\": \"Year=2016<br>skill=%{x}<br>cnt=%{y}\", \"legendgroup\": \"\", \"marker\": {\"color\": \"#636efa\"}, \"name\": \"\", \"offsetgroup\": \"\", \"orientation\": \"v\", \"showlegend\": false, \"textposition\": \"auto\", \"x\": [\"excel\", \"statistics\", \"powerpoint\", \"access\", \"word\", \"advisory\", \"procurement\", \"sas\", \"spss\", \"auditing\", \"visualization\", \"forecast\", \"stata\", \"sql\", \"lean six sigma\", \"agile\", \"prediction\", \"cpa\", \"mentorship\", \"mandarin\", \"cash flow\", \"outlook\", \"cloud\", \"crm\", \"process redesign\", \"spreadsheets\", \"microsoft word\", \"spring\", \"virtualization\", \"python\", \"excel\", \"access\", \"word\", \"visualization\", \"powerpoint\", \"pr\", \"forecast\", \"cloud\", \"outlook\", \"procurement\", \"autocad\", \"ces\", \"auditing\", \"mandarin\", \"statistics\", \"advisory\", \"sql\", \"adwords\", \"normalization\", \"savicom\", \"doubleclick\", \"quickbooks\", \"sap\", \"mentorship\", \"agile\", \"apache\", \"java\", \"strong leadership\", \"spring\", \"cognos\", \"excel\", \"access\", \"word\", \"auditing\", \"powerpoint\", \"cpa\", \"forecast\", \"statistics\", \"advisory\", \"cash flow\", \"outlook\", \"sql\", \"spreadsheets\", \"cfa\", \"quickbooks\", \"procurement\", \"spring\", \"visualization\", \"mentorship\", \"microsoft word\", \"sas\", \"sap\", \"normalization\", \"classification\", \"erp\", \"ms word\", \"strong leadership\", \"asp\", \"crm\", \"mandarin\", \"excel\", \"access\", \"visualization\", \"statistics\", \"word\", \"pr\", \"sql\", \"powerpoint\", \"sas\", \"mandarin\", \"ces\", \"advisory\", \"procurement\", \"big data\", \"hadoop\", \"outlook\", \"tableau\", \"spring\", \"python\", \"forecast\", \"normalization\", \"agile\", \"prediction\", \"cognos\", \"mentorship\", \"ncr\", \"sdlc\", \"problem solving\", \"hive\", \"ms word\", \"excel\", \"word\", \"access\", \"procurement\", \"powerpoint\", \"outlook\", \"visualization\", \"pr\", \"mandarin\", \"ces\", \"auditing\", \"sap\", \"forecast\", \"statistics\", \"sql\", \"erp\", \"normalization\", \"cognos\", \"spreadsheets\", \"scm\", \"spring\", \"advisory\", \"microsoft word\", \"apics\", \"4wd\", \"sequencing\", \"cloud\", \"macros\", \"ms word\", \"crm\", \"excel\", \"word\", \"powerpoint\", \"access\", \"statistics\", \"forecast\", \"crm\", \"outlook\", \"auditing\", \"procurement\", \"sql\", \"visualization\", \"salesforce\", \"agile\", \"spring\", \"mentorship\", \"strong leadership\", \"sas\", \"spreadsheets\", \"mandarin\", \"pr\", \"kpis\", \"roi\", \"advisory\", \"adobe\", \"virtualization\", \"rest\", \"normalization\", \"ebitda\", \"prediction\", \"excel\", \"visualization\", \"pr\", \"mandarin\", \"ces\", \"word\", \"adobe\", \"access\", \"graphic design\", \"outlook\", \"normalization\", \"photoshop\", \"powerpoint\", \"illustrator\", \"spring\", \"cognos\", \"indesign\", \"procurement\", \"mentorship\", \"statistics\", \"html5\", \"advisory\", \"html\", \"3d design\", \"dreamweaver\", \"framemaker\", \"microsoft word\", \"sql\", \"salesforce\", \"javascript\", \"excel\", \"word\", \"access\", \"powerpoint\", \"auditing\", \"statistics\", \"outlook\", \"procurement\", \"kpis\", \"mandarin\", \"spring\", \"normalization\", \"rmbs\", \"crm\", \"spreadsheets\", \"visualization\", \"microsoft word\", \"pr\", \"ces\", \"forecast\", \"sap\", \"agile\", \"rest\", \"mentorship\", \"quickbooks\", \"strong leadership\", \"sql\", \"salesforce\", \"virtualization\", \"macros\", \"cpa\", \"advisory\", \"excel\", \"word\", \"powerpoint\", \"access\", \"statistics\", \"ebitda\", \"nn\", \"auditing\", \"outlook\", \"crm\", \"forecast\", \"spring\", \"visualization\", \"virtualization\", \"mandarin\", \"pr\", \"salesforce\", \"bi\", \"doubleclick\", \"normalization\", \"mentorship\", \"visio\", \"microsoft word\", \"rest\", \"adobe\", \"ces\", \"adwords\", \"procurement\", \"graphic design\", \"illustrator\", \"excel\", \"word\", \"access\", \"powerpoint\", \"pr\", \"ces\", \"advisory\", \"outlook\", \"mandarin\", \"visualization\", \"auditing\", \"cash flow\", \"spreadsheets\", \"statistics\", \"microsoft word\", \"forecast\", \"mentorship\", \"procurement\", \"spring\", \"cognos\", \"normalization\", \"10q\", \"problem solving\", \"cpa\", \"qa\", \"roi\", \"windows\", \"pcmrs\", \"salesforce\", \"probability\", \"excel\", \"word\", \"access\", \"statistics\", \"powerpoint\", \"pr\", \"visualization\", \"crm\", \"auditing\", \"outlook\", \"ces\", \"spring\", \"forecast\", \"strong leadership\", \"rest\", \"procurement\", \"sql\", \"mandarin\", \"microsoft word\", \"virtualization\", \"advisory\", \"doubleclick\", \"mentorship\", \"spreadsheets\", \"big data\", \"telecommunication\", \"normalization\", \"agile\", \"cognos\", \"sap\", \"excel\", \"access\", \"word\", \"sql\", \"powerpoint\", \"visualization\", \"agile\", \"statistics\", \"auditing\", \"java\", \"crm\", \"javascript\", \"cloud\", \"windows\", \"kpis\", \"html\", \"mentorship\", \"advisory\", \"big data\", \"procurement\", \"mandarin\", \"python\", \"virtualization\", \"sas\", \"spring\", \"normalization\", \"forecast\", \"rest\", \"linux\", \"outlook\", \"excel\", \"access\", \"procurement\", \"word\", \"kpis\", \"auditing\", \"powerpoint\", \"rmbs\", \"outlook\", \"forecast\", \"sap\", \"mandarin\", \"statistics\", \"macros\", \"visualization\", \"pr\", \"agile\", \"strong leadership\", \"normalization\", \"spring\", \"sql\", \"rfp\", \"ces\", \"spreadsheets\", \"zbb\", \"nn\", \"ebitda\", \"mentorship\", \"team leadership\", \"entrepreneurship spirit\"], \"xaxis\": \"x\", \"y\": [44.0, 13.0, 11.0, 8.0, 8.0, 8.0, 6.0, 6.0, 5.0, 5.0, 4.0, 4.0, 4.0, 3.0, 3.0, 3.0, 3.0, 3.0, 3.0, 2.0, 2.0, 2.0, 2.0, 2.0, 2.0, 2.0, 2.0, 2.0, 2.0, 2.0, 37.0, 12.0, 11.0, 8.0, 8.0, 5.0, 5.0, 5.0, 5.0, 4.0, 4.0, 4.0, 4.0, 4.0, 4.0, 4.0, 4.0, 4.0, 4.0, 4.0, 4.0, 4.0, 3.0, 3.0, 3.0, 3.0, 3.0, 3.0, 3.0, 2.0, 46.0, 19.0, 18.0, 17.0, 16.0, 11.0, 10.0, 7.0, 6.0, 6.0, 5.0, 5.0, 4.0, 3.0, 3.0, 3.0, 3.0, 3.0, 3.0, 2.0, 2.0, 2.0, 2.0, 2.0, 2.0, 2.0, 1.0, 1.0, 1.0, 1.0, 41.0, 12.0, 10.0, 10.0, 8.0, 7.0, 7.0, 7.0, 7.0, 6.0, 6.0, 5.0, 5.0, 4.0, 4.0, 4.0, 4.0, 4.0, 4.0, 3.0, 3.0, 3.0, 3.0, 3.0, 3.0, 2.0, 2.0, 2.0, 2.0, 2.0, 52.0, 16.0, 12.0, 11.0, 10.0, 8.0, 7.0, 7.0, 6.0, 6.0, 5.0, 5.0, 5.0, 4.0, 4.0, 3.0, 3.0, 3.0, 3.0, 2.0, 2.0, 2.0, 2.0, 2.0, 2.0, 2.0, 2.0, 2.0, 2.0, 2.0, 40.0, 15.0, 13.0, 11.0, 9.0, 7.0, 5.0, 5.0, 4.0, 4.0, 3.0, 3.0, 3.0, 3.0, 3.0, 3.0, 3.0, 3.0, 2.0, 2.0, 2.0, 2.0, 2.0, 2.0, 2.0, 2.0, 2.0, 2.0, 2.0, 2.0, 41.0, 16.0, 12.0, 11.0, 11.0, 11.0, 8.0, 8.0, 7.0, 7.0, 7.0, 6.0, 6.0, 6.0, 6.0, 5.0, 5.0, 5.0, 4.0, 4.0, 3.0, 3.0, 2.0, 2.0, 2.0, 2.0, 2.0, 2.0, 2.0, 2.0, 40.0, 15.0, 14.0, 10.0, 8.0, 7.0, 6.0, 6.0, 5.0, 4.0, 4.0, 4.0, 4.0, 4.0, 4.0, 3.0, 3.0, 3.0, 3.0, 3.0, 3.0, 3.0, 3.0, 2.0, 2.0, 2.0, 2.0, 2.0, 2.0, 2.0, 33.0, 33.0, 40.0, 16.0, 13.0, 10.0, 7.0, 6.0, 6.0, 6.0, 6.0, 5.0, 5.0, 4.0, 4.0, 4.0, 3.0, 3.0, 3.0, 3.0, 3.0, 3.0, 3.0, 2.0, 2.0, 2.0, 2.0, 2.0, 2.0, 2.0, 2.0, 2.0, 47.0, 16.0, 8.0, 8.0, 7.0, 7.0, 7.0, 7.0, 7.0, 7.0, 6.0, 5.0, 5.0, 5.0, 5.0, 5.0, 4.0, 3.0, 3.0, 3.0, 3.0, 2.0, 2.0, 1.0, 1.0, 1.0, 1.0, 1.0, 1.0, 1.0, 37.0, 14.0, 13.0, 8.0, 8.0, 5.0, 5.0, 5.0, 5.0, 5.0, 5.0, 4.0, 4.0, 4.0, 4.0, 4.0, 4.0, 3.0, 3.0, 3.0, 3.0, 3.0, 3.0, 2.0, 2.0, 2.0, 2.0, 2.0, 2.0, 2.0, 35.0, 13.0, 12.0, 10.0, 9.0, 8.0, 7.0, 7.0, 6.0, 5.0, 5.0, 5.0, 5.0, 5.0, 4.0, 4.0, 4.0, 4.0, 4.0, 3.0, 3.0, 3.0, 3.0, 3.0, 3.0, 3.0, 3.0, 3.0, 3.0, 3.0, 46.0, 15.0, 13.0, 12.0, 11.0, 11.0, 9.0, 7.0, 7.0, 6.0, 6.0, 6.0, 5.0, 4.0, 4.0, 4.0, 4.0, 4.0, 3.0, 3.0, 3.0, 3.0, 3.0, 2.0, 2.0, 2.0, 2.0, 2.0, 2.0, 2.0], \"yaxis\": \"y\", \"type\": \"bar\"}], \"name\": \"2016\"}, {\"data\": [{\"alignmentgroup\": \"True\", \"hoverlabel\": {\"namelength\": 0}, \"hovertemplate\": \"Year=2017<br>skill=%{x}<br>cnt=%{y}\", \"legendgroup\": \"\", \"marker\": {\"color\": \"#636efa\"}, \"name\": \"\", \"offsetgroup\": \"\", \"orientation\": \"v\", \"showlegend\": false, \"textposition\": \"auto\", \"x\": [\"excel\", \"word\", \"access\", \"powerpoint\", \"statistics\", \"procurement\", \"forecast\", \"auditing\", \"advisory\", \"agile\", \"mentorship\", \"sql\", \"sas\", \"cloud\", \"cpa\", \"lean six sigma\", \"visualization\", \"ms word\", \"spreadsheets\", \"python\", \"tableau\", \"prediction\", \"spss\", \"process redesign\", \"cash flow\", \"big data\", \"spring\", \"virtualization\", \"java\", \"microsoft word\", \"excel\", \"access\", \"sql\", \"powerpoint\", \"statistics\", \"cloud\", \"word\", \"mentorship\", \"cad\", \"javascript\", \"java\", \"html\", \"product design\", \"autocad\", \"agile\", \"auditing\", \"visualization\", \"css\", \"strong leadership\", \"oracle\", \"windows\", \"forecast\", \"virtualization\", \"cissp\", \"classification\", \"normalization\", \"spring\", \"fmea\", \"sap\", \"process design\", \"excel\", \"word\", \"auditing\", \"access\", \"powerpoint\", \"cpa\", \"forecast\", \"statistics\", \"advisory\", \"cash flow\", \"spreadsheets\", \"mentorship\", \"outlook\", \"sql\", \"ms word\", \"microsoft word\", \"spring\", \"sap\", \"quickbooks\", \"cfa\", \"sas\", \"procurement\", \"visualization\", \"strong leadership\", \"php\", \"html\", \"remedy\", \"virtualization\", \"agile\", \"time analyst\", \"excel\", \"access\", \"mentorship\", \"word\", \"powerpoint\", \"statistics\", \"normalization\", \"outlook\", \"forecast\", \"classification\", \"agile\", \"spring\", \"spss\", \"virtualization\", \"team leadership\", \"sas\", \"sql\", \"prediction\", \"microsoft word\", \"cms\", \"roi\", \"macros\", \"xml\", \"vlookup\", \"lean six sigma\", \"crm\", \"multimedia\", \"data analysis\", \"dashboard\", \"oracle\", \"excel\", \"access\", \"mentorship\", \"procurement\", \"word\", \"auditing\", \"outlook\", \"strong leadership\", \"powerpoint\", \"visualization\", \"rfp\", \"spring\", \"kpis\", \"normalization\", \"forecast\", \"agile\", \"statistics\", \"bayes\", \"rfqs\", \"qa\", \"mandarin\", \"sap\", \"kanban\", \"roi\", \"team leadership\", \"smed\", \"virtualization\", \"lean six sigma\", \"erp\", \"sql\", \"excel\", \"access\", \"word\", \"powerpoint\", \"forecast\", \"statistics\", \"mentorship\", \"crm\", \"sql\", \"auditing\", \"outlook\", \"salesforce\", \"visualization\", \"virtualization\", \"procurement\", \"spring\", \"microsoft word\", \"strong leadership\", \"sas\", \"agile\", \"adobe\", \"sap\", \"pr\", \"cloud\", \"graphic design\", \"html\", \"tableau\", \"roi\", \"seo\", \"dashboard\", \"excel\", \"mentorship\", \"graphic design\", \"word\", \"powerpoint\", \"visualization\", \"adobe\", \"access\", \"indesign\", \"pr\", \"spring\", \"photography\", \"agile\", \"photoshop\", \"outlook\", \"normalization\", \"illustrator\", \"css\", \"html\", \"team leadership\", \"html5\", \"forecast\", \"multimedia\", \"data analysis\", \"bayes\", \"cms\", \"oracle\", \"javascript\", \"dreamweaver\", \"market outreach\", \"excel\", \"word\", \"access\", \"powerpoint\", \"ces\", \"statistics\", \"spring\", \"outlook\", \"auditing\", \"mentorship\", \"rest\", \"forecast\", \"mandarin\", \"procurement\", \"html\", \"spreadsheets\", \"sql\", \"salesforce\", \"visualization\", \"pr\", \"crm\", \"sas\", \"agile\", \"cloud\", \"microsoft word\", \"ms word\", \"adobe\", \"sharepoint\", \"bayes\", \"strong leadership\", \"excel\", \"access\", \"word\", \"auditing\", \"forecast\", \"ccna\", \"linux\", \"probability\", \"powerpoint\", \"unix\", \"bi\", \"microsoft word\", \"ces\", \"procurement\", \"excel\", \"word\", \"powerpoint\", \"access\", \"spring\", \"mentorship\", \"adobe\", \"statistics\", \"outlook\", \"salesforce\", \"graphic design\", \"forecast\", \"auditing\", \"seo\", \"photoshop\", \"crm\", \"html\", \"roi\", \"ebitda\", \"nn\", \"visualization\", \"microsoft word\", \"procurement\", \"bayes\", \"virtualization\", \"agile\", \"pr\", \"kpis\", \"spss\", \"spreadsheets\", \"excel\", \"word\", \"powerpoint\", \"access\", \"mentorship\", \"cash flow\", \"auditing\", \"spring\", \"outlook\", \"remedy\", \"forecast\", \"statistics\", \"time analyst\", \"virtualization\", \"normalization\", \"advisory\", \"agile\", \"spreadsheets\", \"sharepoint\", \"rfp\", \"crm\", \"sql\", \"bi\", \"salesforce\", \"procurement\", \"powerbi\", \"windows\", \"sas\", \"kpis\", \"data analysis\", \"excel\", \"access\", \"mentorship\", \"word\", \"powerpoint\", \"forecast\", \"auditing\", \"procurement\", \"cloud\", \"cpa\", \"virtualization\", \"spring\", \"agile\", \"crm\", \"visualization\", \"statistics\", \"ms project\", \"normalization\", \"oracle\", \"cash flow\", \"outlook\", \"strong leadership\", \"sql\", \"sap\", \"salesforce\", \"mandarin\", \"html\", \"telecommunication\", \"cissp\", \"advisory\", \"excel\", \"access\", \"sql\", \"word\", \"visualization\", \"statistics\", \"java\", \"powerpoint\", \"agile\", \"mentorship\", \"auditing\", \"cloud\", \"html\", \"oracle\", \"python\", \"javascript\", \"spring\", \"virtualization\", \"windows\", \"forecast\", \"big data\", \"tableau\", \"dashboard\", \"css\", \"sas\", \"adobe\", \"remedy\", \"unix\", \"linux\", \"xml\", \"excel\", \"access\", \"word\", \"procurement\", \"powerpoint\", \"forecast\", \"mentorship\", \"outlook\", \"statistics\", \"sql\", \"sap\", \"crm\", \"auditing\", \"adaaa\", \"rfp\", \"agile\", \"strong leadership\", \"spring\", \"visualization\", \"erp\", \"microsoft word\", \"normalization\", \"kpis\", \"sharepoint\", \"adobe\", \"big data\", \"photography\", \"rfqs\", \"salesforce\", \"spreadsheets\"], \"xaxis\": \"x\", \"y\": [44.0, 12.0, 11.0, 10.0, 7.0, 6.0, 5.0, 5.0, 5.0, 5.0, 5.0, 4.0, 4.0, 4.0, 4.0, 4.0, 3.0, 3.0, 3.0, 3.0, 3.0, 3.0, 3.0, 3.0, 2.0, 2.0, 2.0, 2.0, 2.0, 2.0, 32.0, 15.0, 9.0, 9.0, 8.0, 7.0, 7.0, 7.0, 6.0, 6.0, 6.0, 6.0, 6.0, 5.0, 5.0, 5.0, 4.0, 4.0, 4.0, 4.0, 4.0, 3.0, 3.0, 3.0, 3.0, 3.0, 3.0, 2.0, 2.0, 2.0, 50.0, 20.0, 18.0, 18.0, 14.0, 11.0, 11.0, 7.0, 7.0, 6.0, 5.0, 5.0, 4.0, 4.0, 4.0, 3.0, 3.0, 3.0, 3.0, 2.0, 2.0, 2.0, 2.0, 2.0, 2.0, 2.0, 2.0, 2.0, 2.0, 2.0, 25.0, 15.0, 13.0, 12.0, 8.0, 6.0, 6.0, 5.0, 4.0, 4.0, 4.0, 3.0, 3.0, 3.0, 2.0, 2.0, 2.0, 2.0, 1.0, 1.0, 1.0, 1.0, 1.0, 1.0, 1.0, 1.0, 1.0, 1.0, 1.0, 1.0, 23.0, 16.0, 12.0, 12.0, 12.0, 7.0, 6.0, 5.0, 4.0, 4.0, 3.0, 3.0, 3.0, 3.0, 3.0, 3.0, 3.0, 2.0, 2.0, 2.0, 2.0, 2.0, 2.0, 2.0, 2.0, 2.0, 2.0, 2.0, 2.0, 2.0, 43.0, 16.0, 16.0, 14.0, 8.0, 7.0, 5.0, 4.0, 4.0, 4.0, 4.0, 3.0, 3.0, 3.0, 3.0, 3.0, 3.0, 2.0, 2.0, 2.0, 2.0, 2.0, 2.0, 2.0, 2.0, 2.0, 2.0, 2.0, 2.0, 2.0, 24.0, 14.0, 14.0, 10.0, 10.0, 8.0, 8.0, 8.0, 8.0, 8.0, 6.0, 6.0, 5.0, 5.0, 5.0, 5.0, 3.0, 3.0, 3.0, 2.0, 2.0, 2.0, 2.0, 2.0, 2.0, 2.0, 2.0, 2.0, 2.0, 2.0, 41.0, 17.0, 14.0, 12.0, 5.0, 5.0, 5.0, 5.0, 4.0, 4.0, 3.0, 3.0, 3.0, 3.0, 3.0, 3.0, 3.0, 3.0, 2.0, 2.0, 2.0, 2.0, 2.0, 2.0, 2.0, 2.0, 2.0, 2.0, 1.0, 1.0, 50.0, 38.0, 25.0, 12.0, 12.0, 12.0, 12.0, 12.0, 12.0, 12.0, 12.0, 12.0, 12.0, 12.0, 38.0, 14.0, 13.0, 12.0, 6.0, 5.0, 5.0, 4.0, 4.0, 4.0, 4.0, 4.0, 3.0, 3.0, 3.0, 3.0, 3.0, 3.0, 3.0, 3.0, 3.0, 3.0, 2.0, 2.0, 2.0, 2.0, 2.0, 1.0, 1.0, 1.0, 43.0, 15.0, 12.0, 9.0, 6.0, 6.0, 5.0, 4.0, 4.0, 4.0, 4.0, 4.0, 3.0, 3.0, 2.0, 2.0, 2.0, 2.0, 2.0, 2.0, 2.0, 2.0, 2.0, 2.0, 2.0, 1.0, 1.0, 1.0, 1.0, 1.0, 25.0, 17.0, 13.0, 13.0, 11.0, 8.0, 6.0, 5.0, 4.0, 4.0, 3.0, 3.0, 3.0, 3.0, 3.0, 3.0, 2.0, 2.0, 2.0, 2.0, 2.0, 2.0, 2.0, 2.0, 2.0, 2.0, 2.0, 2.0, 2.0, 2.0, 32.0, 21.0, 18.0, 10.0, 9.0, 9.0, 8.0, 8.0, 7.0, 7.0, 7.0, 7.0, 6.0, 5.0, 5.0, 5.0, 5.0, 5.0, 5.0, 4.0, 4.0, 4.0, 4.0, 4.0, 4.0, 3.0, 3.0, 3.0, 3.0, 3.0, 33.0, 18.0, 12.0, 8.0, 7.0, 6.0, 6.0, 5.0, 5.0, 4.0, 4.0, 4.0, 3.0, 3.0, 3.0, 3.0, 3.0, 2.0, 2.0, 2.0, 2.0, 2.0, 1.0, 1.0, 1.0, 1.0, 1.0, 1.0, 1.0, 1.0], \"yaxis\": \"y\", \"type\": \"bar\"}], \"name\": \"2017\"}, {\"data\": [{\"alignmentgroup\": \"True\", \"hoverlabel\": {\"namelength\": 0}, \"hovertemplate\": \"Year=2018<br>skill=%{x}<br>cnt=%{y}\", \"legendgroup\": \"\", \"marker\": {\"color\": \"#636efa\"}, \"name\": \"\", \"offsetgroup\": \"\", \"orientation\": \"v\", \"showlegend\": false, \"textposition\": \"auto\", \"x\": [\"excel\", \"word\", \"powerpoint\", \"access\", \"statistics\", \"advisory\", \"auditing\", \"mentorship\", \"visualization\", \"procurement\", \"agile\", \"sql\", \"spreadsheets\", \"cloud\", \"tableau\", \"ms word\", \"forecast\", \"php\", \"outlook\", \"spring\", \"sas\", \"virtualization\", \"process redesign\", \"cpa\", \"prediction\", \"java\", \"python\", \"erp\", \"html\", \"cash flow\", \"excel\", \"access\", \"word\", \"ces\", \"powerpoint\", \"sql\", \"python\", \"forecast\", \"visio\", \"visualization\", \"auditing\", \"statistics\", \"ccna\", \"telecommunication\", \"cloud\", \"mentorship\", \"advisory\", \"bi\", \"html\", \"spring\", \"prediction\", \"javascript\", \"java\", \"normalization\", \"microsoft project\", \"microsoft visio\", \"agile\", \"outlook\", \"qa\", \"dashboard\", \"excel\", \"auditing\", \"word\", \"access\", \"cpa\", \"powerpoint\", \"statistics\", \"forecast\", \"advisory\", \"mentorship\", \"spring\", \"cash flow\", \"sql\", \"spreadsheets\", \"virtualization\", \"quickbooks\", \"outlook\", \"cfa\", \"sas\", \"ms word\", \"python\", \"agile\", \"php\", \"visualization\", \"microsoft word\", \"procurement\", \"crm\", \"tableau\", \"strong leadership\", \"kpis\", \"excel\", \"word\", \"powerpoint\", \"access\", \"mentorship\", \"auditing\", \"advisory\", \"html\", \"ms word\", \"outlook\", \"forecast\", \"statistics\", \"gis\", \"spss\", \"hub pi\", \"macros\", \"leadership skills\", \"cms\", \"virtualization\", \"procurement\", \"spring\", \"tableau\", \"strong leadership\", \"project management\", \"detail oriented\", \"windows\", \"bi\", \"agile\", \"autocad\", \"adobe\", \"excel\", \"word\", \"access\", \"procurement\", \"powerpoint\", \"spring\", \"auditing\", \"mentorship\", \"sap\", \"advisory\", \"forecast\", \"html\", \"strong leadership\", \"statistics\", \"erp\", \"outlook\", \"hub pi\", \"vba\", \"autocad\", \"bi\", \"gis\", \"macros\", \"microsoft word\", \"cms\", \"gldp\", \"graphic design\", \"kpis\", \"probability\", \"project management\", \"detail oriented\", \"excel\", \"word\", \"access\", \"powerpoint\", \"statistics\", \"forecast\", \"sql\", \"mentorship\", \"visualization\", \"outlook\", \"auditing\", \"rest\", \"crm\", \"spring\", \"procurement\", \"adobe\", \"agile\", \"cloud\", \"microsoft word\", \"salesforce\", \"strong leadership\", \"python\", \"sas\", \"virtualization\", \"kpis\", \"advisory\", \"tableau\", \"prediction\", \"spreadsheets\", \"pr\", \"excel\", \"word\", \"powerpoint\", \"access\", \"adobe\", \"mentorship\", \"auditing\", \"photoshop\", \"classification\", \"html\", \"visualization\", \"advisory\", \"graphic design\", \"procurement\", \"photography\", \"microsoft word\", \"visio\", \"hub pi\", \"spring\", \"macros\", \"outlook\", \"forecast\", \"gis\", \"bayes\", \"agile\", \"indesign\", \"sharepoint\", \"microsoft project\", \"leadership skills\", \"interior design\", \"excel\", \"access\", \"word\", \"powerpoint\", \"forecast\", \"statistics\", \"auditing\", \"visualization\", \"sql\", \"cpa\", \"agile\", \"outlook\", \"dashboard\", \"procurement\", \"cfa\", \"kpis\", \"spreadsheets\", \"cash flow\", \"advisory\", \"bi\", \"tableau\", \"sap\", \"cloud\", \"rest\", \"crm\", \"normalization\", \"microsoft word\", \"classification\", \"spring\", \"mentorship\", \"excel\", \"procurement\", \"jsp\", \"access\", \"word\", \"auditing\", \"advisory\", \"mentorship\", \"spring\", \"statistics\", \"cloud\", \"forecast\", \"visio\", \"CPSM\", \"powerpoint\", \"virtualization\", \"classification\", \"seo\", \"spreadsheets\", \"windows\", \"PLCs\", \"kpis\", \"SCADA\", \"erp\", \"OEM\", \"human resources\", \"outlook\", \"sharepoint\", \"bayes\", \"CPPB\", \"excel\", \"word\", \"powerpoint\", \"access\", \"adobe\", \"mentorship\", \"visualization\", \"adaaa\", \"statistics\", \"spring\", \"forecast\", \"outlook\", \"auditing\", \"microsoft word\", \"html\", \"procurement\", \"photoshop\", \"tableau\", \"agile\", \"virtualization\", \"crm\", \"indesign\", \"graphic design\", \"illustrator\", \"seo\", \"sap\", \"salesforce\", \"pr\", \"advisory\", \"classification\", \"excel\", \"word\", \"advisory\", \"powerpoint\", \"access\", \"auditing\", \"mentorship\", \"spring\", \"sharepoint\", \"html\", \"statistics\", \"visio\", \"forecast\", \"outlook\", \"hub pi\", \"microsoft project\", \"spreadsheets\", \"procurement\", \"autocad\", \"project management\", \"classification\", \"windows\", \"macros\", \"gis\", \"strong leadership\", \"ms word\", \"jsp\", \"cloud\", \"agile\", \"kpis\", \"excel\", \"access\", \"word\", \"powerpoint\", \"mentorship\", \"html\", \"statistics\", \"auditing\", \"rest\", \"spring\", \"forecast\", \"probability\", \"agile\", \"detail oriented\", \"advisory\", \"bayes\", \"procurement\", \"virtualization\", \"adobe\", \"strong leadership\", \"hub pi\", \"macros\", \"outlook\", \"cpa\", \"sharepoint\", \"visualization\", \"gis\", \"java\", \"microsoft word\", \"big data\", \"excel\", \"access\", \"sql\", \"word\", \"powerpoint\", \"statistics\", \"visualization\", \"python\", \"auditing\", \"agile\", \"cloud\", \"forecast\", \"java\", \"javascript\", \"tableau\", \"mentorship\", \"virtualization\", \"html\", \"ces\", \"windows\", \"php\", \"advisory\", \"sas\", \"spring\", \"oracle\", \"dashboard\", \"bi\", \"outlook\", \"crm\", \"sharepoint\", \"excel\", \"word\", \"access\", \"powerpoint\", \"procurement\", \"forecast\", \"mentorship\", \"auditing\", \"statistics\", \"cloud\", \"outlook\", \"spring\", \"sql\", \"crm\", \"virtualization\", \"microsoft word\", \"strong leadership\", \"bayes\", \"salesforce\", \"python\", \"kpis\", \"jsp\", \"sap\", \"agile\", \"detail oriented\", \"erp\", \"advisory\", \"visualization\", \"php\", \"tableau\"], \"xaxis\": \"x\", \"y\": [44.0, 19.0, 15.0, 15.0, 12.0, 12.0, 7.0, 6.0, 5.0, 5.0, 5.0, 5.0, 5.0, 5.0, 4.0, 4.0, 4.0, 4.0, 4.0, 3.0, 3.0, 3.0, 3.0, 3.0, 3.0, 3.0, 3.0, 2.0, 2.0, 2.0, 33.0, 19.0, 14.0, 13.0, 11.0, 6.0, 6.0, 5.0, 5.0, 5.0, 5.0, 5.0, 5.0, 5.0, 4.0, 4.0, 4.0, 4.0, 4.0, 4.0, 4.0, 4.0, 3.0, 3.0, 3.0, 3.0, 3.0, 3.0, 2.0, 2.0, 44.0, 20.0, 18.0, 15.0, 12.0, 11.0, 10.0, 9.0, 8.0, 6.0, 6.0, 5.0, 4.0, 4.0, 3.0, 3.0, 3.0, 3.0, 3.0, 3.0, 3.0, 2.0, 2.0, 2.0, 2.0, 2.0, 2.0, 2.0, 2.0, 2.0, 39.0, 21.0, 14.0, 12.0, 8.0, 6.0, 5.0, 5.0, 5.0, 5.0, 5.0, 3.0, 3.0, 3.0, 3.0, 3.0, 3.0, 3.0, 3.0, 2.0, 2.0, 2.0, 2.0, 2.0, 2.0, 2.0, 2.0, 2.0, 2.0, 2.0, 38.0, 16.0, 15.0, 9.0, 9.0, 8.0, 7.0, 5.0, 5.0, 4.0, 4.0, 4.0, 4.0, 4.0, 4.0, 3.0, 3.0, 3.0, 3.0, 3.0, 3.0, 3.0, 1.0, 1.0, 1.0, 1.0, 1.0, 1.0, 1.0, 1.0, 39.0, 18.0, 16.0, 14.0, 8.0, 7.0, 7.0, 5.0, 5.0, 5.0, 4.0, 4.0, 4.0, 4.0, 4.0, 3.0, 3.0, 3.0, 3.0, 3.0, 3.0, 3.0, 3.0, 3.0, 2.0, 2.0, 2.0, 2.0, 2.0, 2.0, 40.0, 23.0, 13.0, 12.0, 10.0, 7.0, 7.0, 7.0, 5.0, 5.0, 5.0, 5.0, 3.0, 3.0, 3.0, 3.0, 3.0, 3.0, 3.0, 3.0, 3.0, 3.0, 3.0, 2.0, 2.0, 2.0, 2.0, 2.0, 2.0, 2.0, 47.0, 20.0, 17.0, 15.0, 14.0, 11.0, 7.0, 6.0, 5.0, 5.0, 5.0, 5.0, 4.0, 4.0, 4.0, 4.0, 4.0, 3.0, 3.0, 3.0, 3.0, 3.0, 3.0, 3.0, 3.0, 2.0, 2.0, 2.0, 2.0, 2.0, 25.0, 15.0, 15.0, 15.0, 12.0, 12.0, 10.0, 8.0, 8.0, 8.0, 5.0, 5.0, 5.0, 5.0, 5.0, 5.0, 2.0, 2.0, 2.0, 2.0, 2.0, 2.0, 2.0, 2.0, 2.0, 2.0, 2.0, 2.0, 2.0, 2.0, 35.0, 18.0, 14.0, 13.0, 7.0, 7.0, 6.0, 6.0, 5.0, 5.0, 5.0, 5.0, 4.0, 4.0, 4.0, 3.0, 3.0, 3.0, 3.0, 3.0, 3.0, 3.0, 3.0, 2.0, 2.0, 2.0, 2.0, 2.0, 2.0, 2.0, 39.0, 20.0, 10.0, 10.0, 10.0, 9.0, 6.0, 5.0, 4.0, 4.0, 4.0, 3.0, 3.0, 3.0, 2.0, 2.0, 2.0, 2.0, 2.0, 2.0, 2.0, 2.0, 2.0, 2.0, 2.0, 2.0, 2.0, 2.0, 1.0, 1.0, 41.0, 14.0, 13.0, 9.0, 7.0, 4.0, 4.0, 4.0, 4.0, 4.0, 3.0, 3.0, 3.0, 3.0, 3.0, 2.0, 2.0, 2.0, 2.0, 2.0, 2.0, 2.0, 2.0, 2.0, 2.0, 2.0, 2.0, 2.0, 1.0, 1.0, 36.0, 16.0, 15.0, 14.0, 12.0, 11.0, 9.0, 9.0, 8.0, 8.0, 7.0, 6.0, 5.0, 5.0, 5.0, 5.0, 4.0, 4.0, 4.0, 4.0, 4.0, 4.0, 4.0, 4.0, 3.0, 3.0, 3.0, 3.0, 3.0, 3.0, 37.0, 17.0, 17.0, 12.0, 9.0, 8.0, 7.0, 7.0, 6.0, 5.0, 5.0, 5.0, 5.0, 5.0, 4.0, 3.0, 3.0, 3.0, 3.0, 3.0, 2.0, 2.0, 2.0, 2.0, 2.0, 2.0, 2.0, 2.0, 2.0, 2.0], \"yaxis\": \"y\", \"type\": \"bar\"}], \"name\": \"2018\"}, {\"data\": [{\"alignmentgroup\": \"True\", \"hoverlabel\": {\"namelength\": 0}, \"hovertemplate\": \"Year=2019<br>skill=%{x}<br>cnt=%{y}\", \"legendgroup\": \"\", \"marker\": {\"color\": \"#636efa\"}, \"name\": \"\", \"offsetgroup\": \"\", \"orientation\": \"v\", \"showlegend\": false, \"textposition\": \"auto\", \"x\": [\"excel\", \"access\", \"powerpoint\", \"word\", \"cpa\", \"advisory\", \"visualization\", \"statistics\", \"agile\", \"auditing\", \"sql\", \"mentorship\", \"spreadsheets\", \"forecast\", \"outlook\", \"spring\", \"cloud\", \"python\", \"procurement\", \"tableau\", \"sharepoint\", \"prediction\", \"vba\", \"lean six sigma\", \"quest\", \"sas\", \"visio\", \"java\", \"remedy\", \"virtualization\", \"excel\", \"auditing\", \"cpa\", \"access\", \"word\", \"advisory\", \"powerpoint\", \"forecast\", \"statistics\", \"mentorship\", \"spring\", \"sql\", \"spreadsheets\", \"visualization\", \"outlook\", \"agile\", \"cash flow\", \"cloud\", \"php\", \"virtualization\", \"dashboard\", \"quickbooks\", \"procurement\", \"sas\", \"prediction\", \"python\", \"crm\", \"bi\", \"problem solving\", \"sap\", \"excel\", \"word\", \"access\", \"powerpoint\", \"visualization\", \"forecast\", \"statistics\", \"sql\", \"mentorship\", \"spring\", \"adobe\", \"crm\", \"agile\", \"graphic design\", \"auditing\", \"salesforce\", \"dashboard\", \"outlook\", \"python\", \"sas\", \"cloud\", \"tableau\", \"photoshop\", \"advisory\", \"procurement\", \"roi\", \"spreadsheets\", \"indesign\", \"illustrator\", \"spss\", \"excel\", \"forecast\", \"powerpoint\", \"access\", \"word\", \"statistics\", \"cpa\", \"auditing\", \"visualization\", \"sql\", \"tableau\", \"sap\", \"agile\", \"kpis\", \"dashboard\", \"cloud\", \"outlook\", \"cfa\", \"bi\", \"cash flow\", \"hyperion\", \"spreadsheets\", \"crm\", \"roi\", \"salesforce\", \"procurement\", \"classification\", \"virtualization\", \"strong leadership\", \"oracle\", \"access\", \"auditing\", \"excel\", \"mentorship\", \"html\", \"procurement\", \"problem solving\", \"spring\", \"crm\", \"advisory\", \"powerpoint\", \"jsp\", \"word\", \"java\", \"macros\", \"normalization\", \"javascript\", \"python\", \"sap\", \"wealth management\", \"css\", \"qlik\", \"virtualization\", \"illustrator\", \"statistics\", \"oracle\", \"visualization\", \"powerbi\", \"forecast\", \"ios\", \"excel\", \"access\", \"auditing\", \"mentorship\", \"word\", \"powerpoint\", \"visualization\", \"human resources\", \"spring\", \"sql\", \"statistics\", \"forecast\", \"advisory\", \"spreadsheets\", \"jsp\", \"microsoft word\", \"dashboard\", \"html\", \"spss\", \"bi\", \"spark\", \"roi\", \"cloud\", \"project management\", \"sharepoint\", \"agile\", \"procurement\", \"adobe\", \"strong leadership\", \"bayes\", \"excel\", \"access\", \"mentorship\", \"auditing\", \"word\", \"html\", \"procurement\", \"jsp\", \"spring\", \"advisory\", \"microsoft word\", \"virtualization\", \"wealth management\", \"sap\", \"php\", \"java\", \"css\", \"market analysis\", \"azure\", \"javascript\", \"lerner\", \"ios\", \"relationship management\", \"problem solving\", \"graphic design\", \"spreadsheets\", \"powerpoint\", \"react\", \"event planning\", \"excel\", \"access\", \"sql\", \"visualization\", \"cloud\", \"statistics\", \"python\", \"agile\", \"mentorship\", \"word\", \"salesforce\", \"powerpoint\", \"java\", \"dashboard\", \"sas\", \"forecast\", \"prediction\", \"auditing\", \"javascript\", \"tableau\", \"advisory\", \"hadoop\", \"big data\", \"regression\", \"spss\", \"spring\", \"classification\", \"procurement\", \"clustering\", \"virtualization\", \"excel\", \"access\", \"procurement\", \"word\", \"jsp\", \"powerpoint\", \"forecast\", \"auditing\", \"mentorship\", \"visualization\", \"salesforce\", \"crm\", \"spring\", \"outlook\", \"spreadsheets\", \"sap\", \"rfp\", \"dashboard\", \"agile\", \"advisory\", \"sql\", \"cloud\", \"bi\", \"statistics\", \"vba\", \"erp\", \"rfqs\", \"sharepoint\", \"ecommerce\", \"ms word\"], \"xaxis\": \"x\", \"y\": [45.0, 18.0, 15.0, 14.0, 12.0, 12.0, 9.0, 8.0, 8.0, 7.0, 7.0, 7.0, 6.0, 5.0, 4.0, 4.0, 4.0, 4.0, 4.0, 4.0, 4.0, 3.0, 3.0, 3.0, 3.0, 3.0, 3.0, 3.0, 3.0, 2.0, 47.0, 22.0, 20.0, 16.0, 15.0, 11.0, 10.0, 9.0, 7.0, 5.0, 5.0, 5.0, 5.0, 4.0, 4.0, 3.0, 3.0, 3.0, 2.0, 2.0, 2.0, 2.0, 2.0, 2.0, 2.0, 2.0, 2.0, 2.0, 2.0, 2.0, 42.0, 16.0, 16.0, 12.0, 9.0, 8.0, 8.0, 7.0, 7.0, 7.0, 5.0, 5.0, 5.0, 5.0, 4.0, 4.0, 4.0, 4.0, 4.0, 4.0, 4.0, 3.0, 3.0, 3.0, 3.0, 3.0, 3.0, 3.0, 3.0, 2.0, 53.0, 24.0, 21.0, 18.0, 18.0, 11.0, 9.0, 8.0, 7.0, 7.0, 6.0, 6.0, 6.0, 5.0, 5.0, 5.0, 5.0, 5.0, 5.0, 5.0, 4.0, 4.0, 4.0, 3.0, 3.0, 3.0, 3.0, 3.0, 3.0, 3.0, 23.0, 21.0, 18.0, 13.0, 8.0, 8.0, 8.0, 8.0, 5.0, 5.0, 5.0, 5.0, 5.0, 3.0, 3.0, 3.0, 3.0, 3.0, 3.0, 3.0, 3.0, 3.0, 3.0, 3.0, 3.0, 3.0, 3.0, 3.0, 3.0, 3.0, 31.0, 20.0, 14.0, 10.0, 8.0, 8.0, 7.0, 7.0, 6.0, 6.0, 5.0, 5.0, 4.0, 4.0, 4.0, 3.0, 3.0, 3.0, 3.0, 3.0, 3.0, 3.0, 2.0, 2.0, 2.0, 2.0, 2.0, 2.0, 2.0, 2.0, 26.0, 21.0, 13.0, 10.0, 8.0, 8.0, 5.0, 5.0, 5.0, 5.0, 3.0, 3.0, 3.0, 3.0, 3.0, 3.0, 3.0, 3.0, 3.0, 3.0, 3.0, 3.0, 3.0, 3.0, 3.0, 3.0, 3.0, 3.0, 3.0, 42.0, 19.0, 17.0, 15.0, 14.0, 13.0, 13.0, 11.0, 10.0, 10.0, 9.0, 9.0, 8.0, 7.0, 7.0, 7.0, 6.0, 6.0, 6.0, 5.0, 5.0, 5.0, 5.0, 4.0, 4.0, 4.0, 4.0, 4.0, 4.0, 4.0, 37.0, 19.0, 17.0, 16.0, 14.0, 10.0, 10.0, 7.0, 6.0, 6.0, 5.0, 5.0, 5.0, 4.0, 4.0, 4.0, 4.0, 4.0, 4.0, 4.0, 3.0, 3.0, 3.0, 3.0, 3.0, 3.0, 2.0, 2.0, 2.0, 2.0], \"yaxis\": \"y\", \"type\": \"bar\"}], \"name\": \"2019\"}, {\"data\": [{\"alignmentgroup\": \"True\", \"hoverlabel\": {\"namelength\": 0}, \"hovertemplate\": \"Year=2020<br>skill=%{x}<br>cnt=%{y}\", \"legendgroup\": \"\", \"marker\": {\"color\": \"#636efa\"}, \"name\": \"\", \"offsetgroup\": \"\", \"orientation\": \"v\", \"showlegend\": false, \"textposition\": \"auto\", \"x\": [\"excel\", \"procurement\", \"access\", \"powerpoint\", \"word\", \"advisory\", \"statistics\", \"visualization\", \"dashboard\", \"tableau\", \"ms word\", \"agile\", \"visio\", \"bi\", \"virtualization\", \"lean six sigma\", \"cpa\", \"remedy\", \"spreadsheets\", \"mentorship\", \"ecommerce\", \"sql\", \"sap\", \"html\", \"client engagements\", \"detail oriented\", \"sharepoint\", \"normalization\", \"outlook\", \"project management\", \"excel\", \"auditing\", \"access\", \"word\", \"cpa\", \"advisory\", \"powerpoint\", \"procurement\", \"statistics\", \"forecast\", \"dashboard\", \"spring\", \"spreadsheets\", \"sql\", \"visualization\", \"virtualization\", \"human resources\", \"microsoft word\", \"tableau\", \"agile\", \"cash flow\", \"html\", \"ms word\", \"remedy\", \"sas\", \"outlook\", \"ecommerce\", \"project management\", \"qlik\", \"detail oriented\", \"excel\", \"access\", \"word\", \"procurement\", \"powerpoint\", \"visualization\", \"statistics\", \"sql\", \"tableau\", \"python\", \"outlook\", \"sas\", \"auditing\", \"forecast\", \"agile\", \"spreadsheets\", \"adobe\", \"dashboard\", \"html\", \"cloud\", \"virtualization\", \"ux\", \"visio\", \"sap\", \"salesforce\", \"microsoft word\", \"spring\", \"project management\", \"mentorship\", \"prediction\", \"excel\", \"forecast\", \"powerpoint\", \"access\", \"word\", \"cpa\", \"auditing\", \"statistics\", \"hyperion\", \"visualization\", \"sap\", \"agile\", \"kpis\", \"cfa\", \"sql\", \"procurement\", \"outlook\", \"spreadsheets\", \"tableau\", \"dashboard\", \"bi\", \"cash flow\", \"roi\", \"oracle\", \"advisory\", \"classification\", \"crm\", \"erp\", \"virtualization\", \"strong leadership\", \"access\", \"procurement\", \"excel\", \"statistics\", \"powerpoint\", \"dashboard\", \"word\", \"tableau\", \"ecommerce\", \"virtualization\", \"ms word\", \"remedy\", \"qlik\", \"sql\", \"agile\", \"spreadsheets\", \"html\", \"visualization\", \"sap\", \"big data\", \"sdlc\", \"project management\", \"sharepoint\", \"javascript\", \"ux\", \"bi\", \"middleware\", \"rest\", \"cloud\", \"visio\", \"procurement\", \"access\", \"excel\", \"statistics\", \"powerpoint\", \"spreadsheets\", \"visualization\", \"dashboard\", \"word\", \"tableau\", \"outlook\", \"ecommerce\", \"qlik\", \"visio\", \"remedy\", \"html\", \"sharepoint\", \"sap\", \"auditing\", \"big data\", \"project management\", \"middleware\", \"javascript\", \"virtualization\", \"sdlc\", \"process design\", \"microsoft word\", \"kpis\", \"team leadership\", \"sql\", \"procurement\", \"access\", \"excel\", \"dashboard\", \"statistics\", \"ecommerce\", \"spreadsheets\", \"html\", \"tableau\", \"sap\", \"remedy\", \"qlik\", \"middleware\", \"microsoft word\", \"big data\", \"powerpoint\", \"rfp\", \"bioinformatics\", \"virtualization\", \"bi\", \"word\", \"sharepoint\", \"javascript\", \"project management\", \"sdlc\", \"auditing\", \"agile\", \"lean six sigma\", \"sql\", \"spring\", \"excel\", \"access\", \"procurement\", \"word\", \"powerpoint\", \"statistics\", \"visualization\", \"sql\", \"tableau\", \"auditing\", \"dashboard\", \"agile\", \"cloud\", \"bi\", \"html\", \"javascript\", \"python\", \"visio\", \"remedy\", \"asp\", \"ux\", \"ms word\", \"advisory\", \"spreadsheets\", \"forecast\", \"adobe\", \"seo\", \"virtualization\", \"css\", \"ecommerce\", \"procurement\", \"excel\", \"access\", \"word\", \"statistics\", \"powerpoint\", \"dashboard\", \"visualization\", \"forecast\", \"auditing\", \"tableau\", \"spreadsheets\", \"asp\", \"strong leadership\", \"agile\", \"html\", \"outlook\", \"sharepoint\", \"sap\", \"kpis\", \"ecommerce\", \"remedy\", \"virtualization\", \"lean six sigma\", \"crm\", \"powerbi\", \"team leadership\", \"sql\", \"python\", \"jsp\"], \"xaxis\": \"x\", \"y\": [37.0, 27.0, 21.0, 19.0, 17.0, 16.0, 11.0, 7.0, 7.0, 7.0, 6.0, 6.0, 6.0, 5.0, 5.0, 5.0, 5.0, 4.0, 4.0, 4.0, 4.0, 3.0, 3.0, 3.0, 3.0, 3.0, 3.0, 3.0, 3.0, 3.0, 45.0, 26.0, 22.0, 18.0, 17.0, 12.0, 11.0, 10.0, 9.0, 6.0, 5.0, 4.0, 4.0, 4.0, 4.0, 3.0, 3.0, 3.0, 3.0, 3.0, 3.0, 2.0, 2.0, 2.0, 2.0, 2.0, 2.0, 2.0, 2.0, 2.0, 38.0, 21.0, 19.0, 17.0, 15.0, 13.0, 12.0, 10.0, 8.0, 6.0, 6.0, 6.0, 5.0, 5.0, 5.0, 4.0, 4.0, 4.0, 4.0, 4.0, 4.0, 3.0, 3.0, 3.0, 3.0, 3.0, 3.0, 3.0, 3.0, 3.0, 57.0, 32.0, 23.0, 22.0, 20.0, 13.0, 13.0, 8.0, 8.0, 7.0, 7.0, 7.0, 7.0, 7.0, 7.0, 6.0, 6.0, 6.0, 6.0, 6.0, 5.0, 5.0, 4.0, 4.0, 4.0, 4.0, 3.0, 3.0, 3.0, 3.0, 42.0, 40.0, 18.0, 13.0, 13.0, 11.0, 11.0, 11.0, 9.0, 9.0, 7.0, 7.0, 7.0, 7.0, 7.0, 7.0, 7.0, 7.0, 7.0, 4.0, 4.0, 4.0, 4.0, 4.0, 4.0, 4.0, 4.0, 4.0, 4.0, 4.0, 39.0, 36.0, 27.0, 14.0, 14.0, 11.0, 11.0, 11.0, 11.0, 11.0, 9.0, 9.0, 7.0, 7.0, 7.0, 7.0, 7.0, 7.0, 5.0, 5.0, 5.0, 5.0, 5.0, 5.0, 5.0, 2.0, 2.0, 2.0, 2.0, 2.0, 45.0, 42.0, 18.0, 16.0, 13.0, 11.0, 11.0, 8.0, 8.0, 8.0, 8.0, 8.0, 5.0, 5.0, 5.0, 5.0, 5.0, 5.0, 5.0, 5.0, 5.0, 5.0, 5.0, 5.0, 5.0, 3.0, 3.0, 3.0, 3.0, 3.0, 34.0, 28.0, 22.0, 18.0, 17.0, 15.0, 13.0, 11.0, 11.0, 9.0, 8.0, 8.0, 7.0, 6.0, 6.0, 6.0, 6.0, 6.0, 5.0, 5.0, 5.0, 5.0, 4.0, 4.0, 4.0, 4.0, 4.0, 4.0, 4.0, 4.0, 35.0, 33.0, 23.0, 16.0, 13.0, 12.0, 9.0, 6.0, 6.0, 5.0, 5.0, 5.0, 4.0, 4.0, 4.0, 4.0, 4.0, 4.0, 4.0, 4.0, 4.0, 3.0, 3.0, 3.0, 3.0, 3.0, 3.0, 3.0, 3.0, 3.0], \"yaxis\": \"y\", \"type\": \"bar\"}], \"name\": \"2020\"}]);\n",
              "                        }).then(function(){\n",
              "                            \n",
              "var gd = document.getElementById('df00a933-2ae5-4892-953a-8c45fdd90fe3');\n",
              "var x = new MutationObserver(function (mutations, observer) {{\n",
              "        var display = window.getComputedStyle(gd).display;\n",
              "        if (!display || display === 'none') {{\n",
              "            console.log([gd, 'removed!']);\n",
              "            Plotly.purge(gd);\n",
              "            observer.disconnect();\n",
              "        }}\n",
              "}});\n",
              "\n",
              "// Listen for the removal of the full notebook cells\n",
              "var notebookContainer = gd.closest('#notebook-container');\n",
              "if (notebookContainer) {{\n",
              "    x.observe(notebookContainer, {childList: true});\n",
              "}}\n",
              "\n",
              "// Listen for the clearing of the current output cell\n",
              "var outputEl = gd.closest('.output');\n",
              "if (outputEl) {{\n",
              "    x.observe(outputEl, {childList: true});\n",
              "}}\n",
              "\n",
              "                        })\n",
              "                };\n",
              "                \n",
              "            </script>\n",
              "        </div>\n",
              "</body>\n",
              "</html>"
            ]
          },
          "metadata": {
            "tags": []
          }
        }
      ]
    },
    {
      "cell_type": "code",
      "metadata": {
        "id": "4ksevBLBoeEI",
        "colab_type": "code",
        "colab": {}
      },
      "source": [
        "df_skills_top['On Campus'] = 'NonOCI'"
      ],
      "execution_count": null,
      "outputs": []
    },
    {
      "cell_type": "code",
      "metadata": {
        "id": "KRAvrg_Nohqc",
        "colab_type": "code",
        "colab": {}
      },
      "source": [
        "df_skills_top.to_csv(\"NonOciSkills.csv\")"
      ],
      "execution_count": null,
      "outputs": []
    },
    {
      "cell_type": "code",
      "metadata": {
        "id": "jq1sSntVol1e",
        "colab_type": "code",
        "colab": {}
      },
      "source": [
        "# create the list of degree.\n",
        "df_degrees = pd.DataFrame(data={'cnt': degree_list, \n",
        "                                'Year': degree_year, \n",
        "                                'Job Function': function_deg, \n",
        "                                'Postingcount': postings_degree})\n",
        "df_degrees['degree_type'] = ''\n",
        "\n",
        "\n",
        "msk = df_degrees['cnt'] == 1\n",
        "df_degrees.loc[msk, 'degree_type'] = 'bachelors'\n",
        "\n",
        "msk = df_degrees['cnt'] == 2\n",
        "df_degrees.loc[msk, 'degree_type'] = 'masters'\n",
        "\n",
        "msk = df_degrees['cnt'] == 3\n",
        "df_degrees.loc[msk, 'degree_type'] = 'phd'\n",
        "\n",
        "msk = df_degrees['cnt'] == 4\n",
        "df_degrees.loc[msk, 'degree_type'] = 'postdoc'\n",
        "\n",
        "msk = df_degrees['cnt'] == 2.5\n",
        "df_degrees.loc[msk, 'degree_type'] = 'mba'\n",
        "\n",
        "msk = df_degrees['cnt'] > 500\n",
        "df_degrees.loc[msk, 'degree_type'] = 'not specified'\n",
        "\n",
        "\n",
        "df_degree_cnt = df_degrees['degree_type'].value_counts().reset_index().rename(columns={'index': 'degree'}).iloc[:50]\n"
      ],
      "execution_count": null,
      "outputs": []
    },
    {
      "cell_type": "code",
      "metadata": {
        "id": "7_tG5qvL15kC",
        "colab_type": "code",
        "colab": {}
      },
      "source": [
        "DegreeData = pd.DataFrame()\n",
        "for func in func_list:\n",
        "    df_degreecount = df_degrees[df_degrees['Job Function'] == func]\n",
        "    for k in range(2011, 2021):\n",
        "        if k in df_degreecount['Year'].values:\n",
        "            value = df_degreecount[df_degreecount['Year'] == k]['Postingcount'].iloc[0]\n",
        "            df_MinDegree = df_degreecount[df_degreecount['Year'] == k]['degree_type'].value_counts().reset_index().rename(columns={'index': 'Degree'}).iloc[:30]\n",
        "            df_MinDegree['Year'] = k\n",
        "            df_MinDegree['degree_type'] = round((df_MinDegree['degree_type']/value) * 100)\n",
        "            df_MinDegree['Job Function'] = func\n",
        "            DegreeData = DegreeData.append(df_MinDegree)"
      ],
      "execution_count": null,
      "outputs": []
    },
    {
      "cell_type": "code",
      "metadata": {
        "id": "Icvc3kZJ2AdJ",
        "colab_type": "code",
        "colab": {
          "base_uri": "https://localhost:8080/",
          "height": 542
        },
        "outputId": "824b0793-d3b6-4747-a4c2-1552911d6994"
      },
      "source": [
        "# visualize the degrees.\n",
        "\n",
        "DegreeData[\"Year\"] = DegreeData[\"Year\"].astype(str)\n",
        "\n",
        "import plotly.express as px\n",
        "\n",
        "fig = px.bar(DegreeData, x=\"Degree\", y=\"degree_type\",color = 'Job Function', animation_frame ='Year', barmode = 'group')\n",
        "fig.update_layout(barmode='group', xaxis_tickangle=45)\n",
        "fig.show()\n",
        "\n"
      ],
      "execution_count": null,
      "outputs": [
        {
          "output_type": "display_data",
          "data": {
            "text/html": [
              "<html>\n",
              "<head><meta charset=\"utf-8\" /></head>\n",
              "<body>\n",
              "    <div>\n",
              "            <script src=\"https://cdnjs.cloudflare.com/ajax/libs/mathjax/2.7.5/MathJax.js?config=TeX-AMS-MML_SVG\"></script><script type=\"text/javascript\">if (window.MathJax) {MathJax.Hub.Config({SVG: {font: \"STIX-Web\"}});}</script>\n",
              "                <script type=\"text/javascript\">window.PlotlyConfig = {MathJaxConfig: 'local'};</script>\n",
              "        <script src=\"https://cdn.plot.ly/plotly-latest.min.js\"></script>    \n",
              "            <div id=\"ef816a3f-bfdd-4044-8540-4caafd82c5b2\" class=\"plotly-graph-div\" style=\"height:525px; width:100%;\"></div>\n",
              "            <script type=\"text/javascript\">\n",
              "                \n",
              "                    window.PLOTLYENV=window.PLOTLYENV || {};\n",
              "                    \n",
              "                if (document.getElementById(\"ef816a3f-bfdd-4044-8540-4caafd82c5b2\")) {\n",
              "                    Plotly.newPlot(\n",
              "                        'ef816a3f-bfdd-4044-8540-4caafd82c5b2',\n",
              "                        [{\"alignmentgroup\": \"True\", \"hoverlabel\": {\"namelength\": 0}, \"hovertemplate\": \"Job Function=Other<br>Year=2011<br>Degree=%{x}<br>degree_type=%{y}\", \"legendgroup\": \"Job Function=Other\", \"marker\": {\"color\": \"#636efa\"}, \"name\": \"Job Function=Other\", \"offsetgroup\": \"Job Function=Other\", \"orientation\": \"v\", \"showlegend\": true, \"textposition\": \"auto\", \"type\": \"bar\", \"x\": [\"bachelors\", \"not specified\", \"masters\", \"mba\", \"phd\"], \"xaxis\": \"x\", \"y\": [46.0, 28.0, 16.0, 6.0, 3.0], \"yaxis\": \"y\"}, {\"alignmentgroup\": \"True\", \"hoverlabel\": {\"namelength\": 0}, \"hovertemplate\": \"Job Function=Marketing/Business/Sales Management<br>Year=2011<br>Degree=%{x}<br>degree_type=%{y}\", \"legendgroup\": \"Job Function=Marketing/Business/Sales Management\", \"marker\": {\"color\": \"#EF553B\"}, \"name\": \"Job Function=Marketing/Business/Sales Management\", \"offsetgroup\": \"Job Function=Marketing/Business/Sales Management\", \"orientation\": \"v\", \"showlegend\": true, \"textposition\": \"auto\", \"type\": \"bar\", \"x\": [\"bachelors\", \"not specified\", \"mba\", \"masters\"], \"xaxis\": \"x\", \"y\": [47.0, 23.0, 16.0, 15.0], \"yaxis\": \"y\"}, {\"alignmentgroup\": \"True\", \"hoverlabel\": {\"namelength\": 0}, \"hovertemplate\": \"Job Function=Financial Services<br>Year=2011<br>Degree=%{x}<br>degree_type=%{y}\", \"legendgroup\": \"Job Function=Financial Services\", \"marker\": {\"color\": \"#00cc96\"}, \"name\": \"Job Function=Financial Services\", \"offsetgroup\": \"Job Function=Financial Services\", \"orientation\": \"v\", \"showlegend\": true, \"textposition\": \"auto\", \"type\": \"bar\", \"x\": [\"bachelors\", \"not specified\", \"mba\", \"masters\"], \"xaxis\": \"x\", \"y\": [50.0, 24.0, 14.0, 12.0], \"yaxis\": \"y\"}, {\"alignmentgroup\": \"True\", \"hoverlabel\": {\"namelength\": 0}, \"hovertemplate\": \"Job Function=Professional Services<br>Year=2011<br>Degree=%{x}<br>degree_type=%{y}\", \"legendgroup\": \"Job Function=Professional Services\", \"marker\": {\"color\": \"#ab63fa\"}, \"name\": \"Job Function=Professional Services\", \"offsetgroup\": \"Job Function=Professional Services\", \"orientation\": \"v\", \"showlegend\": true, \"textposition\": \"auto\", \"type\": \"bar\", \"x\": [\"bachelors\", \"not specified\", \"masters\", \"mba\"], \"xaxis\": \"x\", \"y\": [46.0, 22.0, 17.0, 15.0], \"yaxis\": \"y\"}, {\"alignmentgroup\": \"True\", \"hoverlabel\": {\"namelength\": 0}, \"hovertemplate\": \"Job Function=Technology<br>Year=2011<br>Degree=%{x}<br>degree_type=%{y}\", \"legendgroup\": \"Job Function=Technology\", \"marker\": {\"color\": \"#FFA15A\"}, \"name\": \"Job Function=Technology\", \"offsetgroup\": \"Job Function=Technology\", \"orientation\": \"v\", \"showlegend\": true, \"textposition\": \"auto\", \"type\": \"bar\", \"x\": [\"bachelors\", \"not specified\", \"mba\", \"masters\"], \"xaxis\": \"x\", \"y\": [55.0, 18.0, 18.0, 9.0], \"yaxis\": \"y\"}, {\"alignmentgroup\": \"True\", \"hoverlabel\": {\"namelength\": 0}, \"hovertemplate\": \"Job Function=Retail<br>Year=2011<br>Degree=%{x}<br>degree_type=%{y}\", \"legendgroup\": \"Job Function=Retail\", \"marker\": {\"color\": \"#19d3f3\"}, \"name\": \"Job Function=Retail\", \"offsetgroup\": \"Job Function=Retail\", \"orientation\": \"v\", \"showlegend\": true, \"textposition\": \"auto\", \"type\": \"bar\", \"x\": [\"bachelors\", \"masters\", \"not specified\", \"mba\"], \"xaxis\": \"x\", \"y\": [28.0, 24.0, 24.0, 24.0], \"yaxis\": \"y\"}, {\"alignmentgroup\": \"True\", \"hoverlabel\": {\"namelength\": 0}, \"hovertemplate\": \"Job Function=Consulting<br>Year=2011<br>Degree=%{x}<br>degree_type=%{y}\", \"legendgroup\": \"Job Function=Consulting\", \"marker\": {\"color\": \"#FF6692\"}, \"name\": \"Job Function=Consulting\", \"offsetgroup\": \"Job Function=Consulting\", \"orientation\": \"v\", \"showlegend\": true, \"textposition\": \"auto\", \"type\": \"bar\", \"x\": [\"bachelors\", \"masters\", \"not specified\", \"mba\"], \"xaxis\": \"x\", \"y\": [36.0, 33.0, 19.0, 12.0], \"yaxis\": \"y\"}, {\"alignmentgroup\": \"True\", \"hoverlabel\": {\"namelength\": 0}, \"hovertemplate\": \"Job Function=Engineering Services<br>Year=2011<br>Degree=%{x}<br>degree_type=%{y}\", \"legendgroup\": \"Job Function=Engineering Services\", \"marker\": {\"color\": \"#B6E880\"}, \"name\": \"Job Function=Engineering Services\", \"offsetgroup\": \"Job Function=Engineering Services\", \"orientation\": \"v\", \"showlegend\": true, \"textposition\": \"auto\", \"type\": \"bar\", \"x\": [\"bachelors\", \"masters\", \"not specified\", \"mba\"], \"xaxis\": \"x\", \"y\": [62.0, 19.0, 12.0, 6.0], \"yaxis\": \"y\"}, {\"alignmentgroup\": \"True\", \"hoverlabel\": {\"namelength\": 0}, \"hovertemplate\": \"Job Function=Real Estate & Construction<br>Year=2011<br>Degree=%{x}<br>degree_type=%{y}\", \"legendgroup\": \"Job Function=Real Estate & Construction\", \"marker\": {\"color\": \"#FF97FF\"}, \"name\": \"Job Function=Real Estate & Construction\", \"offsetgroup\": \"Job Function=Real Estate & Construction\", \"orientation\": \"v\", \"showlegend\": true, \"textposition\": \"auto\", \"type\": \"bar\", \"x\": [\"masters\", \"not specified\", \"bachelors\"], \"xaxis\": \"x\", \"y\": [50.0, 33.0, 17.0], \"yaxis\": \"y\"}, {\"alignmentgroup\": \"True\", \"hoverlabel\": {\"namelength\": 0}, \"hovertemplate\": \"Job Function=Healthcare & Pharmaceuticals<br>Year=2011<br>Degree=%{x}<br>degree_type=%{y}\", \"legendgroup\": \"Job Function=Healthcare & Pharmaceuticals\", \"marker\": {\"color\": \"#FECB52\"}, \"name\": \"Job Function=Healthcare & Pharmaceuticals\", \"offsetgroup\": \"Job Function=Healthcare & Pharmaceuticals\", \"orientation\": \"v\", \"showlegend\": true, \"textposition\": \"auto\", \"type\": \"bar\", \"x\": [\"masters\", \"not specified\", \"bachelors\"], \"xaxis\": \"x\", \"y\": [71.0, 14.0, 14.0], \"yaxis\": \"y\"}, {\"alignmentgroup\": \"True\", \"hoverlabel\": {\"namelength\": 0}, \"hovertemplate\": \"Job Function=Manufacturing<br>Year=2011<br>Degree=%{x}<br>degree_type=%{y}\", \"legendgroup\": \"Job Function=Manufacturing\", \"marker\": {\"color\": \"#636efa\"}, \"name\": \"Job Function=Manufacturing\", \"offsetgroup\": \"Job Function=Manufacturing\", \"orientation\": \"v\", \"showlegend\": true, \"textposition\": \"auto\", \"type\": \"bar\", \"x\": [\"masters\", \"not specified\", \"bachelors\", \"mba\"], \"xaxis\": \"x\", \"y\": [25.0, 25.0, 25.0, 25.0], \"yaxis\": \"y\"}],\n",
              "                        {\"barmode\": \"group\", \"legend\": {\"tracegroupgap\": 0}, \"margin\": {\"t\": 60}, \"sliders\": [{\"active\": 0, \"currentvalue\": {\"prefix\": \"Year=\"}, \"len\": 0.9, \"pad\": {\"b\": 10, \"t\": 60}, \"steps\": [{\"args\": [[\"2011\"], {\"frame\": {\"duration\": 0, \"redraw\": true}, \"fromcurrent\": true, \"mode\": \"immediate\", \"transition\": {\"duration\": 0, \"easing\": \"linear\"}}], \"label\": \"2011\", \"method\": \"animate\"}, {\"args\": [[\"2012\"], {\"frame\": {\"duration\": 0, \"redraw\": true}, \"fromcurrent\": true, \"mode\": \"immediate\", \"transition\": {\"duration\": 0, \"easing\": \"linear\"}}], \"label\": \"2012\", \"method\": \"animate\"}, {\"args\": [[\"2013\"], {\"frame\": {\"duration\": 0, \"redraw\": true}, \"fromcurrent\": true, \"mode\": \"immediate\", \"transition\": {\"duration\": 0, \"easing\": \"linear\"}}], \"label\": \"2013\", \"method\": \"animate\"}, {\"args\": [[\"2014\"], {\"frame\": {\"duration\": 0, \"redraw\": true}, \"fromcurrent\": true, \"mode\": \"immediate\", \"transition\": {\"duration\": 0, \"easing\": \"linear\"}}], \"label\": \"2014\", \"method\": \"animate\"}, {\"args\": [[\"2015\"], {\"frame\": {\"duration\": 0, \"redraw\": true}, \"fromcurrent\": true, \"mode\": \"immediate\", \"transition\": {\"duration\": 0, \"easing\": \"linear\"}}], \"label\": \"2015\", \"method\": \"animate\"}, {\"args\": [[\"2016\"], {\"frame\": {\"duration\": 0, \"redraw\": true}, \"fromcurrent\": true, \"mode\": \"immediate\", \"transition\": {\"duration\": 0, \"easing\": \"linear\"}}], \"label\": \"2016\", \"method\": \"animate\"}, {\"args\": [[\"2017\"], {\"frame\": {\"duration\": 0, \"redraw\": true}, \"fromcurrent\": true, \"mode\": \"immediate\", \"transition\": {\"duration\": 0, \"easing\": \"linear\"}}], \"label\": \"2017\", \"method\": \"animate\"}, {\"args\": [[\"2018\"], {\"frame\": {\"duration\": 0, \"redraw\": true}, \"fromcurrent\": true, \"mode\": \"immediate\", \"transition\": {\"duration\": 0, \"easing\": \"linear\"}}], \"label\": \"2018\", \"method\": \"animate\"}, {\"args\": [[\"2019\"], {\"frame\": {\"duration\": 0, \"redraw\": true}, \"fromcurrent\": true, \"mode\": \"immediate\", \"transition\": {\"duration\": 0, \"easing\": \"linear\"}}], \"label\": \"2019\", \"method\": \"animate\"}, {\"args\": [[\"2020\"], {\"frame\": {\"duration\": 0, \"redraw\": true}, \"fromcurrent\": true, \"mode\": \"immediate\", \"transition\": {\"duration\": 0, \"easing\": \"linear\"}}], \"label\": \"2020\", \"method\": \"animate\"}], \"x\": 0.1, \"xanchor\": \"left\", \"y\": 0, \"yanchor\": \"top\"}], \"template\": {\"data\": {\"bar\": [{\"error_x\": {\"color\": \"#2a3f5f\"}, \"error_y\": {\"color\": \"#2a3f5f\"}, \"marker\": {\"line\": {\"color\": \"#E5ECF6\", \"width\": 0.5}}, \"type\": \"bar\"}], \"barpolar\": [{\"marker\": {\"line\": {\"color\": \"#E5ECF6\", \"width\": 0.5}}, \"type\": \"barpolar\"}], \"carpet\": [{\"aaxis\": {\"endlinecolor\": \"#2a3f5f\", \"gridcolor\": \"white\", \"linecolor\": \"white\", \"minorgridcolor\": \"white\", \"startlinecolor\": \"#2a3f5f\"}, \"baxis\": {\"endlinecolor\": \"#2a3f5f\", \"gridcolor\": \"white\", \"linecolor\": \"white\", \"minorgridcolor\": \"white\", \"startlinecolor\": \"#2a3f5f\"}, \"type\": \"carpet\"}], \"choropleth\": [{\"colorbar\": {\"outlinewidth\": 0, \"ticks\": \"\"}, \"type\": \"choropleth\"}], \"contour\": [{\"colorbar\": {\"outlinewidth\": 0, \"ticks\": \"\"}, \"colorscale\": [[0.0, \"#0d0887\"], [0.1111111111111111, \"#46039f\"], [0.2222222222222222, \"#7201a8\"], [0.3333333333333333, \"#9c179e\"], [0.4444444444444444, \"#bd3786\"], [0.5555555555555556, \"#d8576b\"], [0.6666666666666666, \"#ed7953\"], [0.7777777777777778, \"#fb9f3a\"], [0.8888888888888888, \"#fdca26\"], [1.0, \"#f0f921\"]], \"type\": \"contour\"}], \"contourcarpet\": [{\"colorbar\": {\"outlinewidth\": 0, \"ticks\": \"\"}, \"type\": \"contourcarpet\"}], \"heatmap\": [{\"colorbar\": {\"outlinewidth\": 0, \"ticks\": \"\"}, \"colorscale\": [[0.0, \"#0d0887\"], [0.1111111111111111, \"#46039f\"], [0.2222222222222222, \"#7201a8\"], [0.3333333333333333, \"#9c179e\"], [0.4444444444444444, \"#bd3786\"], [0.5555555555555556, \"#d8576b\"], [0.6666666666666666, \"#ed7953\"], [0.7777777777777778, \"#fb9f3a\"], [0.8888888888888888, \"#fdca26\"], [1.0, \"#f0f921\"]], \"type\": \"heatmap\"}], \"heatmapgl\": [{\"colorbar\": {\"outlinewidth\": 0, \"ticks\": \"\"}, \"colorscale\": [[0.0, \"#0d0887\"], [0.1111111111111111, \"#46039f\"], [0.2222222222222222, \"#7201a8\"], [0.3333333333333333, \"#9c179e\"], [0.4444444444444444, \"#bd3786\"], [0.5555555555555556, \"#d8576b\"], [0.6666666666666666, \"#ed7953\"], [0.7777777777777778, \"#fb9f3a\"], [0.8888888888888888, \"#fdca26\"], [1.0, \"#f0f921\"]], \"type\": \"heatmapgl\"}], \"histogram\": [{\"marker\": {\"colorbar\": {\"outlinewidth\": 0, \"ticks\": \"\"}}, \"type\": \"histogram\"}], \"histogram2d\": [{\"colorbar\": {\"outlinewidth\": 0, \"ticks\": \"\"}, \"colorscale\": [[0.0, \"#0d0887\"], [0.1111111111111111, \"#46039f\"], [0.2222222222222222, \"#7201a8\"], [0.3333333333333333, \"#9c179e\"], [0.4444444444444444, \"#bd3786\"], [0.5555555555555556, \"#d8576b\"], [0.6666666666666666, \"#ed7953\"], [0.7777777777777778, \"#fb9f3a\"], [0.8888888888888888, \"#fdca26\"], [1.0, \"#f0f921\"]], \"type\": \"histogram2d\"}], \"histogram2dcontour\": [{\"colorbar\": {\"outlinewidth\": 0, \"ticks\": \"\"}, \"colorscale\": [[0.0, \"#0d0887\"], [0.1111111111111111, \"#46039f\"], [0.2222222222222222, \"#7201a8\"], [0.3333333333333333, \"#9c179e\"], [0.4444444444444444, \"#bd3786\"], [0.5555555555555556, \"#d8576b\"], [0.6666666666666666, \"#ed7953\"], [0.7777777777777778, \"#fb9f3a\"], [0.8888888888888888, \"#fdca26\"], [1.0, \"#f0f921\"]], \"type\": \"histogram2dcontour\"}], \"mesh3d\": [{\"colorbar\": {\"outlinewidth\": 0, \"ticks\": \"\"}, \"type\": \"mesh3d\"}], \"parcoords\": [{\"line\": {\"colorbar\": {\"outlinewidth\": 0, \"ticks\": \"\"}}, \"type\": \"parcoords\"}], \"pie\": [{\"automargin\": true, \"type\": \"pie\"}], \"scatter\": [{\"marker\": {\"colorbar\": {\"outlinewidth\": 0, \"ticks\": \"\"}}, \"type\": \"scatter\"}], \"scatter3d\": [{\"line\": {\"colorbar\": {\"outlinewidth\": 0, \"ticks\": \"\"}}, \"marker\": {\"colorbar\": {\"outlinewidth\": 0, \"ticks\": \"\"}}, \"type\": \"scatter3d\"}], \"scattercarpet\": [{\"marker\": {\"colorbar\": {\"outlinewidth\": 0, \"ticks\": \"\"}}, \"type\": \"scattercarpet\"}], \"scattergeo\": [{\"marker\": {\"colorbar\": {\"outlinewidth\": 0, \"ticks\": \"\"}}, \"type\": \"scattergeo\"}], \"scattergl\": [{\"marker\": {\"colorbar\": {\"outlinewidth\": 0, \"ticks\": \"\"}}, \"type\": \"scattergl\"}], \"scattermapbox\": [{\"marker\": {\"colorbar\": {\"outlinewidth\": 0, \"ticks\": \"\"}}, \"type\": \"scattermapbox\"}], \"scatterpolar\": [{\"marker\": {\"colorbar\": {\"outlinewidth\": 0, \"ticks\": \"\"}}, \"type\": \"scatterpolar\"}], \"scatterpolargl\": [{\"marker\": {\"colorbar\": {\"outlinewidth\": 0, \"ticks\": \"\"}}, \"type\": \"scatterpolargl\"}], \"scatterternary\": [{\"marker\": {\"colorbar\": {\"outlinewidth\": 0, \"ticks\": \"\"}}, \"type\": \"scatterternary\"}], \"surface\": [{\"colorbar\": {\"outlinewidth\": 0, \"ticks\": \"\"}, \"colorscale\": [[0.0, \"#0d0887\"], [0.1111111111111111, \"#46039f\"], [0.2222222222222222, \"#7201a8\"], [0.3333333333333333, \"#9c179e\"], [0.4444444444444444, \"#bd3786\"], [0.5555555555555556, \"#d8576b\"], [0.6666666666666666, \"#ed7953\"], [0.7777777777777778, \"#fb9f3a\"], [0.8888888888888888, \"#fdca26\"], [1.0, \"#f0f921\"]], \"type\": \"surface\"}], \"table\": [{\"cells\": {\"fill\": {\"color\": \"#EBF0F8\"}, \"line\": {\"color\": \"white\"}}, \"header\": {\"fill\": {\"color\": \"#C8D4E3\"}, \"line\": {\"color\": \"white\"}}, \"type\": \"table\"}]}, \"layout\": {\"annotationdefaults\": {\"arrowcolor\": \"#2a3f5f\", \"arrowhead\": 0, \"arrowwidth\": 1}, \"coloraxis\": {\"colorbar\": {\"outlinewidth\": 0, \"ticks\": \"\"}}, \"colorscale\": {\"diverging\": [[0, \"#8e0152\"], [0.1, \"#c51b7d\"], [0.2, \"#de77ae\"], [0.3, \"#f1b6da\"], [0.4, \"#fde0ef\"], [0.5, \"#f7f7f7\"], [0.6, \"#e6f5d0\"], [0.7, \"#b8e186\"], [0.8, \"#7fbc41\"], [0.9, \"#4d9221\"], [1, \"#276419\"]], \"sequential\": [[0.0, \"#0d0887\"], [0.1111111111111111, \"#46039f\"], [0.2222222222222222, \"#7201a8\"], [0.3333333333333333, \"#9c179e\"], [0.4444444444444444, \"#bd3786\"], [0.5555555555555556, \"#d8576b\"], [0.6666666666666666, \"#ed7953\"], [0.7777777777777778, \"#fb9f3a\"], [0.8888888888888888, \"#fdca26\"], [1.0, \"#f0f921\"]], \"sequentialminus\": [[0.0, \"#0d0887\"], [0.1111111111111111, \"#46039f\"], [0.2222222222222222, \"#7201a8\"], [0.3333333333333333, \"#9c179e\"], [0.4444444444444444, \"#bd3786\"], [0.5555555555555556, \"#d8576b\"], [0.6666666666666666, \"#ed7953\"], [0.7777777777777778, \"#fb9f3a\"], [0.8888888888888888, \"#fdca26\"], [1.0, \"#f0f921\"]]}, \"colorway\": [\"#636efa\", \"#EF553B\", \"#00cc96\", \"#ab63fa\", \"#FFA15A\", \"#19d3f3\", \"#FF6692\", \"#B6E880\", \"#FF97FF\", \"#FECB52\"], \"font\": {\"color\": \"#2a3f5f\"}, \"geo\": {\"bgcolor\": \"white\", \"lakecolor\": \"white\", \"landcolor\": \"#E5ECF6\", \"showlakes\": true, \"showland\": true, \"subunitcolor\": \"white\"}, \"hoverlabel\": {\"align\": \"left\"}, \"hovermode\": \"closest\", \"mapbox\": {\"style\": \"light\"}, \"paper_bgcolor\": \"white\", \"plot_bgcolor\": \"#E5ECF6\", \"polar\": {\"angularaxis\": {\"gridcolor\": \"white\", \"linecolor\": \"white\", \"ticks\": \"\"}, \"bgcolor\": \"#E5ECF6\", \"radialaxis\": {\"gridcolor\": \"white\", \"linecolor\": \"white\", \"ticks\": \"\"}}, \"scene\": {\"xaxis\": {\"backgroundcolor\": \"#E5ECF6\", \"gridcolor\": \"white\", \"gridwidth\": 2, \"linecolor\": \"white\", \"showbackground\": true, \"ticks\": \"\", \"zerolinecolor\": \"white\"}, \"yaxis\": {\"backgroundcolor\": \"#E5ECF6\", \"gridcolor\": \"white\", \"gridwidth\": 2, \"linecolor\": \"white\", \"showbackground\": true, \"ticks\": \"\", \"zerolinecolor\": \"white\"}, \"zaxis\": {\"backgroundcolor\": \"#E5ECF6\", \"gridcolor\": \"white\", \"gridwidth\": 2, \"linecolor\": \"white\", \"showbackground\": true, \"ticks\": \"\", \"zerolinecolor\": \"white\"}}, \"shapedefaults\": {\"line\": {\"color\": \"#2a3f5f\"}}, \"ternary\": {\"aaxis\": {\"gridcolor\": \"white\", \"linecolor\": \"white\", \"ticks\": \"\"}, \"baxis\": {\"gridcolor\": \"white\", \"linecolor\": \"white\", \"ticks\": \"\"}, \"bgcolor\": \"#E5ECF6\", \"caxis\": {\"gridcolor\": \"white\", \"linecolor\": \"white\", \"ticks\": \"\"}}, \"title\": {\"x\": 0.05}, \"xaxis\": {\"automargin\": true, \"gridcolor\": \"white\", \"linecolor\": \"white\", \"ticks\": \"\", \"title\": {\"standoff\": 15}, \"zerolinecolor\": \"white\", \"zerolinewidth\": 2}, \"yaxis\": {\"automargin\": true, \"gridcolor\": \"white\", \"linecolor\": \"white\", \"ticks\": \"\", \"title\": {\"standoff\": 15}, \"zerolinecolor\": \"white\", \"zerolinewidth\": 2}}}, \"updatemenus\": [{\"buttons\": [{\"args\": [null, {\"frame\": {\"duration\": 500, \"redraw\": true}, \"fromcurrent\": true, \"mode\": \"immediate\", \"transition\": {\"duration\": 500, \"easing\": \"linear\"}}], \"label\": \"&#9654;\", \"method\": \"animate\"}, {\"args\": [[null], {\"frame\": {\"duration\": 0, \"redraw\": true}, \"fromcurrent\": true, \"mode\": \"immediate\", \"transition\": {\"duration\": 0, \"easing\": \"linear\"}}], \"label\": \"&#9724;\", \"method\": \"animate\"}], \"direction\": \"left\", \"pad\": {\"r\": 10, \"t\": 70}, \"showactive\": false, \"type\": \"buttons\", \"x\": 0.1, \"xanchor\": \"right\", \"y\": 0, \"yanchor\": \"top\"}], \"xaxis\": {\"anchor\": \"y\", \"domain\": [0.0, 1.0], \"tickangle\": 45, \"title\": {\"text\": \"Degree\"}}, \"yaxis\": {\"anchor\": \"x\", \"domain\": [0.0, 1.0], \"title\": {\"text\": \"degree_type\"}}},\n",
              "                        {\"responsive\": true}\n",
              "                    ).then(function(){\n",
              "                            Plotly.addFrames('ef816a3f-bfdd-4044-8540-4caafd82c5b2', [{\"data\": [{\"alignmentgroup\": \"True\", \"hoverlabel\": {\"namelength\": 0}, \"hovertemplate\": \"Job Function=Other<br>Year=2011<br>Degree=%{x}<br>degree_type=%{y}\", \"legendgroup\": \"Job Function=Other\", \"marker\": {\"color\": \"#636efa\"}, \"name\": \"Job Function=Other\", \"offsetgroup\": \"Job Function=Other\", \"orientation\": \"v\", \"showlegend\": true, \"textposition\": \"auto\", \"x\": [\"bachelors\", \"not specified\", \"masters\", \"mba\", \"phd\"], \"xaxis\": \"x\", \"y\": [46.0, 28.0, 16.0, 6.0, 3.0], \"yaxis\": \"y\", \"type\": \"bar\"}, {\"alignmentgroup\": \"True\", \"hoverlabel\": {\"namelength\": 0}, \"hovertemplate\": \"Job Function=Marketing/Business/Sales Management<br>Year=2011<br>Degree=%{x}<br>degree_type=%{y}\", \"legendgroup\": \"Job Function=Marketing/Business/Sales Management\", \"marker\": {\"color\": \"#EF553B\"}, \"name\": \"Job Function=Marketing/Business/Sales Management\", \"offsetgroup\": \"Job Function=Marketing/Business/Sales Management\", \"orientation\": \"v\", \"showlegend\": true, \"textposition\": \"auto\", \"x\": [\"bachelors\", \"not specified\", \"mba\", \"masters\"], \"xaxis\": \"x\", \"y\": [47.0, 23.0, 16.0, 15.0], \"yaxis\": \"y\", \"type\": \"bar\"}, {\"alignmentgroup\": \"True\", \"hoverlabel\": {\"namelength\": 0}, \"hovertemplate\": \"Job Function=Financial Services<br>Year=2011<br>Degree=%{x}<br>degree_type=%{y}\", \"legendgroup\": \"Job Function=Financial Services\", \"marker\": {\"color\": \"#00cc96\"}, \"name\": \"Job Function=Financial Services\", \"offsetgroup\": \"Job Function=Financial Services\", \"orientation\": \"v\", \"showlegend\": true, \"textposition\": \"auto\", \"x\": [\"bachelors\", \"not specified\", \"mba\", \"masters\"], \"xaxis\": \"x\", \"y\": [50.0, 24.0, 14.0, 12.0], \"yaxis\": \"y\", \"type\": \"bar\"}, {\"alignmentgroup\": \"True\", \"hoverlabel\": {\"namelength\": 0}, \"hovertemplate\": \"Job Function=Professional Services<br>Year=2011<br>Degree=%{x}<br>degree_type=%{y}\", \"legendgroup\": \"Job Function=Professional Services\", \"marker\": {\"color\": \"#ab63fa\"}, \"name\": \"Job Function=Professional Services\", \"offsetgroup\": \"Job Function=Professional Services\", \"orientation\": \"v\", \"showlegend\": true, \"textposition\": \"auto\", \"x\": [\"bachelors\", \"not specified\", \"masters\", \"mba\"], \"xaxis\": \"x\", \"y\": [46.0, 22.0, 17.0, 15.0], \"yaxis\": \"y\", \"type\": \"bar\"}, {\"alignmentgroup\": \"True\", \"hoverlabel\": {\"namelength\": 0}, \"hovertemplate\": \"Job Function=Technology<br>Year=2011<br>Degree=%{x}<br>degree_type=%{y}\", \"legendgroup\": \"Job Function=Technology\", \"marker\": {\"color\": \"#FFA15A\"}, \"name\": \"Job Function=Technology\", \"offsetgroup\": \"Job Function=Technology\", \"orientation\": \"v\", \"showlegend\": true, \"textposition\": \"auto\", \"x\": [\"bachelors\", \"not specified\", \"mba\", \"masters\"], \"xaxis\": \"x\", \"y\": [55.0, 18.0, 18.0, 9.0], \"yaxis\": \"y\", \"type\": \"bar\"}, {\"alignmentgroup\": \"True\", \"hoverlabel\": {\"namelength\": 0}, \"hovertemplate\": \"Job Function=Retail<br>Year=2011<br>Degree=%{x}<br>degree_type=%{y}\", \"legendgroup\": \"Job Function=Retail\", \"marker\": {\"color\": \"#19d3f3\"}, \"name\": \"Job Function=Retail\", \"offsetgroup\": \"Job Function=Retail\", \"orientation\": \"v\", \"showlegend\": true, \"textposition\": \"auto\", \"x\": [\"bachelors\", \"masters\", \"not specified\", \"mba\"], \"xaxis\": \"x\", \"y\": [28.0, 24.0, 24.0, 24.0], \"yaxis\": \"y\", \"type\": \"bar\"}, {\"alignmentgroup\": \"True\", \"hoverlabel\": {\"namelength\": 0}, \"hovertemplate\": \"Job Function=Consulting<br>Year=2011<br>Degree=%{x}<br>degree_type=%{y}\", \"legendgroup\": \"Job Function=Consulting\", \"marker\": {\"color\": \"#FF6692\"}, \"name\": \"Job Function=Consulting\", \"offsetgroup\": \"Job Function=Consulting\", \"orientation\": \"v\", \"showlegend\": true, \"textposition\": \"auto\", \"x\": [\"bachelors\", \"masters\", \"not specified\", \"mba\"], \"xaxis\": \"x\", \"y\": [36.0, 33.0, 19.0, 12.0], \"yaxis\": \"y\", \"type\": \"bar\"}, {\"alignmentgroup\": \"True\", \"hoverlabel\": {\"namelength\": 0}, \"hovertemplate\": \"Job Function=Engineering Services<br>Year=2011<br>Degree=%{x}<br>degree_type=%{y}\", \"legendgroup\": \"Job Function=Engineering Services\", \"marker\": {\"color\": \"#B6E880\"}, \"name\": \"Job Function=Engineering Services\", \"offsetgroup\": \"Job Function=Engineering Services\", \"orientation\": \"v\", \"showlegend\": true, \"textposition\": \"auto\", \"x\": [\"bachelors\", \"masters\", \"not specified\", \"mba\"], \"xaxis\": \"x\", \"y\": [62.0, 19.0, 12.0, 6.0], \"yaxis\": \"y\", \"type\": \"bar\"}, {\"alignmentgroup\": \"True\", \"hoverlabel\": {\"namelength\": 0}, \"hovertemplate\": \"Job Function=Real Estate & Construction<br>Year=2011<br>Degree=%{x}<br>degree_type=%{y}\", \"legendgroup\": \"Job Function=Real Estate & Construction\", \"marker\": {\"color\": \"#FF97FF\"}, \"name\": \"Job Function=Real Estate & Construction\", \"offsetgroup\": \"Job Function=Real Estate & Construction\", \"orientation\": \"v\", \"showlegend\": true, \"textposition\": \"auto\", \"x\": [\"masters\", \"not specified\", \"bachelors\"], \"xaxis\": \"x\", \"y\": [50.0, 33.0, 17.0], \"yaxis\": \"y\", \"type\": \"bar\"}, {\"alignmentgroup\": \"True\", \"hoverlabel\": {\"namelength\": 0}, \"hovertemplate\": \"Job Function=Healthcare & Pharmaceuticals<br>Year=2011<br>Degree=%{x}<br>degree_type=%{y}\", \"legendgroup\": \"Job Function=Healthcare & Pharmaceuticals\", \"marker\": {\"color\": \"#FECB52\"}, \"name\": \"Job Function=Healthcare & Pharmaceuticals\", \"offsetgroup\": \"Job Function=Healthcare & Pharmaceuticals\", \"orientation\": \"v\", \"showlegend\": true, \"textposition\": \"auto\", \"x\": [\"masters\", \"not specified\", \"bachelors\"], \"xaxis\": \"x\", \"y\": [71.0, 14.0, 14.0], \"yaxis\": \"y\", \"type\": \"bar\"}, {\"alignmentgroup\": \"True\", \"hoverlabel\": {\"namelength\": 0}, \"hovertemplate\": \"Job Function=Manufacturing<br>Year=2011<br>Degree=%{x}<br>degree_type=%{y}\", \"legendgroup\": \"Job Function=Manufacturing\", \"marker\": {\"color\": \"#636efa\"}, \"name\": \"Job Function=Manufacturing\", \"offsetgroup\": \"Job Function=Manufacturing\", \"orientation\": \"v\", \"showlegend\": true, \"textposition\": \"auto\", \"x\": [\"masters\", \"not specified\", \"bachelors\", \"mba\"], \"xaxis\": \"x\", \"y\": [25.0, 25.0, 25.0, 25.0], \"yaxis\": \"y\", \"type\": \"bar\"}], \"name\": \"2011\"}, {\"data\": [{\"alignmentgroup\": \"True\", \"hoverlabel\": {\"namelength\": 0}, \"hovertemplate\": \"Job Function=Other<br>Year=2012<br>Degree=%{x}<br>degree_type=%{y}\", \"legendgroup\": \"Job Function=Other\", \"marker\": {\"color\": \"#636efa\"}, \"name\": \"Job Function=Other\", \"offsetgroup\": \"Job Function=Other\", \"orientation\": \"v\", \"showlegend\": true, \"textposition\": \"auto\", \"x\": [\"not specified\", \"bachelors\", \"masters\", \"mba\", \"phd\"], \"xaxis\": \"x\", \"y\": [29.0, 27.0, 26.0, 16.0, 1.0], \"yaxis\": \"y\", \"type\": \"bar\"}, {\"alignmentgroup\": \"True\", \"hoverlabel\": {\"namelength\": 0}, \"hovertemplate\": \"Job Function=Marketing/Business/Sales Management<br>Year=2012<br>Degree=%{x}<br>degree_type=%{y}\", \"legendgroup\": \"Job Function=Marketing/Business/Sales Management\", \"marker\": {\"color\": \"#EF553B\"}, \"name\": \"Job Function=Marketing/Business/Sales Management\", \"offsetgroup\": \"Job Function=Marketing/Business/Sales Management\", \"orientation\": \"v\", \"showlegend\": true, \"textposition\": \"auto\", \"x\": [\"bachelors\", \"not specified\", \"masters\", \"mba\", \"phd\"], \"xaxis\": \"x\", \"y\": [49.0, 20.0, 18.0, 13.0, 0.0], \"yaxis\": \"y\", \"type\": \"bar\"}, {\"alignmentgroup\": \"True\", \"hoverlabel\": {\"namelength\": 0}, \"hovertemplate\": \"Job Function=Financial Services<br>Year=2012<br>Degree=%{x}<br>degree_type=%{y}\", \"legendgroup\": \"Job Function=Financial Services\", \"marker\": {\"color\": \"#00cc96\"}, \"name\": \"Job Function=Financial Services\", \"offsetgroup\": \"Job Function=Financial Services\", \"orientation\": \"v\", \"showlegend\": true, \"textposition\": \"auto\", \"x\": [\"bachelors\", \"not specified\", \"mba\", \"masters\"], \"xaxis\": \"x\", \"y\": [52.0, 20.0, 15.0, 13.0], \"yaxis\": \"y\", \"type\": \"bar\"}, {\"alignmentgroup\": \"True\", \"hoverlabel\": {\"namelength\": 0}, \"hovertemplate\": \"Job Function=Professional Services<br>Year=2012<br>Degree=%{x}<br>degree_type=%{y}\", \"legendgroup\": \"Job Function=Professional Services\", \"marker\": {\"color\": \"#ab63fa\"}, \"name\": \"Job Function=Professional Services\", \"offsetgroup\": \"Job Function=Professional Services\", \"orientation\": \"v\", \"showlegend\": true, \"textposition\": \"auto\", \"x\": [\"bachelors\", \"masters\", \"not specified\", \"mba\", \"phd\"], \"xaxis\": \"x\", \"y\": [45.0, 22.0, 20.0, 12.0, 2.0], \"yaxis\": \"y\", \"type\": \"bar\"}, {\"alignmentgroup\": \"True\", \"hoverlabel\": {\"namelength\": 0}, \"hovertemplate\": \"Job Function=Technology<br>Year=2012<br>Degree=%{x}<br>degree_type=%{y}\", \"legendgroup\": \"Job Function=Technology\", \"marker\": {\"color\": \"#FFA15A\"}, \"name\": \"Job Function=Technology\", \"offsetgroup\": \"Job Function=Technology\", \"orientation\": \"v\", \"showlegend\": true, \"textposition\": \"auto\", \"x\": [\"bachelors\", \"not specified\", \"masters\", \"mba\"], \"xaxis\": \"x\", \"y\": [42.0, 32.0, 14.0, 12.0], \"yaxis\": \"y\", \"type\": \"bar\"}, {\"alignmentgroup\": \"True\", \"hoverlabel\": {\"namelength\": 0}, \"hovertemplate\": \"Job Function=Retail<br>Year=2012<br>Degree=%{x}<br>degree_type=%{y}\", \"legendgroup\": \"Job Function=Retail\", \"marker\": {\"color\": \"#19d3f3\"}, \"name\": \"Job Function=Retail\", \"offsetgroup\": \"Job Function=Retail\", \"orientation\": \"v\", \"showlegend\": true, \"textposition\": \"auto\", \"x\": [\"bachelors\", \"masters\", \"not specified\", \"mba\"], \"xaxis\": \"x\", \"y\": [51.0, 22.0, 14.0, 12.0], \"yaxis\": \"y\", \"type\": \"bar\"}, {\"alignmentgroup\": \"True\", \"hoverlabel\": {\"namelength\": 0}, \"hovertemplate\": \"Job Function=Consulting<br>Year=2012<br>Degree=%{x}<br>degree_type=%{y}\", \"legendgroup\": \"Job Function=Consulting\", \"marker\": {\"color\": \"#FF6692\"}, \"name\": \"Job Function=Consulting\", \"offsetgroup\": \"Job Function=Consulting\", \"orientation\": \"v\", \"showlegend\": true, \"textposition\": \"auto\", \"x\": [\"bachelors\", \"masters\", \"not specified\", \"mba\", \"phd\"], \"xaxis\": \"x\", \"y\": [39.0, 35.0, 13.0, 13.0, 0.0], \"yaxis\": \"y\", \"type\": \"bar\"}, {\"alignmentgroup\": \"True\", \"hoverlabel\": {\"namelength\": 0}, \"hovertemplate\": \"Job Function=Engineering Services<br>Year=2012<br>Degree=%{x}<br>degree_type=%{y}\", \"legendgroup\": \"Job Function=Engineering Services\", \"marker\": {\"color\": \"#B6E880\"}, \"name\": \"Job Function=Engineering Services\", \"offsetgroup\": \"Job Function=Engineering Services\", \"orientation\": \"v\", \"showlegend\": true, \"textposition\": \"auto\", \"x\": [\"bachelors\", \"not specified\", \"masters\", \"mba\"], \"xaxis\": \"x\", \"y\": [52.0, 29.0, 10.0, 10.0], \"yaxis\": \"y\", \"type\": \"bar\"}, {\"alignmentgroup\": \"True\", \"hoverlabel\": {\"namelength\": 0}, \"hovertemplate\": \"Job Function=Real Estate & Construction<br>Year=2012<br>Degree=%{x}<br>degree_type=%{y}\", \"legendgroup\": \"Job Function=Real Estate & Construction\", \"marker\": {\"color\": \"#FF97FF\"}, \"name\": \"Job Function=Real Estate & Construction\", \"offsetgroup\": \"Job Function=Real Estate & Construction\", \"orientation\": \"v\", \"showlegend\": true, \"textposition\": \"auto\", \"x\": [\"bachelors\", \"mba\", \"not specified\", \"masters\"], \"xaxis\": \"x\", \"y\": [38.0, 31.0, 23.0, 8.0], \"yaxis\": \"y\", \"type\": \"bar\"}, {\"alignmentgroup\": \"True\", \"hoverlabel\": {\"namelength\": 0}, \"hovertemplate\": \"Job Function=Healthcare & Pharmaceuticals<br>Year=2012<br>Degree=%{x}<br>degree_type=%{y}\", \"legendgroup\": \"Job Function=Healthcare & Pharmaceuticals\", \"marker\": {\"color\": \"#FECB52\"}, \"name\": \"Job Function=Healthcare & Pharmaceuticals\", \"offsetgroup\": \"Job Function=Healthcare & Pharmaceuticals\", \"orientation\": \"v\", \"showlegend\": true, \"textposition\": \"auto\", \"x\": [\"bachelors\", \"not specified\", \"masters\", \"mba\"], \"xaxis\": \"x\", \"y\": [44.0, 33.0, 17.0, 6.0], \"yaxis\": \"y\", \"type\": \"bar\"}, {\"alignmentgroup\": \"True\", \"hoverlabel\": {\"namelength\": 0}, \"hovertemplate\": \"Job Function=Manufacturing<br>Year=2012<br>Degree=%{x}<br>degree_type=%{y}\", \"legendgroup\": \"Job Function=Manufacturing\", \"marker\": {\"color\": \"#636efa\"}, \"name\": \"Job Function=Manufacturing\", \"offsetgroup\": \"Job Function=Manufacturing\", \"orientation\": \"v\", \"showlegend\": true, \"textposition\": \"auto\", \"x\": [\"bachelors\", \"masters\", \"not specified\", \"mba\"], \"xaxis\": \"x\", \"y\": [57.0, 17.0, 14.0, 11.0], \"yaxis\": \"y\", \"type\": \"bar\"}, {\"alignmentgroup\": \"True\", \"hoverlabel\": {\"namelength\": 0}, \"hovertemplate\": \"Job Function=Multimedia Production / Graphic Design<br>Year=2012<br>Degree=%{x}<br>degree_type=%{y}\", \"legendgroup\": \"Job Function=Multimedia Production / Graphic Design\", \"marker\": {\"color\": \"#EF553B\"}, \"name\": \"Job Function=Multimedia Production / Graphic Design\", \"offsetgroup\": \"Job Function=Multimedia Production / Graphic Design\", \"orientation\": \"v\", \"showlegend\": true, \"textposition\": \"auto\", \"x\": [\"bachelors\", \"masters\", \"mba\"], \"xaxis\": \"x\", \"y\": [50.0, 25.0, 25.0], \"yaxis\": \"y\", \"type\": \"bar\"}], \"name\": \"2012\"}, {\"data\": [{\"alignmentgroup\": \"True\", \"hoverlabel\": {\"namelength\": 0}, \"hovertemplate\": \"Job Function=Other<br>Year=2013<br>Degree=%{x}<br>degree_type=%{y}\", \"legendgroup\": \"Job Function=Other\", \"marker\": {\"color\": \"#636efa\"}, \"name\": \"Job Function=Other\", \"offsetgroup\": \"Job Function=Other\", \"orientation\": \"v\", \"showlegend\": true, \"textposition\": \"auto\", \"x\": [\"not specified\", \"masters\", \"bachelors\", \"mba\", \"phd\"], \"xaxis\": \"x\", \"y\": [63.0, 18.0, 15.0, 3.0, 1.0], \"yaxis\": \"y\", \"type\": \"bar\"}, {\"alignmentgroup\": \"True\", \"hoverlabel\": {\"namelength\": 0}, \"hovertemplate\": \"Job Function=Marketing/Business/Sales Management<br>Year=2013<br>Degree=%{x}<br>degree_type=%{y}\", \"legendgroup\": \"Job Function=Marketing/Business/Sales Management\", \"marker\": {\"color\": \"#EF553B\"}, \"name\": \"Job Function=Marketing/Business/Sales Management\", \"offsetgroup\": \"Job Function=Marketing/Business/Sales Management\", \"orientation\": \"v\", \"showlegend\": true, \"textposition\": \"auto\", \"x\": [\"bachelors\", \"not specified\", \"masters\", \"mba\", \"phd\"], \"xaxis\": \"x\", \"y\": [48.0, 20.0, 19.0, 12.0, 0.0], \"yaxis\": \"y\", \"type\": \"bar\"}, {\"alignmentgroup\": \"True\", \"hoverlabel\": {\"namelength\": 0}, \"hovertemplate\": \"Job Function=Financial Services<br>Year=2013<br>Degree=%{x}<br>degree_type=%{y}\", \"legendgroup\": \"Job Function=Financial Services\", \"marker\": {\"color\": \"#00cc96\"}, \"name\": \"Job Function=Financial Services\", \"offsetgroup\": \"Job Function=Financial Services\", \"orientation\": \"v\", \"showlegend\": true, \"textposition\": \"auto\", \"x\": [\"bachelors\", \"masters\", \"not specified\", \"mba\", \"phd\"], \"xaxis\": \"x\", \"y\": [41.0, 23.0, 19.0, 18.0, 0.0], \"yaxis\": \"y\", \"type\": \"bar\"}, {\"alignmentgroup\": \"True\", \"hoverlabel\": {\"namelength\": 0}, \"hovertemplate\": \"Job Function=Professional Services<br>Year=2013<br>Degree=%{x}<br>degree_type=%{y}\", \"legendgroup\": \"Job Function=Professional Services\", \"marker\": {\"color\": \"#ab63fa\"}, \"name\": \"Job Function=Professional Services\", \"offsetgroup\": \"Job Function=Professional Services\", \"orientation\": \"v\", \"showlegend\": true, \"textposition\": \"auto\", \"x\": [\"bachelors\", \"masters\", \"not specified\", \"mba\"], \"xaxis\": \"x\", \"y\": [40.0, 31.0, 23.0, 6.0], \"yaxis\": \"y\", \"type\": \"bar\"}, {\"alignmentgroup\": \"True\", \"hoverlabel\": {\"namelength\": 0}, \"hovertemplate\": \"Job Function=Technology<br>Year=2013<br>Degree=%{x}<br>degree_type=%{y}\", \"legendgroup\": \"Job Function=Technology\", \"marker\": {\"color\": \"#FFA15A\"}, \"name\": \"Job Function=Technology\", \"offsetgroup\": \"Job Function=Technology\", \"orientation\": \"v\", \"showlegend\": true, \"textposition\": \"auto\", \"x\": [\"bachelors\", \"not specified\", \"masters\", \"mba\"], \"xaxis\": \"x\", \"y\": [47.0, 33.0, 12.0, 9.0], \"yaxis\": \"y\", \"type\": \"bar\"}, {\"alignmentgroup\": \"True\", \"hoverlabel\": {\"namelength\": 0}, \"hovertemplate\": \"Job Function=Retail<br>Year=2013<br>Degree=%{x}<br>degree_type=%{y}\", \"legendgroup\": \"Job Function=Retail\", \"marker\": {\"color\": \"#19d3f3\"}, \"name\": \"Job Function=Retail\", \"offsetgroup\": \"Job Function=Retail\", \"orientation\": \"v\", \"showlegend\": true, \"textposition\": \"auto\", \"x\": [\"masters\", \"bachelors\", \"not specified\", \"mba\"], \"xaxis\": \"x\", \"y\": [49.0, 28.0, 18.0, 5.0], \"yaxis\": \"y\", \"type\": \"bar\"}, {\"alignmentgroup\": \"True\", \"hoverlabel\": {\"namelength\": 0}, \"hovertemplate\": \"Job Function=Consulting<br>Year=2013<br>Degree=%{x}<br>degree_type=%{y}\", \"legendgroup\": \"Job Function=Consulting\", \"marker\": {\"color\": \"#FF6692\"}, \"name\": \"Job Function=Consulting\", \"offsetgroup\": \"Job Function=Consulting\", \"orientation\": \"v\", \"showlegend\": true, \"textposition\": \"auto\", \"x\": [\"bachelors\", \"masters\", \"not specified\", \"mba\"], \"xaxis\": \"x\", \"y\": [36.0, 34.0, 21.0, 9.0], \"yaxis\": \"y\", \"type\": \"bar\"}, {\"alignmentgroup\": \"True\", \"hoverlabel\": {\"namelength\": 0}, \"hovertemplate\": \"Job Function=Engineering Services<br>Year=2013<br>Degree=%{x}<br>degree_type=%{y}\", \"legendgroup\": \"Job Function=Engineering Services\", \"marker\": {\"color\": \"#B6E880\"}, \"name\": \"Job Function=Engineering Services\", \"offsetgroup\": \"Job Function=Engineering Services\", \"orientation\": \"v\", \"showlegend\": true, \"textposition\": \"auto\", \"x\": [\"bachelors\", \"not specified\", \"masters\", \"mba\"], \"xaxis\": \"x\", \"y\": [51.0, 26.0, 13.0, 9.0], \"yaxis\": \"y\", \"type\": \"bar\"}, {\"alignmentgroup\": \"True\", \"hoverlabel\": {\"namelength\": 0}, \"hovertemplate\": \"Job Function=Real Estate & Construction<br>Year=2013<br>Degree=%{x}<br>degree_type=%{y}\", \"legendgroup\": \"Job Function=Real Estate & Construction\", \"marker\": {\"color\": \"#FF97FF\"}, \"name\": \"Job Function=Real Estate & Construction\", \"offsetgroup\": \"Job Function=Real Estate & Construction\", \"orientation\": \"v\", \"showlegend\": true, \"textposition\": \"auto\", \"x\": [\"masters\", \"not specified\", \"bachelors\", \"mba\"], \"xaxis\": \"x\", \"y\": [46.0, 46.0, 4.0, 4.0], \"yaxis\": \"y\", \"type\": \"bar\"}, {\"alignmentgroup\": \"True\", \"hoverlabel\": {\"namelength\": 0}, \"hovertemplate\": \"Job Function=Healthcare & Pharmaceuticals<br>Year=2013<br>Degree=%{x}<br>degree_type=%{y}\", \"legendgroup\": \"Job Function=Healthcare & Pharmaceuticals\", \"marker\": {\"color\": \"#FECB52\"}, \"name\": \"Job Function=Healthcare & Pharmaceuticals\", \"offsetgroup\": \"Job Function=Healthcare & Pharmaceuticals\", \"orientation\": \"v\", \"showlegend\": true, \"textposition\": \"auto\", \"x\": [\"masters\", \"bachelors\", \"not specified\", \"mba\", \"phd\"], \"xaxis\": \"x\", \"y\": [69.0, 18.0, 6.0, 6.0, 2.0], \"yaxis\": \"y\", \"type\": \"bar\"}, {\"alignmentgroup\": \"True\", \"hoverlabel\": {\"namelength\": 0}, \"hovertemplate\": \"Job Function=Manufacturing<br>Year=2013<br>Degree=%{x}<br>degree_type=%{y}\", \"legendgroup\": \"Job Function=Manufacturing\", \"marker\": {\"color\": \"#636efa\"}, \"name\": \"Job Function=Manufacturing\", \"offsetgroup\": \"Job Function=Manufacturing\", \"orientation\": \"v\", \"showlegend\": true, \"textposition\": \"auto\", \"x\": [\"bachelors\", \"not specified\", \"masters\", \"mba\"], \"xaxis\": \"x\", \"y\": [38.0, 26.0, 18.0, 18.0], \"yaxis\": \"y\", \"type\": \"bar\"}, {\"alignmentgroup\": \"True\", \"hoverlabel\": {\"namelength\": 0}, \"hovertemplate\": \"Job Function=Multimedia Production / Graphic Design<br>Year=2013<br>Degree=%{x}<br>degree_type=%{y}\", \"legendgroup\": \"Job Function=Multimedia Production / Graphic Design\", \"marker\": {\"color\": \"#EF553B\"}, \"name\": \"Job Function=Multimedia Production / Graphic Design\", \"offsetgroup\": \"Job Function=Multimedia Production / Graphic Design\", \"orientation\": \"v\", \"showlegend\": true, \"textposition\": \"auto\", \"x\": [\"not specified\", \"masters\"], \"xaxis\": \"x\", \"y\": [57.0, 43.0], \"yaxis\": \"y\", \"type\": \"bar\"}, {\"alignmentgroup\": \"True\", \"hoverlabel\": {\"namelength\": 0}, \"hovertemplate\": \"Job Function=Transportation & Logistics<br>Year=2013<br>Degree=%{x}<br>degree_type=%{y}\", \"legendgroup\": \"Job Function=Transportation & Logistics\", \"marker\": {\"color\": \"#00cc96\"}, \"name\": \"Job Function=Transportation & Logistics\", \"offsetgroup\": \"Job Function=Transportation & Logistics\", \"orientation\": \"v\", \"showlegend\": true, \"textposition\": \"auto\", \"x\": [\"not specified\"], \"xaxis\": \"x\", \"y\": [100.0], \"yaxis\": \"y\", \"type\": \"bar\"}], \"name\": \"2013\"}, {\"data\": [{\"alignmentgroup\": \"True\", \"hoverlabel\": {\"namelength\": 0}, \"hovertemplate\": \"Job Function=Other<br>Year=2014<br>Degree=%{x}<br>degree_type=%{y}\", \"legendgroup\": \"Job Function=Other\", \"marker\": {\"color\": \"#636efa\"}, \"name\": \"Job Function=Other\", \"offsetgroup\": \"Job Function=Other\", \"orientation\": \"v\", \"showlegend\": true, \"textposition\": \"auto\", \"x\": [\"not specified\", \"bachelors\", \"masters\", \"mba\", \"phd\"], \"xaxis\": \"x\", \"y\": [69.0, 17.0, 11.0, 3.0, 0.0], \"yaxis\": \"y\", \"type\": \"bar\"}, {\"alignmentgroup\": \"True\", \"hoverlabel\": {\"namelength\": 0}, \"hovertemplate\": \"Job Function=Marketing/Business/Sales Management<br>Year=2014<br>Degree=%{x}<br>degree_type=%{y}\", \"legendgroup\": \"Job Function=Marketing/Business/Sales Management\", \"marker\": {\"color\": \"#EF553B\"}, \"name\": \"Job Function=Marketing/Business/Sales Management\", \"offsetgroup\": \"Job Function=Marketing/Business/Sales Management\", \"orientation\": \"v\", \"showlegend\": true, \"textposition\": \"auto\", \"x\": [\"bachelors\", \"not specified\", \"masters\", \"mba\", \"phd\"], \"xaxis\": \"x\", \"y\": [43.0, 32.0, 16.0, 9.0, 0.0], \"yaxis\": \"y\", \"type\": \"bar\"}, {\"alignmentgroup\": \"True\", \"hoverlabel\": {\"namelength\": 0}, \"hovertemplate\": \"Job Function=Financial Services<br>Year=2014<br>Degree=%{x}<br>degree_type=%{y}\", \"legendgroup\": \"Job Function=Financial Services\", \"marker\": {\"color\": \"#00cc96\"}, \"name\": \"Job Function=Financial Services\", \"offsetgroup\": \"Job Function=Financial Services\", \"orientation\": \"v\", \"showlegend\": true, \"textposition\": \"auto\", \"x\": [\"bachelors\", \"not specified\", \"masters\", \"mba\", \"phd\"], \"xaxis\": \"x\", \"y\": [39.0, 33.0, 15.0, 12.0, 0.0], \"yaxis\": \"y\", \"type\": \"bar\"}, {\"alignmentgroup\": \"True\", \"hoverlabel\": {\"namelength\": 0}, \"hovertemplate\": \"Job Function=Professional Services<br>Year=2014<br>Degree=%{x}<br>degree_type=%{y}\", \"legendgroup\": \"Job Function=Professional Services\", \"marker\": {\"color\": \"#ab63fa\"}, \"name\": \"Job Function=Professional Services\", \"offsetgroup\": \"Job Function=Professional Services\", \"orientation\": \"v\", \"showlegend\": true, \"textposition\": \"auto\", \"x\": [\"not specified\", \"bachelors\", \"masters\", \"mba\", \"phd\"], \"xaxis\": \"x\", \"y\": [44.0, 31.0, 16.0, 8.0, 0.0], \"yaxis\": \"y\", \"type\": \"bar\"}, {\"alignmentgroup\": \"True\", \"hoverlabel\": {\"namelength\": 0}, \"hovertemplate\": \"Job Function=Technology<br>Year=2014<br>Degree=%{x}<br>degree_type=%{y}\", \"legendgroup\": \"Job Function=Technology\", \"marker\": {\"color\": \"#FFA15A\"}, \"name\": \"Job Function=Technology\", \"offsetgroup\": \"Job Function=Technology\", \"orientation\": \"v\", \"showlegend\": true, \"textposition\": \"auto\", \"x\": [\"bachelors\", \"not specified\", \"masters\", \"mba\", \"phd\"], \"xaxis\": \"x\", \"y\": [40.0, 38.0, 14.0, 7.0, 1.0], \"yaxis\": \"y\", \"type\": \"bar\"}, {\"alignmentgroup\": \"True\", \"hoverlabel\": {\"namelength\": 0}, \"hovertemplate\": \"Job Function=Retail<br>Year=2014<br>Degree=%{x}<br>degree_type=%{y}\", \"legendgroup\": \"Job Function=Retail\", \"marker\": {\"color\": \"#19d3f3\"}, \"name\": \"Job Function=Retail\", \"offsetgroup\": \"Job Function=Retail\", \"orientation\": \"v\", \"showlegend\": true, \"textposition\": \"auto\", \"x\": [\"not specified\", \"bachelors\", \"masters\", \"mba\"], \"xaxis\": \"x\", \"y\": [44.0, 30.0, 19.0, 8.0], \"yaxis\": \"y\", \"type\": \"bar\"}, {\"alignmentgroup\": \"True\", \"hoverlabel\": {\"namelength\": 0}, \"hovertemplate\": \"Job Function=Consulting<br>Year=2014<br>Degree=%{x}<br>degree_type=%{y}\", \"legendgroup\": \"Job Function=Consulting\", \"marker\": {\"color\": \"#FF6692\"}, \"name\": \"Job Function=Consulting\", \"offsetgroup\": \"Job Function=Consulting\", \"orientation\": \"v\", \"showlegend\": true, \"textposition\": \"auto\", \"x\": [\"bachelors\", \"not specified\", \"masters\", \"mba\"], \"xaxis\": \"x\", \"y\": [35.0, 27.0, 26.0, 11.0], \"yaxis\": \"y\", \"type\": \"bar\"}, {\"alignmentgroup\": \"True\", \"hoverlabel\": {\"namelength\": 0}, \"hovertemplate\": \"Job Function=Engineering Services<br>Year=2014<br>Degree=%{x}<br>degree_type=%{y}\", \"legendgroup\": \"Job Function=Engineering Services\", \"marker\": {\"color\": \"#B6E880\"}, \"name\": \"Job Function=Engineering Services\", \"offsetgroup\": \"Job Function=Engineering Services\", \"orientation\": \"v\", \"showlegend\": true, \"textposition\": \"auto\", \"x\": [\"bachelors\", \"not specified\", \"mba\", \"masters\"], \"xaxis\": \"x\", \"y\": [53.0, 38.0, 5.0, 4.0], \"yaxis\": \"y\", \"type\": \"bar\"}, {\"alignmentgroup\": \"True\", \"hoverlabel\": {\"namelength\": 0}, \"hovertemplate\": \"Job Function=Real Estate & Construction<br>Year=2014<br>Degree=%{x}<br>degree_type=%{y}\", \"legendgroup\": \"Job Function=Real Estate & Construction\", \"marker\": {\"color\": \"#FF97FF\"}, \"name\": \"Job Function=Real Estate & Construction\", \"offsetgroup\": \"Job Function=Real Estate & Construction\", \"orientation\": \"v\", \"showlegend\": true, \"textposition\": \"auto\", \"x\": [\"bachelors\", \"not specified\", \"masters\", \"mba\", \"phd\"], \"xaxis\": \"x\", \"y\": [41.0, 40.0, 9.0, 9.0, 1.0], \"yaxis\": \"y\", \"type\": \"bar\"}, {\"alignmentgroup\": \"True\", \"hoverlabel\": {\"namelength\": 0}, \"hovertemplate\": \"Job Function=Healthcare & Pharmaceuticals<br>Year=2014<br>Degree=%{x}<br>degree_type=%{y}\", \"legendgroup\": \"Job Function=Healthcare & Pharmaceuticals\", \"marker\": {\"color\": \"#FECB52\"}, \"name\": \"Job Function=Healthcare & Pharmaceuticals\", \"offsetgroup\": \"Job Function=Healthcare & Pharmaceuticals\", \"orientation\": \"v\", \"showlegend\": true, \"textposition\": \"auto\", \"x\": [\"bachelors\", \"not specified\", \"masters\", \"mba\", \"phd\"], \"xaxis\": \"x\", \"y\": [38.0, 29.0, 25.0, 6.0, 2.0], \"yaxis\": \"y\", \"type\": \"bar\"}, {\"alignmentgroup\": \"True\", \"hoverlabel\": {\"namelength\": 0}, \"hovertemplate\": \"Job Function=Manufacturing<br>Year=2014<br>Degree=%{x}<br>degree_type=%{y}\", \"legendgroup\": \"Job Function=Manufacturing\", \"marker\": {\"color\": \"#636efa\"}, \"name\": \"Job Function=Manufacturing\", \"offsetgroup\": \"Job Function=Manufacturing\", \"orientation\": \"v\", \"showlegend\": true, \"textposition\": \"auto\", \"x\": [\"not specified\", \"bachelors\", \"masters\", \"mba\"], \"xaxis\": \"x\", \"y\": [42.0, 40.0, 10.0, 8.0], \"yaxis\": \"y\", \"type\": \"bar\"}, {\"alignmentgroup\": \"True\", \"hoverlabel\": {\"namelength\": 0}, \"hovertemplate\": \"Job Function=Multimedia Production / Graphic Design<br>Year=2014<br>Degree=%{x}<br>degree_type=%{y}\", \"legendgroup\": \"Job Function=Multimedia Production / Graphic Design\", \"marker\": {\"color\": \"#EF553B\"}, \"name\": \"Job Function=Multimedia Production / Graphic Design\", \"offsetgroup\": \"Job Function=Multimedia Production / Graphic Design\", \"orientation\": \"v\", \"showlegend\": true, \"textposition\": \"auto\", \"x\": [\"not specified\", \"bachelors\", \"mba\", \"masters\"], \"xaxis\": \"x\", \"y\": [61.0, 29.0, 7.0, 2.0], \"yaxis\": \"y\", \"type\": \"bar\"}, {\"alignmentgroup\": \"True\", \"hoverlabel\": {\"namelength\": 0}, \"hovertemplate\": \"Job Function=Transportation & Logistics<br>Year=2014<br>Degree=%{x}<br>degree_type=%{y}\", \"legendgroup\": \"Job Function=Transportation & Logistics\", \"marker\": {\"color\": \"#00cc96\"}, \"name\": \"Job Function=Transportation & Logistics\", \"offsetgroup\": \"Job Function=Transportation & Logistics\", \"orientation\": \"v\", \"showlegend\": true, \"textposition\": \"auto\", \"x\": [\"not specified\"], \"xaxis\": \"x\", \"y\": [100.0], \"yaxis\": \"y\", \"type\": \"bar\"}], \"name\": \"2014\"}, {\"data\": [{\"alignmentgroup\": \"True\", \"hoverlabel\": {\"namelength\": 0}, \"hovertemplate\": \"Job Function=Other<br>Year=2015<br>Degree=%{x}<br>degree_type=%{y}\", \"legendgroup\": \"Job Function=Other\", \"marker\": {\"color\": \"#636efa\"}, \"name\": \"Job Function=Other\", \"offsetgroup\": \"Job Function=Other\", \"orientation\": \"v\", \"showlegend\": true, \"textposition\": \"auto\", \"x\": [\"not specified\", \"bachelors\", \"masters\", \"mba\", \"phd\"], \"xaxis\": \"x\", \"y\": [49.0, 33.0, 15.0, 3.0, 0.0], \"yaxis\": \"y\", \"type\": \"bar\"}, {\"alignmentgroup\": \"True\", \"hoverlabel\": {\"namelength\": 0}, \"hovertemplate\": \"Job Function=Marketing/Business/Sales Management<br>Year=2015<br>Degree=%{x}<br>degree_type=%{y}\", \"legendgroup\": \"Job Function=Marketing/Business/Sales Management\", \"marker\": {\"color\": \"#EF553B\"}, \"name\": \"Job Function=Marketing/Business/Sales Management\", \"offsetgroup\": \"Job Function=Marketing/Business/Sales Management\", \"orientation\": \"v\", \"showlegend\": true, \"textposition\": \"auto\", \"x\": [\"bachelors\", \"not specified\", \"masters\", \"mba\", \"phd\"], \"xaxis\": \"x\", \"y\": [39.0, 36.0, 16.0, 8.0, 0.0], \"yaxis\": \"y\", \"type\": \"bar\"}, {\"alignmentgroup\": \"True\", \"hoverlabel\": {\"namelength\": 0}, \"hovertemplate\": \"Job Function=Financial Services<br>Year=2015<br>Degree=%{x}<br>degree_type=%{y}\", \"legendgroup\": \"Job Function=Financial Services\", \"marker\": {\"color\": \"#00cc96\"}, \"name\": \"Job Function=Financial Services\", \"offsetgroup\": \"Job Function=Financial Services\", \"orientation\": \"v\", \"showlegend\": true, \"textposition\": \"auto\", \"x\": [\"bachelors\", \"not specified\", \"masters\", \"mba\", \"phd\"], \"xaxis\": \"x\", \"y\": [41.0, 35.0, 14.0, 9.0, 0.0], \"yaxis\": \"y\", \"type\": \"bar\"}, {\"alignmentgroup\": \"True\", \"hoverlabel\": {\"namelength\": 0}, \"hovertemplate\": \"Job Function=Professional Services<br>Year=2015<br>Degree=%{x}<br>degree_type=%{y}\", \"legendgroup\": \"Job Function=Professional Services\", \"marker\": {\"color\": \"#ab63fa\"}, \"name\": \"Job Function=Professional Services\", \"offsetgroup\": \"Job Function=Professional Services\", \"orientation\": \"v\", \"showlegend\": true, \"textposition\": \"auto\", \"x\": [\"not specified\", \"bachelors\", \"masters\", \"mba\", \"phd\"], \"xaxis\": \"x\", \"y\": [42.0, 35.0, 17.0, 6.0, 0.0], \"yaxis\": \"y\", \"type\": \"bar\"}, {\"alignmentgroup\": \"True\", \"hoverlabel\": {\"namelength\": 0}, \"hovertemplate\": \"Job Function=Technology<br>Year=2015<br>Degree=%{x}<br>degree_type=%{y}\", \"legendgroup\": \"Job Function=Technology\", \"marker\": {\"color\": \"#FFA15A\"}, \"name\": \"Job Function=Technology\", \"offsetgroup\": \"Job Function=Technology\", \"orientation\": \"v\", \"showlegend\": true, \"textposition\": \"auto\", \"x\": [\"not specified\", \"bachelors\", \"masters\", \"mba\", \"phd\"], \"xaxis\": \"x\", \"y\": [46.0, 34.0, 14.0, 6.0, 0.0], \"yaxis\": \"y\", \"type\": \"bar\"}, {\"alignmentgroup\": \"True\", \"hoverlabel\": {\"namelength\": 0}, \"hovertemplate\": \"Job Function=Retail<br>Year=2015<br>Degree=%{x}<br>degree_type=%{y}\", \"legendgroup\": \"Job Function=Retail\", \"marker\": {\"color\": \"#19d3f3\"}, \"name\": \"Job Function=Retail\", \"offsetgroup\": \"Job Function=Retail\", \"orientation\": \"v\", \"showlegend\": true, \"textposition\": \"auto\", \"x\": [\"not specified\", \"bachelors\", \"masters\", \"mba\", \"phd\"], \"xaxis\": \"x\", \"y\": [39.0, 36.0, 18.0, 6.0, 0.0], \"yaxis\": \"y\", \"type\": \"bar\"}, {\"alignmentgroup\": \"True\", \"hoverlabel\": {\"namelength\": 0}, \"hovertemplate\": \"Job Function=Consulting<br>Year=2015<br>Degree=%{x}<br>degree_type=%{y}\", \"legendgroup\": \"Job Function=Consulting\", \"marker\": {\"color\": \"#FF6692\"}, \"name\": \"Job Function=Consulting\", \"offsetgroup\": \"Job Function=Consulting\", \"orientation\": \"v\", \"showlegend\": true, \"textposition\": \"auto\", \"x\": [\"bachelors\", \"not specified\", \"masters\", \"mba\", \"phd\"], \"xaxis\": \"x\", \"y\": [35.0, 29.0, 24.0, 11.0, 0.0], \"yaxis\": \"y\", \"type\": \"bar\"}, {\"alignmentgroup\": \"True\", \"hoverlabel\": {\"namelength\": 0}, \"hovertemplate\": \"Job Function=Engineering Services<br>Year=2015<br>Degree=%{x}<br>degree_type=%{y}\", \"legendgroup\": \"Job Function=Engineering Services\", \"marker\": {\"color\": \"#B6E880\"}, \"name\": \"Job Function=Engineering Services\", \"offsetgroup\": \"Job Function=Engineering Services\", \"orientation\": \"v\", \"showlegend\": true, \"textposition\": \"auto\", \"x\": [\"bachelors\", \"not specified\", \"masters\", \"mba\"], \"xaxis\": \"x\", \"y\": [54.0, 30.0, 12.0, 3.0], \"yaxis\": \"y\", \"type\": \"bar\"}, {\"alignmentgroup\": \"True\", \"hoverlabel\": {\"namelength\": 0}, \"hovertemplate\": \"Job Function=Real Estate & Construction<br>Year=2015<br>Degree=%{x}<br>degree_type=%{y}\", \"legendgroup\": \"Job Function=Real Estate & Construction\", \"marker\": {\"color\": \"#FF97FF\"}, \"name\": \"Job Function=Real Estate & Construction\", \"offsetgroup\": \"Job Function=Real Estate & Construction\", \"orientation\": \"v\", \"showlegend\": true, \"textposition\": \"auto\", \"x\": [\"not specified\", \"bachelors\", \"masters\", \"mba\"], \"xaxis\": \"x\", \"y\": [49.0, 41.0, 6.0, 4.0], \"yaxis\": \"y\", \"type\": \"bar\"}, {\"alignmentgroup\": \"True\", \"hoverlabel\": {\"namelength\": 0}, \"hovertemplate\": \"Job Function=Healthcare & Pharmaceuticals<br>Year=2015<br>Degree=%{x}<br>degree_type=%{y}\", \"legendgroup\": \"Job Function=Healthcare & Pharmaceuticals\", \"marker\": {\"color\": \"#FECB52\"}, \"name\": \"Job Function=Healthcare & Pharmaceuticals\", \"offsetgroup\": \"Job Function=Healthcare & Pharmaceuticals\", \"orientation\": \"v\", \"showlegend\": true, \"textposition\": \"auto\", \"x\": [\"not specified\", \"bachelors\", \"masters\", \"mba\", \"phd\"], \"xaxis\": \"x\", \"y\": [47.0, 31.0, 13.0, 7.0, 1.0], \"yaxis\": \"y\", \"type\": \"bar\"}, {\"alignmentgroup\": \"True\", \"hoverlabel\": {\"namelength\": 0}, \"hovertemplate\": \"Job Function=Manufacturing<br>Year=2015<br>Degree=%{x}<br>degree_type=%{y}\", \"legendgroup\": \"Job Function=Manufacturing\", \"marker\": {\"color\": \"#636efa\"}, \"name\": \"Job Function=Manufacturing\", \"offsetgroup\": \"Job Function=Manufacturing\", \"orientation\": \"v\", \"showlegend\": true, \"textposition\": \"auto\", \"x\": [\"bachelors\", \"not specified\", \"masters\", \"mba\", \"phd\"], \"xaxis\": \"x\", \"y\": [42.0, 36.0, 15.0, 6.0, 1.0], \"yaxis\": \"y\", \"type\": \"bar\"}, {\"alignmentgroup\": \"True\", \"hoverlabel\": {\"namelength\": 0}, \"hovertemplate\": \"Job Function=Multimedia Production / Graphic Design<br>Year=2015<br>Degree=%{x}<br>degree_type=%{y}\", \"legendgroup\": \"Job Function=Multimedia Production / Graphic Design\", \"marker\": {\"color\": \"#EF553B\"}, \"name\": \"Job Function=Multimedia Production / Graphic Design\", \"offsetgroup\": \"Job Function=Multimedia Production / Graphic Design\", \"orientation\": \"v\", \"showlegend\": true, \"textposition\": \"auto\", \"x\": [\"not specified\", \"bachelors\", \"masters\"], \"xaxis\": \"x\", \"y\": [60.0, 35.0, 5.0], \"yaxis\": \"y\", \"type\": \"bar\"}, {\"alignmentgroup\": \"True\", \"hoverlabel\": {\"namelength\": 0}, \"hovertemplate\": \"Job Function=Transportation & Logistics<br>Year=2015<br>Degree=%{x}<br>degree_type=%{y}\", \"legendgroup\": \"Job Function=Transportation & Logistics\", \"marker\": {\"color\": \"#00cc96\"}, \"name\": \"Job Function=Transportation & Logistics\", \"offsetgroup\": \"Job Function=Transportation & Logistics\", \"orientation\": \"v\", \"showlegend\": true, \"textposition\": \"auto\", \"x\": [\"bachelors\", \"not specified\", \"masters\", \"mba\"], \"xaxis\": \"x\", \"y\": [44.0, 38.0, 15.0, 3.0], \"yaxis\": \"y\", \"type\": \"bar\"}], \"name\": \"2015\"}, {\"data\": [{\"alignmentgroup\": \"True\", \"hoverlabel\": {\"namelength\": 0}, \"hovertemplate\": \"Job Function=Other<br>Year=2016<br>Degree=%{x}<br>degree_type=%{y}\", \"legendgroup\": \"Job Function=Other\", \"marker\": {\"color\": \"#636efa\"}, \"name\": \"Job Function=Other\", \"offsetgroup\": \"Job Function=Other\", \"orientation\": \"v\", \"showlegend\": true, \"textposition\": \"auto\", \"x\": [\"not specified\", \"bachelors\", \"masters\", \"mba\", \"phd\"], \"xaxis\": \"x\", \"y\": [43.0, 36.0, 16.0, 5.0, 1.0], \"yaxis\": \"y\", \"type\": \"bar\"}, {\"alignmentgroup\": \"True\", \"hoverlabel\": {\"namelength\": 0}, \"hovertemplate\": \"Job Function=Marketing/Business/Sales Management<br>Year=2016<br>Degree=%{x}<br>degree_type=%{y}\", \"legendgroup\": \"Job Function=Marketing/Business/Sales Management\", \"marker\": {\"color\": \"#EF553B\"}, \"name\": \"Job Function=Marketing/Business/Sales Management\", \"offsetgroup\": \"Job Function=Marketing/Business/Sales Management\", \"orientation\": \"v\", \"showlegend\": true, \"textposition\": \"auto\", \"x\": [\"not specified\", \"bachelors\", \"masters\", \"mba\"], \"xaxis\": \"x\", \"y\": [39.0, 38.0, 17.0, 7.0], \"yaxis\": \"y\", \"type\": \"bar\"}, {\"alignmentgroup\": \"True\", \"hoverlabel\": {\"namelength\": 0}, \"hovertemplate\": \"Job Function=Financial Services<br>Year=2016<br>Degree=%{x}<br>degree_type=%{y}\", \"legendgroup\": \"Job Function=Financial Services\", \"marker\": {\"color\": \"#00cc96\"}, \"name\": \"Job Function=Financial Services\", \"offsetgroup\": \"Job Function=Financial Services\", \"orientation\": \"v\", \"showlegend\": true, \"textposition\": \"auto\", \"x\": [\"bachelors\", \"not specified\", \"masters\", \"mba\", \"phd\"], \"xaxis\": \"x\", \"y\": [43.0, 34.0, 17.0, 6.0, 0.0], \"yaxis\": \"y\", \"type\": \"bar\"}, {\"alignmentgroup\": \"True\", \"hoverlabel\": {\"namelength\": 0}, \"hovertemplate\": \"Job Function=Professional Services<br>Year=2016<br>Degree=%{x}<br>degree_type=%{y}\", \"legendgroup\": \"Job Function=Professional Services\", \"marker\": {\"color\": \"#ab63fa\"}, \"name\": \"Job Function=Professional Services\", \"offsetgroup\": \"Job Function=Professional Services\", \"orientation\": \"v\", \"showlegend\": true, \"textposition\": \"auto\", \"x\": [\"not specified\", \"bachelors\", \"masters\", \"mba\"], \"xaxis\": \"x\", \"y\": [45.0, 32.0, 17.0, 6.0], \"yaxis\": \"y\", \"type\": \"bar\"}, {\"alignmentgroup\": \"True\", \"hoverlabel\": {\"namelength\": 0}, \"hovertemplate\": \"Job Function=Technology<br>Year=2016<br>Degree=%{x}<br>degree_type=%{y}\", \"legendgroup\": \"Job Function=Technology\", \"marker\": {\"color\": \"#FFA15A\"}, \"name\": \"Job Function=Technology\", \"offsetgroup\": \"Job Function=Technology\", \"orientation\": \"v\", \"showlegend\": true, \"textposition\": \"auto\", \"x\": [\"not specified\", \"bachelors\", \"masters\", \"mba\", \"phd\"], \"xaxis\": \"x\", \"y\": [43.0, 36.0, 14.0, 7.0, 0.0], \"yaxis\": \"y\", \"type\": \"bar\"}, {\"alignmentgroup\": \"True\", \"hoverlabel\": {\"namelength\": 0}, \"hovertemplate\": \"Job Function=Retail<br>Year=2016<br>Degree=%{x}<br>degree_type=%{y}\", \"legendgroup\": \"Job Function=Retail\", \"marker\": {\"color\": \"#19d3f3\"}, \"name\": \"Job Function=Retail\", \"offsetgroup\": \"Job Function=Retail\", \"orientation\": \"v\", \"showlegend\": true, \"textposition\": \"auto\", \"x\": [\"not specified\", \"bachelors\", \"masters\", \"mba\"], \"xaxis\": \"x\", \"y\": [44.0, 29.0, 20.0, 7.0], \"yaxis\": \"y\", \"type\": \"bar\"}, {\"alignmentgroup\": \"True\", \"hoverlabel\": {\"namelength\": 0}, \"hovertemplate\": \"Job Function=Consulting<br>Year=2016<br>Degree=%{x}<br>degree_type=%{y}\", \"legendgroup\": \"Job Function=Consulting\", \"marker\": {\"color\": \"#FF6692\"}, \"name\": \"Job Function=Consulting\", \"offsetgroup\": \"Job Function=Consulting\", \"orientation\": \"v\", \"showlegend\": true, \"textposition\": \"auto\", \"x\": [\"bachelors\", \"masters\", \"not specified\", \"mba\", \"phd\"], \"xaxis\": \"x\", \"y\": [38.0, 27.0, 25.0, 10.0, 0.0], \"yaxis\": \"y\", \"type\": \"bar\"}, {\"alignmentgroup\": \"True\", \"hoverlabel\": {\"namelength\": 0}, \"hovertemplate\": \"Job Function=Engineering Services<br>Year=2016<br>Degree=%{x}<br>degree_type=%{y}\", \"legendgroup\": \"Job Function=Engineering Services\", \"marker\": {\"color\": \"#B6E880\"}, \"name\": \"Job Function=Engineering Services\", \"offsetgroup\": \"Job Function=Engineering Services\", \"orientation\": \"v\", \"showlegend\": true, \"textposition\": \"auto\", \"x\": [\"bachelors\", \"not specified\", \"masters\", \"mba\", \"phd\"], \"xaxis\": \"x\", \"y\": [46.0, 38.0, 14.0, 1.0, 0.0], \"yaxis\": \"y\", \"type\": \"bar\"}, {\"alignmentgroup\": \"True\", \"hoverlabel\": {\"namelength\": 0}, \"hovertemplate\": \"Job Function=Real Estate & Construction<br>Year=2016<br>Degree=%{x}<br>degree_type=%{y}\", \"legendgroup\": \"Job Function=Real Estate & Construction\", \"marker\": {\"color\": \"#FF97FF\"}, \"name\": \"Job Function=Real Estate & Construction\", \"offsetgroup\": \"Job Function=Real Estate & Construction\", \"orientation\": \"v\", \"showlegend\": true, \"textposition\": \"auto\", \"x\": [\"not specified\", \"bachelors\", \"masters\", \"mba\"], \"xaxis\": \"x\", \"y\": [43.0, 42.0, 13.0, 1.0], \"yaxis\": \"y\", \"type\": \"bar\"}, {\"alignmentgroup\": \"True\", \"hoverlabel\": {\"namelength\": 0}, \"hovertemplate\": \"Job Function=Healthcare & Pharmaceuticals<br>Year=2016<br>Degree=%{x}<br>degree_type=%{y}\", \"legendgroup\": \"Job Function=Healthcare & Pharmaceuticals\", \"marker\": {\"color\": \"#FECB52\"}, \"name\": \"Job Function=Healthcare & Pharmaceuticals\", \"offsetgroup\": \"Job Function=Healthcare & Pharmaceuticals\", \"orientation\": \"v\", \"showlegend\": true, \"textposition\": \"auto\", \"x\": [\"not specified\", \"masters\", \"bachelors\", \"mba\", \"phd\"], \"xaxis\": \"x\", \"y\": [40.0, 28.0, 24.0, 5.0, 2.0], \"yaxis\": \"y\", \"type\": \"bar\"}, {\"alignmentgroup\": \"True\", \"hoverlabel\": {\"namelength\": 0}, \"hovertemplate\": \"Job Function=Manufacturing<br>Year=2016<br>Degree=%{x}<br>degree_type=%{y}\", \"legendgroup\": \"Job Function=Manufacturing\", \"marker\": {\"color\": \"#636efa\"}, \"name\": \"Job Function=Manufacturing\", \"offsetgroup\": \"Job Function=Manufacturing\", \"orientation\": \"v\", \"showlegend\": true, \"textposition\": \"auto\", \"x\": [\"bachelors\", \"not specified\", \"masters\", \"mba\"], \"xaxis\": \"x\", \"y\": [42.0, 36.0, 17.0, 5.0], \"yaxis\": \"y\", \"type\": \"bar\"}, {\"alignmentgroup\": \"True\", \"hoverlabel\": {\"namelength\": 0}, \"hovertemplate\": \"Job Function=Multimedia Production / Graphic Design<br>Year=2016<br>Degree=%{x}<br>degree_type=%{y}\", \"legendgroup\": \"Job Function=Multimedia Production / Graphic Design\", \"marker\": {\"color\": \"#EF553B\"}, \"name\": \"Job Function=Multimedia Production / Graphic Design\", \"offsetgroup\": \"Job Function=Multimedia Production / Graphic Design\", \"orientation\": \"v\", \"showlegend\": true, \"textposition\": \"auto\", \"x\": [\"not specified\", \"bachelors\", \"masters\", \"mba\"], \"xaxis\": \"x\", \"y\": [46.0, 34.0, 17.0, 3.0], \"yaxis\": \"y\", \"type\": \"bar\"}, {\"alignmentgroup\": \"True\", \"hoverlabel\": {\"namelength\": 0}, \"hovertemplate\": \"Job Function=Transportation & Logistics<br>Year=2016<br>Degree=%{x}<br>degree_type=%{y}\", \"legendgroup\": \"Job Function=Transportation & Logistics\", \"marker\": {\"color\": \"#00cc96\"}, \"name\": \"Job Function=Transportation & Logistics\", \"offsetgroup\": \"Job Function=Transportation & Logistics\", \"orientation\": \"v\", \"showlegend\": true, \"textposition\": \"auto\", \"x\": [\"bachelors\", \"not specified\", \"masters\", \"mba\", \"phd\"], \"xaxis\": \"x\", \"y\": [39.0, 34.0, 18.0, 9.0, 0.0], \"yaxis\": \"y\", \"type\": \"bar\"}, {\"alignmentgroup\": \"True\", \"hoverlabel\": {\"namelength\": 0}, \"hovertemplate\": \"Job Function=Other - Government Affairs<br>Year=2016<br>Degree=%{x}<br>degree_type=%{y}\", \"legendgroup\": \"Job Function=Other - Government Affairs\", \"marker\": {\"color\": \"#ab63fa\"}, \"name\": \"Job Function=Other - Government Affairs\", \"offsetgroup\": \"Job Function=Other - Government Affairs\", \"orientation\": \"v\", \"showlegend\": true, \"textposition\": \"auto\", \"x\": [\"not specified\", \"bachelors\"], \"xaxis\": \"x\", \"y\": [67.0, 33.0], \"yaxis\": \"y\", \"type\": \"bar\"}], \"name\": \"2016\"}, {\"data\": [{\"alignmentgroup\": \"True\", \"hoverlabel\": {\"namelength\": 0}, \"hovertemplate\": \"Job Function=Other<br>Year=2017<br>Degree=%{x}<br>degree_type=%{y}\", \"legendgroup\": \"Job Function=Other\", \"marker\": {\"color\": \"#636efa\"}, \"name\": \"Job Function=Other\", \"offsetgroup\": \"Job Function=Other\", \"orientation\": \"v\", \"showlegend\": true, \"textposition\": \"auto\", \"x\": [\"bachelors\", \"not specified\", \"masters\", \"mba\", \"phd\"], \"xaxis\": \"x\", \"y\": [42.0, 38.0, 18.0, 2.0, 0.0], \"yaxis\": \"y\", \"type\": \"bar\"}, {\"alignmentgroup\": \"True\", \"hoverlabel\": {\"namelength\": 0}, \"hovertemplate\": \"Job Function=Marketing/Business/Sales Management<br>Year=2017<br>Degree=%{x}<br>degree_type=%{y}\", \"legendgroup\": \"Job Function=Marketing/Business/Sales Management\", \"marker\": {\"color\": \"#EF553B\"}, \"name\": \"Job Function=Marketing/Business/Sales Management\", \"offsetgroup\": \"Job Function=Marketing/Business/Sales Management\", \"orientation\": \"v\", \"showlegend\": true, \"textposition\": \"auto\", \"x\": [\"bachelors\", \"not specified\", \"masters\", \"mba\", \"phd\"], \"xaxis\": \"x\", \"y\": [41.0, 33.0, 17.0, 7.0, 0.0], \"yaxis\": \"y\", \"type\": \"bar\"}, {\"alignmentgroup\": \"True\", \"hoverlabel\": {\"namelength\": 0}, \"hovertemplate\": \"Job Function=Financial Services<br>Year=2017<br>Degree=%{x}<br>degree_type=%{y}\", \"legendgroup\": \"Job Function=Financial Services\", \"marker\": {\"color\": \"#00cc96\"}, \"name\": \"Job Function=Financial Services\", \"offsetgroup\": \"Job Function=Financial Services\", \"orientation\": \"v\", \"showlegend\": true, \"textposition\": \"auto\", \"x\": [\"bachelors\", \"not specified\", \"masters\", \"mba\", \"phd\"], \"xaxis\": \"x\", \"y\": [47.0, 33.0, 13.0, 7.0, 0.0], \"yaxis\": \"y\", \"type\": \"bar\"}, {\"alignmentgroup\": \"True\", \"hoverlabel\": {\"namelength\": 0}, \"hovertemplate\": \"Job Function=Professional Services<br>Year=2017<br>Degree=%{x}<br>degree_type=%{y}\", \"legendgroup\": \"Job Function=Professional Services\", \"marker\": {\"color\": \"#ab63fa\"}, \"name\": \"Job Function=Professional Services\", \"offsetgroup\": \"Job Function=Professional Services\", \"orientation\": \"v\", \"showlegend\": true, \"textposition\": \"auto\", \"x\": [\"bachelors\", \"not specified\", \"masters\", \"mba\", \"phd\"], \"xaxis\": \"x\", \"y\": [39.0, 38.0, 15.0, 7.0, 0.0], \"yaxis\": \"y\", \"type\": \"bar\"}, {\"alignmentgroup\": \"True\", \"hoverlabel\": {\"namelength\": 0}, \"hovertemplate\": \"Job Function=Technology<br>Year=2017<br>Degree=%{x}<br>degree_type=%{y}\", \"legendgroup\": \"Job Function=Technology\", \"marker\": {\"color\": \"#FFA15A\"}, \"name\": \"Job Function=Technology\", \"offsetgroup\": \"Job Function=Technology\", \"orientation\": \"v\", \"showlegend\": true, \"textposition\": \"auto\", \"x\": [\"bachelors\", \"not specified\", \"masters\", \"mba\", \"phd\"], \"xaxis\": \"x\", \"y\": [50.0, 33.0, 13.0, 4.0, 0.0], \"yaxis\": \"y\", \"type\": \"bar\"}, {\"alignmentgroup\": \"True\", \"hoverlabel\": {\"namelength\": 0}, \"hovertemplate\": \"Job Function=Retail<br>Year=2017<br>Degree=%{x}<br>degree_type=%{y}\", \"legendgroup\": \"Job Function=Retail\", \"marker\": {\"color\": \"#19d3f3\"}, \"name\": \"Job Function=Retail\", \"offsetgroup\": \"Job Function=Retail\", \"orientation\": \"v\", \"showlegend\": true, \"textposition\": \"auto\", \"x\": [\"bachelors\", \"not specified\", \"masters\", \"mba\"], \"xaxis\": \"x\", \"y\": [39.0, 33.0, 20.0, 8.0], \"yaxis\": \"y\", \"type\": \"bar\"}, {\"alignmentgroup\": \"True\", \"hoverlabel\": {\"namelength\": 0}, \"hovertemplate\": \"Job Function=Consulting<br>Year=2017<br>Degree=%{x}<br>degree_type=%{y}\", \"legendgroup\": \"Job Function=Consulting\", \"marker\": {\"color\": \"#FF6692\"}, \"name\": \"Job Function=Consulting\", \"offsetgroup\": \"Job Function=Consulting\", \"orientation\": \"v\", \"showlegend\": true, \"textposition\": \"auto\", \"x\": [\"bachelors\", \"not specified\", \"masters\", \"mba\"], \"xaxis\": \"x\", \"y\": [42.0, 24.0, 21.0, 14.0], \"yaxis\": \"y\", \"type\": \"bar\"}, {\"alignmentgroup\": \"True\", \"hoverlabel\": {\"namelength\": 0}, \"hovertemplate\": \"Job Function=Engineering Services<br>Year=2017<br>Degree=%{x}<br>degree_type=%{y}\", \"legendgroup\": \"Job Function=Engineering Services\", \"marker\": {\"color\": \"#B6E880\"}, \"name\": \"Job Function=Engineering Services\", \"offsetgroup\": \"Job Function=Engineering Services\", \"orientation\": \"v\", \"showlegend\": true, \"textposition\": \"auto\", \"x\": [\"bachelors\", \"not specified\", \"masters\", \"mba\"], \"xaxis\": \"x\", \"y\": [51.0, 34.0, 15.0, 1.0], \"yaxis\": \"y\", \"type\": \"bar\"}, {\"alignmentgroup\": \"True\", \"hoverlabel\": {\"namelength\": 0}, \"hovertemplate\": \"Job Function=Real Estate & Construction<br>Year=2017<br>Degree=%{x}<br>degree_type=%{y}\", \"legendgroup\": \"Job Function=Real Estate & Construction\", \"marker\": {\"color\": \"#FF97FF\"}, \"name\": \"Job Function=Real Estate & Construction\", \"offsetgroup\": \"Job Function=Real Estate & Construction\", \"orientation\": \"v\", \"showlegend\": true, \"textposition\": \"auto\", \"x\": [\"not specified\", \"bachelors\", \"masters\", \"mba\", \"phd\"], \"xaxis\": \"x\", \"y\": [56.0, 33.0, 7.0, 3.0, 1.0], \"yaxis\": \"y\", \"type\": \"bar\"}, {\"alignmentgroup\": \"True\", \"hoverlabel\": {\"namelength\": 0}, \"hovertemplate\": \"Job Function=Healthcare & Pharmaceuticals<br>Year=2017<br>Degree=%{x}<br>degree_type=%{y}\", \"legendgroup\": \"Job Function=Healthcare & Pharmaceuticals\", \"marker\": {\"color\": \"#FECB52\"}, \"name\": \"Job Function=Healthcare & Pharmaceuticals\", \"offsetgroup\": \"Job Function=Healthcare & Pharmaceuticals\", \"orientation\": \"v\", \"showlegend\": true, \"textposition\": \"auto\", \"x\": [\"not specified\", \"masters\", \"bachelors\", \"phd\", \"mba\"], \"xaxis\": \"x\", \"y\": [38.0, 31.0, 25.0, 3.0, 3.0], \"yaxis\": \"y\", \"type\": \"bar\"}, {\"alignmentgroup\": \"True\", \"hoverlabel\": {\"namelength\": 0}, \"hovertemplate\": \"Job Function=Manufacturing<br>Year=2017<br>Degree=%{x}<br>degree_type=%{y}\", \"legendgroup\": \"Job Function=Manufacturing\", \"marker\": {\"color\": \"#636efa\"}, \"name\": \"Job Function=Manufacturing\", \"offsetgroup\": \"Job Function=Manufacturing\", \"orientation\": \"v\", \"showlegend\": true, \"textposition\": \"auto\", \"x\": [\"not specified\", \"bachelors\", \"masters\", \"mba\"], \"xaxis\": \"x\", \"y\": [45.0, 36.0, 16.0, 3.0], \"yaxis\": \"y\", \"type\": \"bar\"}, {\"alignmentgroup\": \"True\", \"hoverlabel\": {\"namelength\": 0}, \"hovertemplate\": \"Job Function=Multimedia Production / Graphic Design<br>Year=2017<br>Degree=%{x}<br>degree_type=%{y}\", \"legendgroup\": \"Job Function=Multimedia Production / Graphic Design\", \"marker\": {\"color\": \"#EF553B\"}, \"name\": \"Job Function=Multimedia Production / Graphic Design\", \"offsetgroup\": \"Job Function=Multimedia Production / Graphic Design\", \"orientation\": \"v\", \"showlegend\": true, \"textposition\": \"auto\", \"x\": [\"bachelors\", \"not specified\", \"masters\"], \"xaxis\": \"x\", \"y\": [44.0, 41.0, 14.0], \"yaxis\": \"y\", \"type\": \"bar\"}, {\"alignmentgroup\": \"True\", \"hoverlabel\": {\"namelength\": 0}, \"hovertemplate\": \"Job Function=Transportation & Logistics<br>Year=2017<br>Degree=%{x}<br>degree_type=%{y}\", \"legendgroup\": \"Job Function=Transportation & Logistics\", \"marker\": {\"color\": \"#00cc96\"}, \"name\": \"Job Function=Transportation & Logistics\", \"offsetgroup\": \"Job Function=Transportation & Logistics\", \"orientation\": \"v\", \"showlegend\": true, \"textposition\": \"auto\", \"x\": [\"bachelors\", \"not specified\", \"masters\", \"mba\", \"phd\"], \"xaxis\": \"x\", \"y\": [42.0, 41.0, 15.0, 2.0, 1.0], \"yaxis\": \"y\", \"type\": \"bar\"}, {\"alignmentgroup\": \"True\", \"hoverlabel\": {\"namelength\": 0}, \"hovertemplate\": \"Job Function=Other - Government Affairs<br>Year=2017<br>Degree=%{x}<br>degree_type=%{y}\", \"legendgroup\": \"Job Function=Other - Government Affairs\", \"marker\": {\"color\": \"#ab63fa\"}, \"name\": \"Job Function=Other - Government Affairs\", \"offsetgroup\": \"Job Function=Other - Government Affairs\", \"orientation\": \"v\", \"showlegend\": true, \"textposition\": \"auto\", \"x\": [\"bachelors\", \"not specified\"], \"xaxis\": \"x\", \"y\": [62.0, 38.0], \"yaxis\": \"y\", \"type\": \"bar\"}], \"name\": \"2017\"}, {\"data\": [{\"alignmentgroup\": \"True\", \"hoverlabel\": {\"namelength\": 0}, \"hovertemplate\": \"Job Function=Other<br>Year=2018<br>Degree=%{x}<br>degree_type=%{y}\", \"legendgroup\": \"Job Function=Other\", \"marker\": {\"color\": \"#636efa\"}, \"name\": \"Job Function=Other\", \"offsetgroup\": \"Job Function=Other\", \"orientation\": \"v\", \"showlegend\": true, \"textposition\": \"auto\", \"x\": [\"bachelors\", \"not specified\", \"mba\", \"masters\", \"phd\"], \"xaxis\": \"x\", \"y\": [51.0, 22.0, 15.0, 12.0, 0.0], \"yaxis\": \"y\", \"type\": \"bar\"}, {\"alignmentgroup\": \"True\", \"hoverlabel\": {\"namelength\": 0}, \"hovertemplate\": \"Job Function=Marketing/Business/Sales Management<br>Year=2018<br>Degree=%{x}<br>degree_type=%{y}\", \"legendgroup\": \"Job Function=Marketing/Business/Sales Management\", \"marker\": {\"color\": \"#EF553B\"}, \"name\": \"Job Function=Marketing/Business/Sales Management\", \"offsetgroup\": \"Job Function=Marketing/Business/Sales Management\", \"orientation\": \"v\", \"showlegend\": true, \"textposition\": \"auto\", \"x\": [\"bachelors\", \"not specified\", \"masters\", \"mba\", \"phd\"], \"xaxis\": \"x\", \"y\": [44.0, 34.0, 16.0, 5.0, 1.0], \"yaxis\": \"y\", \"type\": \"bar\"}, {\"alignmentgroup\": \"True\", \"hoverlabel\": {\"namelength\": 0}, \"hovertemplate\": \"Job Function=Financial Services<br>Year=2018<br>Degree=%{x}<br>degree_type=%{y}\", \"legendgroup\": \"Job Function=Financial Services\", \"marker\": {\"color\": \"#00cc96\"}, \"name\": \"Job Function=Financial Services\", \"offsetgroup\": \"Job Function=Financial Services\", \"orientation\": \"v\", \"showlegend\": true, \"textposition\": \"auto\", \"x\": [\"bachelors\", \"not specified\", \"masters\", \"mba\", \"phd\"], \"xaxis\": \"x\", \"y\": [45.0, 33.0, 17.0, 5.0, 0.0], \"yaxis\": \"y\", \"type\": \"bar\"}, {\"alignmentgroup\": \"True\", \"hoverlabel\": {\"namelength\": 0}, \"hovertemplate\": \"Job Function=Professional Services<br>Year=2018<br>Degree=%{x}<br>degree_type=%{y}\", \"legendgroup\": \"Job Function=Professional Services\", \"marker\": {\"color\": \"#ab63fa\"}, \"name\": \"Job Function=Professional Services\", \"offsetgroup\": \"Job Function=Professional Services\", \"orientation\": \"v\", \"showlegend\": true, \"textposition\": \"auto\", \"x\": [\"not specified\", \"bachelors\", \"masters\", \"mba\", \"phd\"], \"xaxis\": \"x\", \"y\": [44.0, 39.0, 15.0, 2.0, 0.0], \"yaxis\": \"y\", \"type\": \"bar\"}, {\"alignmentgroup\": \"True\", \"hoverlabel\": {\"namelength\": 0}, \"hovertemplate\": \"Job Function=Technology<br>Year=2018<br>Degree=%{x}<br>degree_type=%{y}\", \"legendgroup\": \"Job Function=Technology\", \"marker\": {\"color\": \"#FFA15A\"}, \"name\": \"Job Function=Technology\", \"offsetgroup\": \"Job Function=Technology\", \"orientation\": \"v\", \"showlegend\": true, \"textposition\": \"auto\", \"x\": [\"bachelors\", \"not specified\", \"masters\", \"mba\", \"phd\"], \"xaxis\": \"x\", \"y\": [47.0, 34.0, 14.0, 4.0, 1.0], \"yaxis\": \"y\", \"type\": \"bar\"}, {\"alignmentgroup\": \"True\", \"hoverlabel\": {\"namelength\": 0}, \"hovertemplate\": \"Job Function=Retail<br>Year=2018<br>Degree=%{x}<br>degree_type=%{y}\", \"legendgroup\": \"Job Function=Retail\", \"marker\": {\"color\": \"#19d3f3\"}, \"name\": \"Job Function=Retail\", \"offsetgroup\": \"Job Function=Retail\", \"orientation\": \"v\", \"showlegend\": true, \"textposition\": \"auto\", \"x\": [\"not specified\", \"bachelors\", \"masters\", \"mba\"], \"xaxis\": \"x\", \"y\": [39.0, 36.0, 19.0, 6.0], \"yaxis\": \"y\", \"type\": \"bar\"}, {\"alignmentgroup\": \"True\", \"hoverlabel\": {\"namelength\": 0}, \"hovertemplate\": \"Job Function=Consulting<br>Year=2018<br>Degree=%{x}<br>degree_type=%{y}\", \"legendgroup\": \"Job Function=Consulting\", \"marker\": {\"color\": \"#FF6692\"}, \"name\": \"Job Function=Consulting\", \"offsetgroup\": \"Job Function=Consulting\", \"orientation\": \"v\", \"showlegend\": true, \"textposition\": \"auto\", \"x\": [\"bachelors\", \"not specified\", \"masters\", \"mba\", \"phd\"], \"xaxis\": \"x\", \"y\": [44.0, 24.0, 21.0, 10.0, 0.0], \"yaxis\": \"y\", \"type\": \"bar\"}, {\"alignmentgroup\": \"True\", \"hoverlabel\": {\"namelength\": 0}, \"hovertemplate\": \"Job Function=Engineering Services<br>Year=2018<br>Degree=%{x}<br>degree_type=%{y}\", \"legendgroup\": \"Job Function=Engineering Services\", \"marker\": {\"color\": \"#B6E880\"}, \"name\": \"Job Function=Engineering Services\", \"offsetgroup\": \"Job Function=Engineering Services\", \"orientation\": \"v\", \"showlegend\": true, \"textposition\": \"auto\", \"x\": [\"bachelors\", \"not specified\", \"masters\", \"mba\"], \"xaxis\": \"x\", \"y\": [47.0, 39.0, 14.0, 1.0], \"yaxis\": \"y\", \"type\": \"bar\"}, {\"alignmentgroup\": \"True\", \"hoverlabel\": {\"namelength\": 0}, \"hovertemplate\": \"Job Function=Real Estate & Construction<br>Year=2018<br>Degree=%{x}<br>degree_type=%{y}\", \"legendgroup\": \"Job Function=Real Estate & Construction\", \"marker\": {\"color\": \"#FF97FF\"}, \"name\": \"Job Function=Real Estate & Construction\", \"offsetgroup\": \"Job Function=Real Estate & Construction\", \"orientation\": \"v\", \"showlegend\": true, \"textposition\": \"auto\", \"x\": [\"not specified\", \"bachelors\", \"masters\", \"mba\", \"phd\"], \"xaxis\": \"x\", \"y\": [49.0, 32.0, 16.0, 2.0, 1.0], \"yaxis\": \"y\", \"type\": \"bar\"}, {\"alignmentgroup\": \"True\", \"hoverlabel\": {\"namelength\": 0}, \"hovertemplate\": \"Job Function=Healthcare & Pharmaceuticals<br>Year=2018<br>Degree=%{x}<br>degree_type=%{y}\", \"legendgroup\": \"Job Function=Healthcare & Pharmaceuticals\", \"marker\": {\"color\": \"#FECB52\"}, \"name\": \"Job Function=Healthcare & Pharmaceuticals\", \"offsetgroup\": \"Job Function=Healthcare & Pharmaceuticals\", \"orientation\": \"v\", \"showlegend\": true, \"textposition\": \"auto\", \"x\": [\"not specified\", \"masters\", \"bachelors\", \"phd\", \"mba\"], \"xaxis\": \"x\", \"y\": [41.0, 27.0, 24.0, 6.0, 2.0], \"yaxis\": \"y\", \"type\": \"bar\"}, {\"alignmentgroup\": \"True\", \"hoverlabel\": {\"namelength\": 0}, \"hovertemplate\": \"Job Function=Manufacturing<br>Year=2018<br>Degree=%{x}<br>degree_type=%{y}\", \"legendgroup\": \"Job Function=Manufacturing\", \"marker\": {\"color\": \"#636efa\"}, \"name\": \"Job Function=Manufacturing\", \"offsetgroup\": \"Job Function=Manufacturing\", \"orientation\": \"v\", \"showlegend\": true, \"textposition\": \"auto\", \"x\": [\"not specified\", \"bachelors\", \"masters\", \"mba\"], \"xaxis\": \"x\", \"y\": [45.0, 36.0, 16.0, 3.0], \"yaxis\": \"y\", \"type\": \"bar\"}, {\"alignmentgroup\": \"True\", \"hoverlabel\": {\"namelength\": 0}, \"hovertemplate\": \"Job Function=Multimedia Production / Graphic Design<br>Year=2018<br>Degree=%{x}<br>degree_type=%{y}\", \"legendgroup\": \"Job Function=Multimedia Production / Graphic Design\", \"marker\": {\"color\": \"#EF553B\"}, \"name\": \"Job Function=Multimedia Production / Graphic Design\", \"offsetgroup\": \"Job Function=Multimedia Production / Graphic Design\", \"orientation\": \"v\", \"showlegend\": true, \"textposition\": \"auto\", \"x\": [\"not specified\", \"bachelors\", \"masters\", \"mba\"], \"xaxis\": \"x\", \"y\": [58.0, 22.0, 17.0, 3.0], \"yaxis\": \"y\", \"type\": \"bar\"}, {\"alignmentgroup\": \"True\", \"hoverlabel\": {\"namelength\": 0}, \"hovertemplate\": \"Job Function=Transportation & Logistics<br>Year=2018<br>Degree=%{x}<br>degree_type=%{y}\", \"legendgroup\": \"Job Function=Transportation & Logistics\", \"marker\": {\"color\": \"#00cc96\"}, \"name\": \"Job Function=Transportation & Logistics\", \"offsetgroup\": \"Job Function=Transportation & Logistics\", \"orientation\": \"v\", \"showlegend\": true, \"textposition\": \"auto\", \"x\": [\"bachelors\", \"not specified\", \"masters\", \"mba\", \"phd\"], \"xaxis\": \"x\", \"y\": [48.0, 34.0, 16.0, 2.0, 0.0], \"yaxis\": \"y\", \"type\": \"bar\"}, {\"alignmentgroup\": \"True\", \"hoverlabel\": {\"namelength\": 0}, \"hovertemplate\": \"Job Function=Other - Government Affairs<br>Year=2018<br>Degree=%{x}<br>degree_type=%{y}\", \"legendgroup\": \"Job Function=Other - Government Affairs\", \"marker\": {\"color\": \"#ab63fa\"}, \"name\": \"Job Function=Other - Government Affairs\", \"offsetgroup\": \"Job Function=Other - Government Affairs\", \"orientation\": \"v\", \"showlegend\": true, \"textposition\": \"auto\", \"x\": [\"bachelors\", \"not specified\", \"masters\", \"mba\"], \"xaxis\": \"x\", \"y\": [48.0, 32.0, 18.0, 2.0], \"yaxis\": \"y\", \"type\": \"bar\"}], \"name\": \"2018\"}, {\"data\": [{\"alignmentgroup\": \"True\", \"hoverlabel\": {\"namelength\": 0}, \"hovertemplate\": \"Job Function=Other<br>Year=2019<br>Degree=%{x}<br>degree_type=%{y}\", \"legendgroup\": \"Job Function=Other\", \"marker\": {\"color\": \"#636efa\"}, \"name\": \"Job Function=Other\", \"offsetgroup\": \"Job Function=Other\", \"orientation\": \"v\", \"showlegend\": true, \"textposition\": \"auto\", \"x\": [\"bachelors\", \"mba\", \"masters\", \"not specified\", \"phd\"], \"xaxis\": \"x\", \"y\": [50.0, 24.0, 14.0, 12.0, 0.0], \"yaxis\": \"y\", \"type\": \"bar\"}, {\"alignmentgroup\": \"True\", \"hoverlabel\": {\"namelength\": 0}, \"hovertemplate\": \"Job Function=Marketing/Business/Sales Management<br>Year=2019<br>Degree=%{x}<br>degree_type=%{y}\", \"legendgroup\": \"Job Function=Marketing/Business/Sales Management\", \"marker\": {\"color\": \"#EF553B\"}, \"name\": \"Job Function=Marketing/Business/Sales Management\", \"offsetgroup\": \"Job Function=Marketing/Business/Sales Management\", \"orientation\": \"v\", \"showlegend\": true, \"textposition\": \"auto\", \"x\": [\"bachelors\", \"not specified\", \"masters\", \"mba\", \"phd\"], \"xaxis\": \"x\", \"y\": [40.0, 35.0, 19.0, 5.0, 1.0], \"yaxis\": \"y\", \"type\": \"bar\"}, {\"alignmentgroup\": \"True\", \"hoverlabel\": {\"namelength\": 0}, \"hovertemplate\": \"Job Function=Financial Services<br>Year=2019<br>Degree=%{x}<br>degree_type=%{y}\", \"legendgroup\": \"Job Function=Financial Services\", \"marker\": {\"color\": \"#00cc96\"}, \"name\": \"Job Function=Financial Services\", \"offsetgroup\": \"Job Function=Financial Services\", \"orientation\": \"v\", \"showlegend\": true, \"textposition\": \"auto\", \"x\": [\"bachelors\", \"not specified\", \"masters\", \"mba\", \"phd\"], \"xaxis\": \"x\", \"y\": [45.0, 33.0, 16.0, 7.0, 0.0], \"yaxis\": \"y\", \"type\": \"bar\"}, {\"alignmentgroup\": \"True\", \"hoverlabel\": {\"namelength\": 0}, \"hovertemplate\": \"Job Function=Professional Services<br>Year=2019<br>Degree=%{x}<br>degree_type=%{y}\", \"legendgroup\": \"Job Function=Professional Services\", \"marker\": {\"color\": \"#ab63fa\"}, \"name\": \"Job Function=Professional Services\", \"offsetgroup\": \"Job Function=Professional Services\", \"orientation\": \"v\", \"showlegend\": true, \"textposition\": \"auto\", \"x\": [\"bachelors\", \"not specified\", \"masters\", \"phd\"], \"xaxis\": \"x\", \"y\": [43.0, 34.0, 22.0, 1.0], \"yaxis\": \"y\", \"type\": \"bar\"}, {\"alignmentgroup\": \"True\", \"hoverlabel\": {\"namelength\": 0}, \"hovertemplate\": \"Job Function=Technology<br>Year=2019<br>Degree=%{x}<br>degree_type=%{y}\", \"legendgroup\": \"Job Function=Technology\", \"marker\": {\"color\": \"#FFA15A\"}, \"name\": \"Job Function=Technology\", \"offsetgroup\": \"Job Function=Technology\", \"orientation\": \"v\", \"showlegend\": true, \"textposition\": \"auto\", \"x\": [\"bachelors\", \"not specified\", \"masters\", \"mba\", \"phd\"], \"xaxis\": \"x\", \"y\": [46.0, 28.0, 21.0, 4.0, 1.0], \"yaxis\": \"y\", \"type\": \"bar\"}, {\"alignmentgroup\": \"True\", \"hoverlabel\": {\"namelength\": 0}, \"hovertemplate\": \"Job Function=Consulting<br>Year=2019<br>Degree=%{x}<br>degree_type=%{y}\", \"legendgroup\": \"Job Function=Consulting\", \"marker\": {\"color\": \"#FF6692\"}, \"name\": \"Job Function=Consulting\", \"offsetgroup\": \"Job Function=Consulting\", \"orientation\": \"v\", \"showlegend\": true, \"textposition\": \"auto\", \"x\": [\"bachelors\", \"not specified\", \"masters\", \"mba\", \"phd\"], \"xaxis\": \"x\", \"y\": [49.0, 21.0, 16.0, 13.0, 1.0], \"yaxis\": \"y\", \"type\": \"bar\"}, {\"alignmentgroup\": \"True\", \"hoverlabel\": {\"namelength\": 0}, \"hovertemplate\": \"Job Function=Real Estate & Construction<br>Year=2019<br>Degree=%{x}<br>degree_type=%{y}\", \"legendgroup\": \"Job Function=Real Estate & Construction\", \"marker\": {\"color\": \"#FF97FF\"}, \"name\": \"Job Function=Real Estate & Construction\", \"offsetgroup\": \"Job Function=Real Estate & Construction\", \"orientation\": \"v\", \"showlegend\": true, \"textposition\": \"auto\", \"x\": [\"not specified\", \"bachelors\", \"masters\", \"phd\"], \"xaxis\": \"x\", \"y\": [41.0, 41.0, 13.0, 5.0], \"yaxis\": \"y\", \"type\": \"bar\"}, {\"alignmentgroup\": \"True\", \"hoverlabel\": {\"namelength\": 0}, \"hovertemplate\": \"Job Function=Transportation & Logistics<br>Year=2019<br>Degree=%{x}<br>degree_type=%{y}\", \"legendgroup\": \"Job Function=Transportation & Logistics\", \"marker\": {\"color\": \"#00cc96\"}, \"name\": \"Job Function=Transportation & Logistics\", \"offsetgroup\": \"Job Function=Transportation & Logistics\", \"orientation\": \"v\", \"showlegend\": true, \"textposition\": \"auto\", \"x\": [\"bachelors\", \"not specified\", \"masters\", \"mba\", \"phd\"], \"xaxis\": \"x\", \"y\": [53.0, 32.0, 13.0, 1.0, 1.0], \"yaxis\": \"y\", \"type\": \"bar\"}, {\"alignmentgroup\": \"True\", \"hoverlabel\": {\"namelength\": 0}, \"hovertemplate\": \"Job Function=Other - Government Affairs<br>Year=2019<br>Degree=%{x}<br>degree_type=%{y}\", \"legendgroup\": \"Job Function=Other - Government Affairs\", \"marker\": {\"color\": \"#ab63fa\"}, \"name\": \"Job Function=Other - Government Affairs\", \"offsetgroup\": \"Job Function=Other - Government Affairs\", \"orientation\": \"v\", \"showlegend\": true, \"textposition\": \"auto\", \"x\": [\"bachelors\", \"not specified\", \"masters\", \"phd\"], \"xaxis\": \"x\", \"y\": [64.0, 21.0, 13.0, 3.0], \"yaxis\": \"y\", \"type\": \"bar\"}], \"name\": \"2019\"}, {\"data\": [{\"alignmentgroup\": \"True\", \"hoverlabel\": {\"namelength\": 0}, \"hovertemplate\": \"Job Function=Other<br>Year=2020<br>Degree=%{x}<br>degree_type=%{y}\", \"legendgroup\": \"Job Function=Other\", \"marker\": {\"color\": \"#636efa\"}, \"name\": \"Job Function=Other\", \"offsetgroup\": \"Job Function=Other\", \"orientation\": \"v\", \"showlegend\": true, \"textposition\": \"auto\", \"x\": [\"bachelors\", \"mba\", \"not specified\", \"masters\", \"phd\"], \"xaxis\": \"x\", \"y\": [57.0, 22.0, 11.0, 10.0, 0.0], \"yaxis\": \"y\", \"type\": \"bar\"}, {\"alignmentgroup\": \"True\", \"hoverlabel\": {\"namelength\": 0}, \"hovertemplate\": \"Job Function=Marketing/Business/Sales Management<br>Year=2020<br>Degree=%{x}<br>degree_type=%{y}\", \"legendgroup\": \"Job Function=Marketing/Business/Sales Management\", \"marker\": {\"color\": \"#EF553B\"}, \"name\": \"Job Function=Marketing/Business/Sales Management\", \"offsetgroup\": \"Job Function=Marketing/Business/Sales Management\", \"orientation\": \"v\", \"showlegend\": true, \"textposition\": \"auto\", \"x\": [\"bachelors\", \"not specified\", \"masters\", \"mba\"], \"xaxis\": \"x\", \"y\": [51.0, 31.0, 15.0, 3.0], \"yaxis\": \"y\", \"type\": \"bar\"}, {\"alignmentgroup\": \"True\", \"hoverlabel\": {\"namelength\": 0}, \"hovertemplate\": \"Job Function=Financial Services<br>Year=2020<br>Degree=%{x}<br>degree_type=%{y}\", \"legendgroup\": \"Job Function=Financial Services\", \"marker\": {\"color\": \"#00cc96\"}, \"name\": \"Job Function=Financial Services\", \"offsetgroup\": \"Job Function=Financial Services\", \"orientation\": \"v\", \"showlegend\": true, \"textposition\": \"auto\", \"x\": [\"bachelors\", \"not specified\", \"masters\", \"mba\"], \"xaxis\": \"x\", \"y\": [52.0, 30.0, 16.0, 2.0], \"yaxis\": \"y\", \"type\": \"bar\"}, {\"alignmentgroup\": \"True\", \"hoverlabel\": {\"namelength\": 0}, \"hovertemplate\": \"Job Function=Professional Services<br>Year=2020<br>Degree=%{x}<br>degree_type=%{y}\", \"legendgroup\": \"Job Function=Professional Services\", \"marker\": {\"color\": \"#ab63fa\"}, \"name\": \"Job Function=Professional Services\", \"offsetgroup\": \"Job Function=Professional Services\", \"orientation\": \"v\", \"showlegend\": true, \"textposition\": \"auto\", \"x\": [\"bachelors\", \"not specified\", \"masters\", \"mba\"], \"xaxis\": \"x\", \"y\": [73.0, 18.0, 7.0, 2.0], \"yaxis\": \"y\", \"type\": \"bar\"}, {\"alignmentgroup\": \"True\", \"hoverlabel\": {\"namelength\": 0}, \"hovertemplate\": \"Job Function=Technology<br>Year=2020<br>Degree=%{x}<br>degree_type=%{y}\", \"legendgroup\": \"Job Function=Technology\", \"marker\": {\"color\": \"#FFA15A\"}, \"name\": \"Job Function=Technology\", \"offsetgroup\": \"Job Function=Technology\", \"orientation\": \"v\", \"showlegend\": true, \"textposition\": \"auto\", \"x\": [\"bachelors\", \"not specified\", \"masters\", \"mba\"], \"xaxis\": \"x\", \"y\": [60.0, 25.0, 12.0, 4.0], \"yaxis\": \"y\", \"type\": \"bar\"}, {\"alignmentgroup\": \"True\", \"hoverlabel\": {\"namelength\": 0}, \"hovertemplate\": \"Job Function=Consulting<br>Year=2020<br>Degree=%{x}<br>degree_type=%{y}\", \"legendgroup\": \"Job Function=Consulting\", \"marker\": {\"color\": \"#FF6692\"}, \"name\": \"Job Function=Consulting\", \"offsetgroup\": \"Job Function=Consulting\", \"orientation\": \"v\", \"showlegend\": true, \"textposition\": \"auto\", \"x\": [\"bachelors\", \"not specified\", \"masters\", \"mba\", \"phd\"], \"xaxis\": \"x\", \"y\": [65.0, 20.0, 11.0, 3.0, 1.0], \"yaxis\": \"y\", \"type\": \"bar\"}, {\"alignmentgroup\": \"True\", \"hoverlabel\": {\"namelength\": 0}, \"hovertemplate\": \"Job Function=Real Estate & Construction<br>Year=2020<br>Degree=%{x}<br>degree_type=%{y}\", \"legendgroup\": \"Job Function=Real Estate & Construction\", \"marker\": {\"color\": \"#FF97FF\"}, \"name\": \"Job Function=Real Estate & Construction\", \"offsetgroup\": \"Job Function=Real Estate & Construction\", \"orientation\": \"v\", \"showlegend\": true, \"textposition\": \"auto\", \"x\": [\"bachelors\", \"not specified\", \"masters\", \"mba\"], \"xaxis\": \"x\", \"y\": [71.0, 18.0, 8.0, 3.0], \"yaxis\": \"y\", \"type\": \"bar\"}, {\"alignmentgroup\": \"True\", \"hoverlabel\": {\"namelength\": 0}, \"hovertemplate\": \"Job Function=Transportation & Logistics<br>Year=2020<br>Degree=%{x}<br>degree_type=%{y}\", \"legendgroup\": \"Job Function=Transportation & Logistics\", \"marker\": {\"color\": \"#00cc96\"}, \"name\": \"Job Function=Transportation & Logistics\", \"offsetgroup\": \"Job Function=Transportation & Logistics\", \"orientation\": \"v\", \"showlegend\": true, \"textposition\": \"auto\", \"x\": [\"bachelors\", \"not specified\", \"masters\", \"mba\", \"phd\"], \"xaxis\": \"x\", \"y\": [67.0, 22.0, 8.0, 3.0, 1.0], \"yaxis\": \"y\", \"type\": \"bar\"}, {\"alignmentgroup\": \"True\", \"hoverlabel\": {\"namelength\": 0}, \"hovertemplate\": \"Job Function=Other - Government Affairs<br>Year=2020<br>Degree=%{x}<br>degree_type=%{y}\", \"legendgroup\": \"Job Function=Other - Government Affairs\", \"marker\": {\"color\": \"#ab63fa\"}, \"name\": \"Job Function=Other - Government Affairs\", \"offsetgroup\": \"Job Function=Other - Government Affairs\", \"orientation\": \"v\", \"showlegend\": true, \"textposition\": \"auto\", \"x\": [\"bachelors\", \"not specified\", \"masters\", \"mba\"], \"xaxis\": \"x\", \"y\": [58.0, 27.0, 11.0, 4.0], \"yaxis\": \"y\", \"type\": \"bar\"}], \"name\": \"2020\"}]);\n",
              "                        }).then(function(){\n",
              "                            \n",
              "var gd = document.getElementById('ef816a3f-bfdd-4044-8540-4caafd82c5b2');\n",
              "var x = new MutationObserver(function (mutations, observer) {{\n",
              "        var display = window.getComputedStyle(gd).display;\n",
              "        if (!display || display === 'none') {{\n",
              "            console.log([gd, 'removed!']);\n",
              "            Plotly.purge(gd);\n",
              "            observer.disconnect();\n",
              "        }}\n",
              "}});\n",
              "\n",
              "// Listen for the removal of the full notebook cells\n",
              "var notebookContainer = gd.closest('#notebook-container');\n",
              "if (notebookContainer) {{\n",
              "    x.observe(notebookContainer, {childList: true});\n",
              "}}\n",
              "\n",
              "// Listen for the clearing of the current output cell\n",
              "var outputEl = gd.closest('.output');\n",
              "if (outputEl) {{\n",
              "    x.observe(outputEl, {childList: true});\n",
              "}}\n",
              "\n",
              "                        })\n",
              "                };\n",
              "                \n",
              "            </script>\n",
              "        </div>\n",
              "</body>\n",
              "</html>"
            ]
          },
          "metadata": {
            "tags": []
          }
        }
      ]
    },
    {
      "cell_type": "code",
      "metadata": {
        "id": "ZJSEEqUJ2GIy",
        "colab_type": "code",
        "colab": {}
      },
      "source": [
        "DegreeData['On Campus'] = 'NonOCI'"
      ],
      "execution_count": null,
      "outputs": []
    },
    {
      "cell_type": "code",
      "metadata": {
        "id": "NwuNc1932Kj_",
        "colab_type": "code",
        "colab": {}
      },
      "source": [
        "DegreeData.to_csv(\"NonOciDegree.csv\")"
      ],
      "execution_count": null,
      "outputs": []
    },
    {
      "cell_type": "code",
      "metadata": {
        "id": "0_utebyU0yRm",
        "colab_type": "code",
        "colab": {
          "base_uri": "https://localhost:8080/",
          "height": 302
        },
        "outputId": "49facbe7-dba5-4fac-e7ad-a8ca1b3686b1"
      },
      "source": [
        "pip install gensim"
      ],
      "execution_count": 1,
      "outputs": [
        {
          "output_type": "stream",
          "text": [
            "Requirement already satisfied: gensim in /usr/local/lib/python3.6/dist-packages (3.6.0)\n",
            "Requirement already satisfied: smart-open>=1.2.1 in /usr/local/lib/python3.6/dist-packages (from gensim) (2.1.0)\n",
            "Requirement already satisfied: six>=1.5.0 in /usr/local/lib/python3.6/dist-packages (from gensim) (1.15.0)\n",
            "Requirement already satisfied: scipy>=0.18.1 in /usr/local/lib/python3.6/dist-packages (from gensim) (1.4.1)\n",
            "Requirement already satisfied: numpy>=1.11.3 in /usr/local/lib/python3.6/dist-packages (from gensim) (1.18.5)\n",
            "Requirement already satisfied: boto in /usr/local/lib/python3.6/dist-packages (from smart-open>=1.2.1->gensim) (2.49.0)\n",
            "Requirement already satisfied: requests in /usr/local/lib/python3.6/dist-packages (from smart-open>=1.2.1->gensim) (2.23.0)\n",
            "Requirement already satisfied: boto3 in /usr/local/lib/python3.6/dist-packages (from smart-open>=1.2.1->gensim) (1.14.48)\n",
            "Requirement already satisfied: urllib3!=1.25.0,!=1.25.1,<1.26,>=1.21.1 in /usr/local/lib/python3.6/dist-packages (from requests->smart-open>=1.2.1->gensim) (1.24.3)\n",
            "Requirement already satisfied: certifi>=2017.4.17 in /usr/local/lib/python3.6/dist-packages (from requests->smart-open>=1.2.1->gensim) (2020.6.20)\n",
            "Requirement already satisfied: idna<3,>=2.5 in /usr/local/lib/python3.6/dist-packages (from requests->smart-open>=1.2.1->gensim) (2.10)\n",
            "Requirement already satisfied: chardet<4,>=3.0.2 in /usr/local/lib/python3.6/dist-packages (from requests->smart-open>=1.2.1->gensim) (3.0.4)\n",
            "Requirement already satisfied: s3transfer<0.4.0,>=0.3.0 in /usr/local/lib/python3.6/dist-packages (from boto3->smart-open>=1.2.1->gensim) (0.3.3)\n",
            "Requirement already satisfied: jmespath<1.0.0,>=0.7.1 in /usr/local/lib/python3.6/dist-packages (from boto3->smart-open>=1.2.1->gensim) (0.10.0)\n",
            "Requirement already satisfied: botocore<1.18.0,>=1.17.48 in /usr/local/lib/python3.6/dist-packages (from boto3->smart-open>=1.2.1->gensim) (1.17.48)\n",
            "Requirement already satisfied: docutils<0.16,>=0.10 in /usr/local/lib/python3.6/dist-packages (from botocore<1.18.0,>=1.17.48->boto3->smart-open>=1.2.1->gensim) (0.15.2)\n",
            "Requirement already satisfied: python-dateutil<3.0.0,>=2.1 in /usr/local/lib/python3.6/dist-packages (from botocore<1.18.0,>=1.17.48->boto3->smart-open>=1.2.1->gensim) (2.8.1)\n"
          ],
          "name": "stdout"
        }
      ]
    },
    {
      "cell_type": "code",
      "metadata": {
        "id": "P8910Jlq0zz2",
        "colab_type": "code",
        "colab": {}
      },
      "source": [
        "import warnings   \n",
        "warnings.filterwarnings(action = 'ignore') \n",
        "  \n",
        "import gensim \n",
        "from gensim.models import Word2Vec \n"
      ],
      "execution_count": 2,
      "outputs": []
    },
    {
      "cell_type": "code",
      "metadata": {
        "colab_type": "code",
        "id": "ml_Y6cs6Twx9",
        "colab": {
          "base_uri": "https://localhost:8080/",
          "height": 178
        },
        "outputId": "5b83f1bd-e0c3-4ded-d1e4-9b3940382103"
      },
      "source": [
        "df_skills_top = df_skills_top.sort_values(['Job Function', 'Year', 'cnt'], ascending=[True, True, False])\n",
        "print(df_skills_top)"
      ],
      "execution_count": 6,
      "outputs": [
        {
          "output_type": "error",
          "ename": "NameError",
          "evalue": "ignored",
          "traceback": [
            "\u001b[0;31m---------------------------------------------------------------------------\u001b[0m",
            "\u001b[0;31mNameError\u001b[0m                                 Traceback (most recent call last)",
            "\u001b[0;32m<ipython-input-6-5f5018899064>\u001b[0m in \u001b[0;36m<module>\u001b[0;34m()\u001b[0m\n\u001b[0;32m----> 1\u001b[0;31m \u001b[0mdf_skills_top\u001b[0m \u001b[0;34m=\u001b[0m \u001b[0mdf_skills_top\u001b[0m\u001b[0;34m.\u001b[0m\u001b[0msort_values\u001b[0m\u001b[0;34m(\u001b[0m\u001b[0;34m[\u001b[0m\u001b[0;34m'Job Function'\u001b[0m\u001b[0;34m,\u001b[0m \u001b[0;34m'Year'\u001b[0m\u001b[0;34m,\u001b[0m \u001b[0;34m'cnt'\u001b[0m\u001b[0;34m]\u001b[0m\u001b[0;34m,\u001b[0m \u001b[0mascending\u001b[0m\u001b[0;34m=\u001b[0m\u001b[0;34m[\u001b[0m\u001b[0;32mTrue\u001b[0m\u001b[0;34m,\u001b[0m \u001b[0;32mTrue\u001b[0m\u001b[0;34m,\u001b[0m \u001b[0;32mFalse\u001b[0m\u001b[0;34m]\u001b[0m\u001b[0;34m)\u001b[0m\u001b[0;34m\u001b[0m\u001b[0;34m\u001b[0m\u001b[0m\n\u001b[0m\u001b[1;32m      2\u001b[0m \u001b[0mprint\u001b[0m\u001b[0;34m(\u001b[0m\u001b[0mdf_skills_top\u001b[0m\u001b[0;34m)\u001b[0m\u001b[0;34m\u001b[0m\u001b[0;34m\u001b[0m\u001b[0m\n",
            "\u001b[0;31mNameError\u001b[0m: name 'df_skills_top' is not defined"
          ]
        }
      ]
    },
    {
      "cell_type": "code",
      "metadata": {
        "id": "Ohub35cPTeoM",
        "colab_type": "code",
        "colab": {}
      },
      "source": [
        ""
      ],
      "execution_count": null,
      "outputs": []
    }
  ]
}